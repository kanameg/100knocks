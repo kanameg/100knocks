{
 "metadata": {
  "language_info": {
   "codemirror_mode": {
    "name": "ipython",
    "version": 3
   },
   "file_extension": ".py",
   "mimetype": "text/x-python",
   "name": "python",
   "nbconvert_exporter": "python",
   "pygments_lexer": "ipython3",
   "version": "3.9.6"
  },
  "orig_nbformat": 4,
  "kernelspec": {
   "name": "python3",
   "display_name": "Python 3.9.6 64-bit"
  },
  "interpreter": {
   "hash": "4cd7ab41f5fca4b9b44701077e38c5ffd31fe66a6cab21e0214b68d958d0e462"
  }
 },
 "nbformat": 4,
 "nbformat_minor": 2,
 "cells": [
  {
   "source": [
    "## DataFrame groupbyの勉強"
   ],
   "cell_type": "markdown",
   "metadata": {}
  },
  {
   "source": [
    "### ライブラリ読み込み"
   ],
   "cell_type": "markdown",
   "metadata": {}
  },
  {
   "cell_type": "code",
   "execution_count": 15,
   "metadata": {},
   "outputs": [],
   "source": [
    "import matplotlib.pyplot as plt\n",
    "import numpy as np\n",
    "import pandas as pd\n",
    "import seaborn as sns\n",
    "\n",
    "%matplotlib inline"
   ]
  },
  {
   "source": [
    "### データの作成"
   ],
   "cell_type": "markdown",
   "metadata": {}
  },
  {
   "cell_type": "code",
   "execution_count": 8,
   "metadata": {},
   "outputs": [
    {
     "output_type": "execute_result",
     "data": {
      "text/plain": [
       "    city    food  price  quantity\n",
       "0  osaka   apple    100         1\n",
       "1  osaka  orange    200         2\n",
       "2  osaka  banana    250         3\n",
       "3  osaka  banana    300         4\n",
       "4  tokyo   apple    150         5\n",
       "5  tokyo   apple    200         6\n",
       "6  tokyo  banana    400         7"
      ],
      "text/html": "<div>\n<style scoped>\n    .dataframe tbody tr th:only-of-type {\n        vertical-align: middle;\n    }\n\n    .dataframe tbody tr th {\n        vertical-align: top;\n    }\n\n    .dataframe thead th {\n        text-align: right;\n    }\n</style>\n<table border=\"1\" class=\"dataframe\">\n  <thead>\n    <tr style=\"text-align: right;\">\n      <th></th>\n      <th>city</th>\n      <th>food</th>\n      <th>price</th>\n      <th>quantity</th>\n    </tr>\n  </thead>\n  <tbody>\n    <tr>\n      <th>0</th>\n      <td>osaka</td>\n      <td>apple</td>\n      <td>100</td>\n      <td>1</td>\n    </tr>\n    <tr>\n      <th>1</th>\n      <td>osaka</td>\n      <td>orange</td>\n      <td>200</td>\n      <td>2</td>\n    </tr>\n    <tr>\n      <th>2</th>\n      <td>osaka</td>\n      <td>banana</td>\n      <td>250</td>\n      <td>3</td>\n    </tr>\n    <tr>\n      <th>3</th>\n      <td>osaka</td>\n      <td>banana</td>\n      <td>300</td>\n      <td>4</td>\n    </tr>\n    <tr>\n      <th>4</th>\n      <td>tokyo</td>\n      <td>apple</td>\n      <td>150</td>\n      <td>5</td>\n    </tr>\n    <tr>\n      <th>5</th>\n      <td>tokyo</td>\n      <td>apple</td>\n      <td>200</td>\n      <td>6</td>\n    </tr>\n    <tr>\n      <th>6</th>\n      <td>tokyo</td>\n      <td>banana</td>\n      <td>400</td>\n      <td>7</td>\n    </tr>\n  </tbody>\n</table>\n</div>"
     },
     "metadata": {},
     "execution_count": 8
    }
   ],
   "source": [
    "df = pd.DataFrame({\n",
    "    'city': ['osaka', 'osaka', 'osaka', 'osaka', 'tokyo', 'tokyo', 'tokyo'],\n",
    "    'food': ['apple', 'orange', 'banana', 'banana', 'apple', 'apple', 'banana'],\n",
    "    'price': [100, 200, 250, 300, 150, 200, 400],\n",
    "    'quantity': [1, 2, 3, 4, 5, 6, 7]\n",
    "})\n",
    "df"
   ]
  },
  {
   "source": [
    "### カラム、インデックス情報"
   ],
   "cell_type": "markdown",
   "metadata": {}
  },
  {
   "cell_type": "code",
   "execution_count": 11,
   "metadata": {},
   "outputs": [
    {
     "output_type": "execute_result",
     "data": {
      "text/plain": [
       "Index(['city', 'food', 'price', 'quantity'], dtype='object')"
      ]
     },
     "metadata": {},
     "execution_count": 11
    }
   ],
   "source": [
    "df.columns"
   ]
  },
  {
   "cell_type": "code",
   "execution_count": 10,
   "metadata": {},
   "outputs": [
    {
     "output_type": "execute_result",
     "data": {
      "text/plain": [
       "RangeIndex(start=0, stop=7, step=1)"
      ]
     },
     "metadata": {},
     "execution_count": 10
    }
   ],
   "source": [
    "df.index"
   ]
  },
  {
   "source": [
    "### city情報ごとに分類して平均を求める\n",
    "分類するので離散データでしか分類できない"
   ],
   "cell_type": "markdown",
   "metadata": {}
  },
  {
   "cell_type": "code",
   "execution_count": 12,
   "metadata": {},
   "outputs": [
    {
     "output_type": "execute_result",
     "data": {
      "text/plain": [
       "       price  quantity\n",
       "city                  \n",
       "osaka  212.5       2.5\n",
       "tokyo  250.0       6.0"
      ],
      "text/html": "<div>\n<style scoped>\n    .dataframe tbody tr th:only-of-type {\n        vertical-align: middle;\n    }\n\n    .dataframe tbody tr th {\n        vertical-align: top;\n    }\n\n    .dataframe thead th {\n        text-align: right;\n    }\n</style>\n<table border=\"1\" class=\"dataframe\">\n  <thead>\n    <tr style=\"text-align: right;\">\n      <th></th>\n      <th>price</th>\n      <th>quantity</th>\n    </tr>\n    <tr>\n      <th>city</th>\n      <th></th>\n      <th></th>\n    </tr>\n  </thead>\n  <tbody>\n    <tr>\n      <th>osaka</th>\n      <td>212.5</td>\n      <td>2.5</td>\n    </tr>\n    <tr>\n      <th>tokyo</th>\n      <td>250.0</td>\n      <td>6.0</td>\n    </tr>\n  </tbody>\n</table>\n</div>"
     },
     "metadata": {},
     "execution_count": 12
    }
   ],
   "source": [
    "df.groupby('city').mean()"
   ]
  },
  {
   "cell_type": "code",
   "execution_count": 14,
   "metadata": {},
   "outputs": [
    {
     "output_type": "execute_result",
     "data": {
      "text/plain": [
       "              price  quantity\n",
       "city  food                   \n",
       "osaka apple   100.0       1.0\n",
       "      banana  275.0       3.5\n",
       "      orange  200.0       2.0\n",
       "tokyo apple   175.0       5.5\n",
       "      banana  400.0       7.0"
      ],
      "text/html": "<div>\n<style scoped>\n    .dataframe tbody tr th:only-of-type {\n        vertical-align: middle;\n    }\n\n    .dataframe tbody tr th {\n        vertical-align: top;\n    }\n\n    .dataframe thead th {\n        text-align: right;\n    }\n</style>\n<table border=\"1\" class=\"dataframe\">\n  <thead>\n    <tr style=\"text-align: right;\">\n      <th></th>\n      <th></th>\n      <th>price</th>\n      <th>quantity</th>\n    </tr>\n    <tr>\n      <th>city</th>\n      <th>food</th>\n      <th></th>\n      <th></th>\n    </tr>\n  </thead>\n  <tbody>\n    <tr>\n      <th rowspan=\"3\" valign=\"top\">osaka</th>\n      <th>apple</th>\n      <td>100.0</td>\n      <td>1.0</td>\n    </tr>\n    <tr>\n      <th>banana</th>\n      <td>275.0</td>\n      <td>3.5</td>\n    </tr>\n    <tr>\n      <th>orange</th>\n      <td>200.0</td>\n      <td>2.0</td>\n    </tr>\n    <tr>\n      <th rowspan=\"2\" valign=\"top\">tokyo</th>\n      <th>apple</th>\n      <td>175.0</td>\n      <td>5.5</td>\n    </tr>\n    <tr>\n      <th>banana</th>\n      <td>400.0</td>\n      <td>7.0</td>\n    </tr>\n  </tbody>\n</table>\n</div>"
     },
     "metadata": {},
     "execution_count": 14
    }
   ],
   "source": [
    "df.groupby(['city', 'food']).mean()"
   ]
  },
  {
   "cell_type": "code",
   "execution_count": 18,
   "metadata": {},
   "outputs": [
    {
     "output_type": "execute_result",
     "data": {
      "text/plain": [
       "    city    food  price  quantity\n",
       "0  osaka   apple  100.0       1.0\n",
       "1  osaka  banana  275.0       3.5\n",
       "2  osaka  orange  200.0       2.0\n",
       "3  tokyo   apple  175.0       5.5\n",
       "4  tokyo  banana  400.0       7.0"
      ],
      "text/html": "<div>\n<style scoped>\n    .dataframe tbody tr th:only-of-type {\n        vertical-align: middle;\n    }\n\n    .dataframe tbody tr th {\n        vertical-align: top;\n    }\n\n    .dataframe thead th {\n        text-align: right;\n    }\n</style>\n<table border=\"1\" class=\"dataframe\">\n  <thead>\n    <tr style=\"text-align: right;\">\n      <th></th>\n      <th>city</th>\n      <th>food</th>\n      <th>price</th>\n      <th>quantity</th>\n    </tr>\n  </thead>\n  <tbody>\n    <tr>\n      <th>0</th>\n      <td>osaka</td>\n      <td>apple</td>\n      <td>100.0</td>\n      <td>1.0</td>\n    </tr>\n    <tr>\n      <th>1</th>\n      <td>osaka</td>\n      <td>banana</td>\n      <td>275.0</td>\n      <td>3.5</td>\n    </tr>\n    <tr>\n      <th>2</th>\n      <td>osaka</td>\n      <td>orange</td>\n      <td>200.0</td>\n      <td>2.0</td>\n    </tr>\n    <tr>\n      <th>3</th>\n      <td>tokyo</td>\n      <td>apple</td>\n      <td>175.0</td>\n      <td>5.5</td>\n    </tr>\n    <tr>\n      <th>4</th>\n      <td>tokyo</td>\n      <td>banana</td>\n      <td>400.0</td>\n      <td>7.0</td>\n    </tr>\n  </tbody>\n</table>\n</div>"
     },
     "metadata": {},
     "execution_count": 18
    }
   ],
   "source": [
    "df.groupby(['city', 'food'], as_index=False).mean()"
   ]
  },
  {
   "cell_type": "code",
   "execution_count": 19,
   "metadata": {},
   "outputs": [
    {
     "output_type": "execute_result",
     "data": {
      "text/plain": [
       "{'osaka': [0, 1, 2, 3], 'tokyo': [4, 5, 6]}"
      ]
     },
     "metadata": {},
     "execution_count": 19
    }
   ],
   "source": [
    "df.groupby('city').groups"
   ]
  },
  {
   "source": [
    "### get_groupを使って指定のグループだけ取り出す事もできる"
   ],
   "cell_type": "markdown",
   "metadata": {}
  },
  {
   "cell_type": "code",
   "execution_count": 20,
   "metadata": {},
   "outputs": [
    {
     "output_type": "execute_result",
     "data": {
      "text/plain": [
       "    city    food  price  quantity\n",
       "0  osaka   apple    100         1\n",
       "1  osaka  orange    200         2\n",
       "2  osaka  banana    250         3\n",
       "3  osaka  banana    300         4"
      ],
      "text/html": "<div>\n<style scoped>\n    .dataframe tbody tr th:only-of-type {\n        vertical-align: middle;\n    }\n\n    .dataframe tbody tr th {\n        vertical-align: top;\n    }\n\n    .dataframe thead th {\n        text-align: right;\n    }\n</style>\n<table border=\"1\" class=\"dataframe\">\n  <thead>\n    <tr style=\"text-align: right;\">\n      <th></th>\n      <th>city</th>\n      <th>food</th>\n      <th>price</th>\n      <th>quantity</th>\n    </tr>\n  </thead>\n  <tbody>\n    <tr>\n      <th>0</th>\n      <td>osaka</td>\n      <td>apple</td>\n      <td>100</td>\n      <td>1</td>\n    </tr>\n    <tr>\n      <th>1</th>\n      <td>osaka</td>\n      <td>orange</td>\n      <td>200</td>\n      <td>2</td>\n    </tr>\n    <tr>\n      <th>2</th>\n      <td>osaka</td>\n      <td>banana</td>\n      <td>250</td>\n      <td>3</td>\n    </tr>\n    <tr>\n      <th>3</th>\n      <td>osaka</td>\n      <td>banana</td>\n      <td>300</td>\n      <td>4</td>\n    </tr>\n  </tbody>\n</table>\n</div>"
     },
     "metadata": {},
     "execution_count": 20
    }
   ],
   "source": [
    "df.groupby('city').get_group('osaka')"
   ]
  },
  {
   "source": [
    "### さまざまなアグリゲーション\n",
    "groupbyしたものに対してグループごとの値を求めることをアグリゲーションという  \n",
    "基本的なものはメソッドでも実装されているが、agg()を使うとさまざまな処理を行うことができる"
   ],
   "cell_type": "markdown",
   "metadata": {}
  },
  {
   "cell_type": "code",
   "execution_count": 21,
   "metadata": {},
   "outputs": [
    {
     "output_type": "execute_result",
     "data": {
      "text/plain": [
       "       price  quantity\n",
       "city                  \n",
       "osaka  212.5       2.5\n",
       "tokyo  250.0       6.0"
      ],
      "text/html": "<div>\n<style scoped>\n    .dataframe tbody tr th:only-of-type {\n        vertical-align: middle;\n    }\n\n    .dataframe tbody tr th {\n        vertical-align: top;\n    }\n\n    .dataframe thead th {\n        text-align: right;\n    }\n</style>\n<table border=\"1\" class=\"dataframe\">\n  <thead>\n    <tr style=\"text-align: right;\">\n      <th></th>\n      <th>price</th>\n      <th>quantity</th>\n    </tr>\n    <tr>\n      <th>city</th>\n      <th></th>\n      <th></th>\n    </tr>\n  </thead>\n  <tbody>\n    <tr>\n      <th>osaka</th>\n      <td>212.5</td>\n      <td>2.5</td>\n    </tr>\n    <tr>\n      <th>tokyo</th>\n      <td>250.0</td>\n      <td>6.0</td>\n    </tr>\n  </tbody>\n</table>\n</div>"
     },
     "metadata": {},
     "execution_count": 21
    }
   ],
   "source": [
    "df.groupby('city').agg(np.mean)"
   ]
  },
  {
   "source": [
    "カラムごとに別々の処理を行うこともできる  \n",
    "priceは平均、quantityは合計"
   ],
   "cell_type": "markdown",
   "metadata": {}
  },
  {
   "cell_type": "code",
   "execution_count": 22,
   "metadata": {},
   "outputs": [
    {
     "output_type": "execute_result",
     "data": {
      "text/plain": [
       "       price  quantity\n",
       "city                  \n",
       "osaka  212.5        10\n",
       "tokyo  250.0        18"
      ],
      "text/html": "<div>\n<style scoped>\n    .dataframe tbody tr th:only-of-type {\n        vertical-align: middle;\n    }\n\n    .dataframe tbody tr th {\n        vertical-align: top;\n    }\n\n    .dataframe thead th {\n        text-align: right;\n    }\n</style>\n<table border=\"1\" class=\"dataframe\">\n  <thead>\n    <tr style=\"text-align: right;\">\n      <th></th>\n      <th>price</th>\n      <th>quantity</th>\n    </tr>\n    <tr>\n      <th>city</th>\n      <th></th>\n      <th></th>\n    </tr>\n  </thead>\n  <tbody>\n    <tr>\n      <th>osaka</th>\n      <td>212.5</td>\n      <td>10</td>\n    </tr>\n    <tr>\n      <th>tokyo</th>\n      <td>250.0</td>\n      <td>18</td>\n    </tr>\n  </tbody>\n</table>\n</div>"
     },
     "metadata": {},
     "execution_count": 22
    }
   ],
   "source": [
    "df.groupby('city').agg({'price': np.mean, 'quantity': np.sum})"
   ]
  },
  {
   "cell_type": "code",
   "execution_count": 41,
   "metadata": {},
   "outputs": [
    {
     "output_type": "execute_result",
     "data": {
      "text/plain": [
       "    city    food   NaN\n",
       "0  osaka   apple   100\n",
       "1  osaka  banana  1950\n",
       "2  osaka  orange   400\n",
       "3  tokyo   apple  1950\n",
       "4  tokyo  banana  2800"
      ],
      "text/html": "<div>\n<style scoped>\n    .dataframe tbody tr th:only-of-type {\n        vertical-align: middle;\n    }\n\n    .dataframe tbody tr th {\n        vertical-align: top;\n    }\n\n    .dataframe thead th {\n        text-align: right;\n    }\n</style>\n<table border=\"1\" class=\"dataframe\">\n  <thead>\n    <tr style=\"text-align: right;\">\n      <th></th>\n      <th>city</th>\n      <th>food</th>\n      <th>NaN</th>\n    </tr>\n  </thead>\n  <tbody>\n    <tr>\n      <th>0</th>\n      <td>osaka</td>\n      <td>apple</td>\n      <td>100</td>\n    </tr>\n    <tr>\n      <th>1</th>\n      <td>osaka</td>\n      <td>banana</td>\n      <td>1950</td>\n    </tr>\n    <tr>\n      <th>2</th>\n      <td>osaka</td>\n      <td>orange</td>\n      <td>400</td>\n    </tr>\n    <tr>\n      <th>3</th>\n      <td>tokyo</td>\n      <td>apple</td>\n      <td>1950</td>\n    </tr>\n    <tr>\n      <th>4</th>\n      <td>tokyo</td>\n      <td>banana</td>\n      <td>2800</td>\n    </tr>\n  </tbody>\n</table>\n</div>"
     },
     "metadata": {},
     "execution_count": 41
    }
   ],
   "source": [
    "df.groupby(['city', 'food'], as_index=False).apply(lambda d: (d.price * d.quantity).sum()) "
   ]
  },
  {
   "cell_type": "code",
   "execution_count": null,
   "metadata": {},
   "outputs": [],
   "source": []
  }
 ]
}