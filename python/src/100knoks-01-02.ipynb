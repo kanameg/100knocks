{
 "metadata": {
  "language_info": {
   "codemirror_mode": {
    "name": "ipython",
    "version": 3
   },
   "file_extension": ".py",
   "mimetype": "text/x-python",
   "name": "python",
   "nbconvert_exporter": "python",
   "pygments_lexer": "ipython3",
   "version": "3.8.6"
  },
  "orig_nbformat": 2,
  "kernelspec": {
   "name": "python3",
   "display_name": "Python 3.8.6 64-bit ('3.8.6': pyenv)",
   "metadata": {
    "interpreter": {
     "hash": "def1443cd7b0494ffc099209d4c7259e5a8304e131c4a6b9a38e7324fcb0905b"
    }
   }
  }
 },
 "nbformat": 4,
 "nbformat_minor": 2,
 "cells": [
  {
   "source": [
    "## 011 データを読み込む"
   ],
   "cell_type": "markdown",
   "metadata": {}
  },
  {
   "cell_type": "code",
   "execution_count": 18,
   "metadata": {},
   "outputs": [],
   "source": [
    "import pandas as pd\n",
    "import seaborn as sns"
   ]
  },
  {
   "cell_type": "code",
   "execution_count": 19,
   "metadata": {},
   "outputs": [
    {
     "output_type": "execute_result",
     "data": {
      "text/plain": [
       "         purchase_date item_name  item_price customer_name\n",
       "0  2019-06-13 18:02:34       商品A       100.0         深井菜々美\n",
       "1  2019-07-13 13:05:29     商 品 S         NaN          浅田賢二\n",
       "2  2019-05-11 19:42:07     商 品 a         NaN          南部慶二\n",
       "3  2019-02-12 23:40:45       商品Z      2600.0          麻生莉緒\n",
       "4  2019-04-22 03:09:35       商品a         NaN          平田鉄二"
      ],
      "text/html": "<div>\n<style scoped>\n    .dataframe tbody tr th:only-of-type {\n        vertical-align: middle;\n    }\n\n    .dataframe tbody tr th {\n        vertical-align: top;\n    }\n\n    .dataframe thead th {\n        text-align: right;\n    }\n</style>\n<table border=\"1\" class=\"dataframe\">\n  <thead>\n    <tr style=\"text-align: right;\">\n      <th></th>\n      <th>purchase_date</th>\n      <th>item_name</th>\n      <th>item_price</th>\n      <th>customer_name</th>\n    </tr>\n  </thead>\n  <tbody>\n    <tr>\n      <th>0</th>\n      <td>2019-06-13 18:02:34</td>\n      <td>商品A</td>\n      <td>100.0</td>\n      <td>深井菜々美</td>\n    </tr>\n    <tr>\n      <th>1</th>\n      <td>2019-07-13 13:05:29</td>\n      <td>商 品 S</td>\n      <td>NaN</td>\n      <td>浅田賢二</td>\n    </tr>\n    <tr>\n      <th>2</th>\n      <td>2019-05-11 19:42:07</td>\n      <td>商 品 a</td>\n      <td>NaN</td>\n      <td>南部慶二</td>\n    </tr>\n    <tr>\n      <th>3</th>\n      <td>2019-02-12 23:40:45</td>\n      <td>商品Z</td>\n      <td>2600.0</td>\n      <td>麻生莉緒</td>\n    </tr>\n    <tr>\n      <th>4</th>\n      <td>2019-04-22 03:09:35</td>\n      <td>商品a</td>\n      <td>NaN</td>\n      <td>平田鉄二</td>\n    </tr>\n  </tbody>\n</table>\n</div>"
     },
     "metadata": {},
     "execution_count": 19
    }
   ],
   "source": [
    "uriage_data = pd.read_csv('./input/100knoks/1-2/uriage.csv')\n",
    "uriage_data.head()"
   ]
  },
  {
   "cell_type": "code",
   "execution_count": 32,
   "metadata": {},
   "outputs": [
    {
     "output_type": "execute_result",
     "data": {
      "text/plain": [
       "        item_price\n",
       "count  2612.000000\n",
       "mean   1296.401225\n",
       "std     717.955460\n",
       "min     100.000000\n",
       "25%     700.000000\n",
       "50%    1300.000000\n",
       "75%    1900.000000\n",
       "max    2600.000000"
      ],
      "text/html": "<div>\n<style scoped>\n    .dataframe tbody tr th:only-of-type {\n        vertical-align: middle;\n    }\n\n    .dataframe tbody tr th {\n        vertical-align: top;\n    }\n\n    .dataframe thead th {\n        text-align: right;\n    }\n</style>\n<table border=\"1\" class=\"dataframe\">\n  <thead>\n    <tr style=\"text-align: right;\">\n      <th></th>\n      <th>item_price</th>\n    </tr>\n  </thead>\n  <tbody>\n    <tr>\n      <th>count</th>\n      <td>2612.000000</td>\n    </tr>\n    <tr>\n      <th>mean</th>\n      <td>1296.401225</td>\n    </tr>\n    <tr>\n      <th>std</th>\n      <td>717.955460</td>\n    </tr>\n    <tr>\n      <th>min</th>\n      <td>100.000000</td>\n    </tr>\n    <tr>\n      <th>25%</th>\n      <td>700.000000</td>\n    </tr>\n    <tr>\n      <th>50%</th>\n      <td>1300.000000</td>\n    </tr>\n    <tr>\n      <th>75%</th>\n      <td>1900.000000</td>\n    </tr>\n    <tr>\n      <th>max</th>\n      <td>2600.000000</td>\n    </tr>\n  </tbody>\n</table>\n</div>"
     },
     "metadata": {},
     "execution_count": 32
    }
   ],
   "source": [
    "uriage_data.describe()"
   ]
  },
  {
   "cell_type": "code",
   "execution_count": 33,
   "metadata": {},
   "outputs": [
    {
     "output_type": "execute_result",
     "data": {
      "text/plain": [
       "purchase_date     datetime64[ns]\n",
       "item_name                 object\n",
       "item_price               float64\n",
       "customer_name             object\n",
       "purchase_month            object\n",
       "dtype: object"
      ]
     },
     "metadata": {},
     "execution_count": 33
    }
   ],
   "source": [
    "uriage_data.dtypes"
   ]
  },
  {
   "cell_type": "code",
   "execution_count": 20,
   "metadata": {},
   "outputs": [
    {
     "output_type": "execute_result",
     "data": {
      "text/plain": [
       "      顧客名        かな  地域                     メールアドレス         登録日\n",
       "0   須賀ひとみ    すが ひとみ  H市     suga_hitomi@example.com  2018/01/04\n",
       "1  岡田　 敏也   おかだ としや  E市   okada_toshiya@example.com  2017年2月16日\n",
       "2    芳賀 希    はが のぞみ  A市     haga_nozomi@example.com  2018/01/07\n",
       "3   荻野  愛    おぎの あい  F市        ogino_ai@example.com  2017年5月17日\n",
       "4   栗田 憲一  くりた けんいち  E市  kurita_kenichi@example.com  2018年1月27日"
      ],
      "text/html": "<div>\n<style scoped>\n    .dataframe tbody tr th:only-of-type {\n        vertical-align: middle;\n    }\n\n    .dataframe tbody tr th {\n        vertical-align: top;\n    }\n\n    .dataframe thead th {\n        text-align: right;\n    }\n</style>\n<table border=\"1\" class=\"dataframe\">\n  <thead>\n    <tr style=\"text-align: right;\">\n      <th></th>\n      <th>顧客名</th>\n      <th>かな</th>\n      <th>地域</th>\n      <th>メールアドレス</th>\n      <th>登録日</th>\n    </tr>\n  </thead>\n  <tbody>\n    <tr>\n      <th>0</th>\n      <td>須賀ひとみ</td>\n      <td>すが ひとみ</td>\n      <td>H市</td>\n      <td>suga_hitomi@example.com</td>\n      <td>2018/01/04</td>\n    </tr>\n    <tr>\n      <th>1</th>\n      <td>岡田　 敏也</td>\n      <td>おかだ としや</td>\n      <td>E市</td>\n      <td>okada_toshiya@example.com</td>\n      <td>2017年2月16日</td>\n    </tr>\n    <tr>\n      <th>2</th>\n      <td>芳賀 希</td>\n      <td>はが のぞみ</td>\n      <td>A市</td>\n      <td>haga_nozomi@example.com</td>\n      <td>2018/01/07</td>\n    </tr>\n    <tr>\n      <th>3</th>\n      <td>荻野  愛</td>\n      <td>おぎの あい</td>\n      <td>F市</td>\n      <td>ogino_ai@example.com</td>\n      <td>2017年5月17日</td>\n    </tr>\n    <tr>\n      <th>4</th>\n      <td>栗田 憲一</td>\n      <td>くりた けんいち</td>\n      <td>E市</td>\n      <td>kurita_kenichi@example.com</td>\n      <td>2018年1月27日</td>\n    </tr>\n  </tbody>\n</table>\n</div>"
     },
     "metadata": {},
     "execution_count": 20
    }
   ],
   "source": [
    "#kokyaku_data = pd.read_excel('./input/100knoks/1-2/kokyaku_daicho.xlsx')\n",
    "kokyaku_data = pd.read_csv('./input/100knoks/1-2/kokyaku_daicho.csv')\n",
    "kokyaku_data.head()"
   ]
  },
  {
   "source": [
    "## 012 データの揺れを見る"
   ],
   "cell_type": "markdown",
   "metadata": {}
  },
  {
   "cell_type": "code",
   "execution_count": 23,
   "metadata": {},
   "outputs": [
    {
     "output_type": "execute_result",
     "data": {
      "text/plain": [
       "0    2019-06-13 18:02:34\n",
       "1    2019-07-13 13:05:29\n",
       "2    2019-05-11 19:42:07\n",
       "3    2019-02-12 23:40:45\n",
       "4    2019-04-22 03:09:35\n",
       "Name: purchase_date, dtype: object"
      ]
     },
     "metadata": {},
     "execution_count": 23
    }
   ],
   "source": [
    "uriage_data['purchase_date'].head()"
   ]
  },
  {
   "cell_type": "code",
   "execution_count": 24,
   "metadata": {},
   "outputs": [
    {
     "output_type": "execute_result",
     "data": {
      "text/plain": [
       "0      商品A\n",
       "1    商 品 S\n",
       "2    商 品 a\n",
       "3      商品Z\n",
       "4      商品a\n",
       "Name: item_name, dtype: object"
      ]
     },
     "metadata": {},
     "execution_count": 24
    }
   ],
   "source": [
    "uriage_data['item_name'].head()"
   ]
  },
  {
   "cell_type": "code",
   "execution_count": 26,
   "metadata": {},
   "outputs": [
    {
     "output_type": "execute_result",
     "data": {
      "text/plain": [
       "0     100.0\n",
       "1       NaN\n",
       "2       NaN\n",
       "3    2600.0\n",
       "4       NaN\n",
       "Name: item_price, dtype: float64"
      ]
     },
     "metadata": {},
     "execution_count": 26
    }
   ],
   "source": [
    "uriage_data['item_price'].head()"
   ]
  },
  {
   "source": [
    "## 013 揺れがあるまま集計"
   ],
   "cell_type": "markdown",
   "metadata": {}
  },
  {
   "cell_type": "code",
   "execution_count": 28,
   "metadata": {},
   "outputs": [
    {
     "output_type": "execute_result",
     "data": {
      "text/plain": [
       "0    201906\n",
       "1    201907\n",
       "2    201905\n",
       "3    201902\n",
       "4    201904\n",
       "Name: purchase_month, dtype: object"
      ]
     },
     "metadata": {},
     "execution_count": 28
    }
   ],
   "source": [
    "uriage_data['purchase_date'] = pd.to_datetime(uriage_data['purchase_date'])\n",
    "uriage_data['purchase_month'] = uriage_data['purchase_date'].dt.strftime(\"%Y%m\")\n",
    "uriage_data['purchase_month'].head()"
   ]
  },
  {
   "cell_type": "code",
   "execution_count": 30,
   "metadata": {},
   "outputs": [
    {
     "output_type": "execute_result",
     "data": {
      "text/plain": [
       "item_name         商品W   商 品 n   商品E   商品M   商品P   商品S   商品W   商品X  商  品O  \\\n",
       "purchase_month                                                             \n",
       "201901              0       1     0     0     0     0     0     0      0   \n",
       "201902              0       0     0     0     0     0     0     1      0   \n",
       "201903              0       0     1     1     1     0     0     0      0   \n",
       "201904              1       0     0     0     0     0     0     0      0   \n",
       "201905              0       0     0     0     0     1     0     0      0   \n",
       "201906              0       0     0     0     0     0     1     0      0   \n",
       "201907              0       0     0     0     0     0     0     0      1   \n",
       "\n",
       "item_name       商  品Q  ...  商品k  商品l  商品o  商品p  商品r  商品s  商品t  商品v  商品x  商品y  \n",
       "purchase_month         ...                                                    \n",
       "201901              0  ...    1    1    1    0    0    0    0    0    0    0  \n",
       "201902              0  ...    0    0    0    0    0    1    1    1    0    0  \n",
       "201903              0  ...    0    0    0    0    0    0    0    0    0    0  \n",
       "201904              1  ...    0    0    0    0    0    1    0    0    0    0  \n",
       "201905              0  ...    0    1    0    0    0    0    0    0    0    1  \n",
       "201906              0  ...    0    0    0    1    0    0    0    0    1    0  \n",
       "201907              0  ...    0    0    1    0    2    0    0    0    0    0  \n",
       "\n",
       "[7 rows x 99 columns]"
      ],
      "text/html": "<div>\n<style scoped>\n    .dataframe tbody tr th:only-of-type {\n        vertical-align: middle;\n    }\n\n    .dataframe tbody tr th {\n        vertical-align: top;\n    }\n\n    .dataframe thead th {\n        text-align: right;\n    }\n</style>\n<table border=\"1\" class=\"dataframe\">\n  <thead>\n    <tr style=\"text-align: right;\">\n      <th>item_name</th>\n      <th>商品W</th>\n      <th>商 品 n</th>\n      <th>商品E</th>\n      <th>商品M</th>\n      <th>商品P</th>\n      <th>商品S</th>\n      <th>商品W</th>\n      <th>商品X</th>\n      <th>商  品O</th>\n      <th>商  品Q</th>\n      <th>...</th>\n      <th>商品k</th>\n      <th>商品l</th>\n      <th>商品o</th>\n      <th>商品p</th>\n      <th>商品r</th>\n      <th>商品s</th>\n      <th>商品t</th>\n      <th>商品v</th>\n      <th>商品x</th>\n      <th>商品y</th>\n    </tr>\n    <tr>\n      <th>purchase_month</th>\n      <th></th>\n      <th></th>\n      <th></th>\n      <th></th>\n      <th></th>\n      <th></th>\n      <th></th>\n      <th></th>\n      <th></th>\n      <th></th>\n      <th></th>\n      <th></th>\n      <th></th>\n      <th></th>\n      <th></th>\n      <th></th>\n      <th></th>\n      <th></th>\n      <th></th>\n      <th></th>\n      <th></th>\n    </tr>\n  </thead>\n  <tbody>\n    <tr>\n      <th>201901</th>\n      <td>0</td>\n      <td>1</td>\n      <td>0</td>\n      <td>0</td>\n      <td>0</td>\n      <td>0</td>\n      <td>0</td>\n      <td>0</td>\n      <td>0</td>\n      <td>0</td>\n      <td>...</td>\n      <td>1</td>\n      <td>1</td>\n      <td>1</td>\n      <td>0</td>\n      <td>0</td>\n      <td>0</td>\n      <td>0</td>\n      <td>0</td>\n      <td>0</td>\n      <td>0</td>\n    </tr>\n    <tr>\n      <th>201902</th>\n      <td>0</td>\n      <td>0</td>\n      <td>0</td>\n      <td>0</td>\n      <td>0</td>\n      <td>0</td>\n      <td>0</td>\n      <td>1</td>\n      <td>0</td>\n      <td>0</td>\n      <td>...</td>\n      <td>0</td>\n      <td>0</td>\n      <td>0</td>\n      <td>0</td>\n      <td>0</td>\n      <td>1</td>\n      <td>1</td>\n      <td>1</td>\n      <td>0</td>\n      <td>0</td>\n    </tr>\n    <tr>\n      <th>201903</th>\n      <td>0</td>\n      <td>0</td>\n      <td>1</td>\n      <td>1</td>\n      <td>1</td>\n      <td>0</td>\n      <td>0</td>\n      <td>0</td>\n      <td>0</td>\n      <td>0</td>\n      <td>...</td>\n      <td>0</td>\n      <td>0</td>\n      <td>0</td>\n      <td>0</td>\n      <td>0</td>\n      <td>0</td>\n      <td>0</td>\n      <td>0</td>\n      <td>0</td>\n      <td>0</td>\n    </tr>\n    <tr>\n      <th>201904</th>\n      <td>1</td>\n      <td>0</td>\n      <td>0</td>\n      <td>0</td>\n      <td>0</td>\n      <td>0</td>\n      <td>0</td>\n      <td>0</td>\n      <td>0</td>\n      <td>1</td>\n      <td>...</td>\n      <td>0</td>\n      <td>0</td>\n      <td>0</td>\n      <td>0</td>\n      <td>0</td>\n      <td>1</td>\n      <td>0</td>\n      <td>0</td>\n      <td>0</td>\n      <td>0</td>\n    </tr>\n    <tr>\n      <th>201905</th>\n      <td>0</td>\n      <td>0</td>\n      <td>0</td>\n      <td>0</td>\n      <td>0</td>\n      <td>1</td>\n      <td>0</td>\n      <td>0</td>\n      <td>0</td>\n      <td>0</td>\n      <td>...</td>\n      <td>0</td>\n      <td>1</td>\n      <td>0</td>\n      <td>0</td>\n      <td>0</td>\n      <td>0</td>\n      <td>0</td>\n      <td>0</td>\n      <td>0</td>\n      <td>1</td>\n    </tr>\n    <tr>\n      <th>201906</th>\n      <td>0</td>\n      <td>0</td>\n      <td>0</td>\n      <td>0</td>\n      <td>0</td>\n      <td>0</td>\n      <td>1</td>\n      <td>0</td>\n      <td>0</td>\n      <td>0</td>\n      <td>...</td>\n      <td>0</td>\n      <td>0</td>\n      <td>0</td>\n      <td>1</td>\n      <td>0</td>\n      <td>0</td>\n      <td>0</td>\n      <td>0</td>\n      <td>1</td>\n      <td>0</td>\n    </tr>\n    <tr>\n      <th>201907</th>\n      <td>0</td>\n      <td>0</td>\n      <td>0</td>\n      <td>0</td>\n      <td>0</td>\n      <td>0</td>\n      <td>0</td>\n      <td>0</td>\n      <td>1</td>\n      <td>0</td>\n      <td>...</td>\n      <td>0</td>\n      <td>0</td>\n      <td>1</td>\n      <td>0</td>\n      <td>2</td>\n      <td>0</td>\n      <td>0</td>\n      <td>0</td>\n      <td>0</td>\n      <td>0</td>\n    </tr>\n  </tbody>\n</table>\n<p>7 rows × 99 columns</p>\n</div>"
     },
     "metadata": {},
     "execution_count": 30
    }
   ],
   "source": [
    "res = uriage_data.pivot_table(index='purchase_month', columns='item_name', aggfunc='size', fill_value=0)\n",
    "res"
   ]
  },
  {
   "cell_type": "code",
   "execution_count": 36,
   "metadata": {},
   "outputs": [
    {
     "output_type": "execute_result",
     "data": {
      "text/plain": [
       "               item_price                                                  \\\n",
       "item_name             商品W  商 品 n  商品E   商品M   商品P   商品S   商品W   商品X 商  品O   \n",
       "purchase_month                                                              \n",
       "201901                  0   1400    0     0     0     0     0     0     0   \n",
       "201902                  0      0    0     0     0     0     0  2400     0   \n",
       "201903                  0      0  500  1300  1600     0     0     0     0   \n",
       "201904               2300      0    0     0     0     0     0     0     0   \n",
       "201905                  0      0    0     0     0  1900     0     0     0   \n",
       "201906                  0      0    0     0     0     0  2300     0     0   \n",
       "201907                  0      0    0     0     0     0     0     0     0   \n",
       "\n",
       "                      ...                                                  \\\n",
       "item_name      商  品Q  ...   商品k   商品l   商品o   商品p   商品r   商品s   商品t   商品v   \n",
       "purchase_month        ...                                                   \n",
       "201901             0  ...  1100  1200  1500     0     0     0     0     0   \n",
       "201902             0  ...     0     0     0     0     0  1900  2000  2200   \n",
       "201903             0  ...     0     0     0     0     0     0     0     0   \n",
       "201904          1700  ...     0     0     0     0     0  1900     0     0   \n",
       "201905             0  ...     0  1200     0     0     0     0     0     0   \n",
       "201906             0  ...     0     0     0  1600     0     0     0     0   \n",
       "201907             0  ...     0     0  1500     0  1800     0     0     0   \n",
       "\n",
       "                            \n",
       "item_name        商品x   商品y  \n",
       "purchase_month              \n",
       "201901             0     0  \n",
       "201902             0     0  \n",
       "201903             0     0  \n",
       "201904             0     0  \n",
       "201905             0  2500  \n",
       "201906          2400     0  \n",
       "201907             0     0  \n",
       "\n",
       "[7 rows x 99 columns]"
      ],
      "text/html": "<div>\n<style scoped>\n    .dataframe tbody tr th:only-of-type {\n        vertical-align: middle;\n    }\n\n    .dataframe tbody tr th {\n        vertical-align: top;\n    }\n\n    .dataframe thead tr th {\n        text-align: left;\n    }\n\n    .dataframe thead tr:last-of-type th {\n        text-align: right;\n    }\n</style>\n<table border=\"1\" class=\"dataframe\">\n  <thead>\n    <tr>\n      <th></th>\n      <th colspan=\"21\" halign=\"left\">item_price</th>\n    </tr>\n    <tr>\n      <th>item_name</th>\n      <th>商品W</th>\n      <th>商 品 n</th>\n      <th>商品E</th>\n      <th>商品M</th>\n      <th>商品P</th>\n      <th>商品S</th>\n      <th>商品W</th>\n      <th>商品X</th>\n      <th>商  品O</th>\n      <th>商  品Q</th>\n      <th>...</th>\n      <th>商品k</th>\n      <th>商品l</th>\n      <th>商品o</th>\n      <th>商品p</th>\n      <th>商品r</th>\n      <th>商品s</th>\n      <th>商品t</th>\n      <th>商品v</th>\n      <th>商品x</th>\n      <th>商品y</th>\n    </tr>\n    <tr>\n      <th>purchase_month</th>\n      <th></th>\n      <th></th>\n      <th></th>\n      <th></th>\n      <th></th>\n      <th></th>\n      <th></th>\n      <th></th>\n      <th></th>\n      <th></th>\n      <th></th>\n      <th></th>\n      <th></th>\n      <th></th>\n      <th></th>\n      <th></th>\n      <th></th>\n      <th></th>\n      <th></th>\n      <th></th>\n      <th></th>\n    </tr>\n  </thead>\n  <tbody>\n    <tr>\n      <th>201901</th>\n      <td>0</td>\n      <td>1400</td>\n      <td>0</td>\n      <td>0</td>\n      <td>0</td>\n      <td>0</td>\n      <td>0</td>\n      <td>0</td>\n      <td>0</td>\n      <td>0</td>\n      <td>...</td>\n      <td>1100</td>\n      <td>1200</td>\n      <td>1500</td>\n      <td>0</td>\n      <td>0</td>\n      <td>0</td>\n      <td>0</td>\n      <td>0</td>\n      <td>0</td>\n      <td>0</td>\n    </tr>\n    <tr>\n      <th>201902</th>\n      <td>0</td>\n      <td>0</td>\n      <td>0</td>\n      <td>0</td>\n      <td>0</td>\n      <td>0</td>\n      <td>0</td>\n      <td>2400</td>\n      <td>0</td>\n      <td>0</td>\n      <td>...</td>\n      <td>0</td>\n      <td>0</td>\n      <td>0</td>\n      <td>0</td>\n      <td>0</td>\n      <td>1900</td>\n      <td>2000</td>\n      <td>2200</td>\n      <td>0</td>\n      <td>0</td>\n    </tr>\n    <tr>\n      <th>201903</th>\n      <td>0</td>\n      <td>0</td>\n      <td>500</td>\n      <td>1300</td>\n      <td>1600</td>\n      <td>0</td>\n      <td>0</td>\n      <td>0</td>\n      <td>0</td>\n      <td>0</td>\n      <td>...</td>\n      <td>0</td>\n      <td>0</td>\n      <td>0</td>\n      <td>0</td>\n      <td>0</td>\n      <td>0</td>\n      <td>0</td>\n      <td>0</td>\n      <td>0</td>\n      <td>0</td>\n    </tr>\n    <tr>\n      <th>201904</th>\n      <td>2300</td>\n      <td>0</td>\n      <td>0</td>\n      <td>0</td>\n      <td>0</td>\n      <td>0</td>\n      <td>0</td>\n      <td>0</td>\n      <td>0</td>\n      <td>1700</td>\n      <td>...</td>\n      <td>0</td>\n      <td>0</td>\n      <td>0</td>\n      <td>0</td>\n      <td>0</td>\n      <td>1900</td>\n      <td>0</td>\n      <td>0</td>\n      <td>0</td>\n      <td>0</td>\n    </tr>\n    <tr>\n      <th>201905</th>\n      <td>0</td>\n      <td>0</td>\n      <td>0</td>\n      <td>0</td>\n      <td>0</td>\n      <td>1900</td>\n      <td>0</td>\n      <td>0</td>\n      <td>0</td>\n      <td>0</td>\n      <td>...</td>\n      <td>0</td>\n      <td>1200</td>\n      <td>0</td>\n      <td>0</td>\n      <td>0</td>\n      <td>0</td>\n      <td>0</td>\n      <td>0</td>\n      <td>0</td>\n      <td>2500</td>\n    </tr>\n    <tr>\n      <th>201906</th>\n      <td>0</td>\n      <td>0</td>\n      <td>0</td>\n      <td>0</td>\n      <td>0</td>\n      <td>0</td>\n      <td>2300</td>\n      <td>0</td>\n      <td>0</td>\n      <td>0</td>\n      <td>...</td>\n      <td>0</td>\n      <td>0</td>\n      <td>0</td>\n      <td>1600</td>\n      <td>0</td>\n      <td>0</td>\n      <td>0</td>\n      <td>0</td>\n      <td>2400</td>\n      <td>0</td>\n    </tr>\n    <tr>\n      <th>201907</th>\n      <td>0</td>\n      <td>0</td>\n      <td>0</td>\n      <td>0</td>\n      <td>0</td>\n      <td>0</td>\n      <td>0</td>\n      <td>0</td>\n      <td>0</td>\n      <td>0</td>\n      <td>...</td>\n      <td>0</td>\n      <td>0</td>\n      <td>1500</td>\n      <td>0</td>\n      <td>1800</td>\n      <td>0</td>\n      <td>0</td>\n      <td>0</td>\n      <td>0</td>\n      <td>0</td>\n    </tr>\n  </tbody>\n</table>\n<p>7 rows × 99 columns</p>\n</div>"
     },
     "metadata": {},
     "execution_count": 36
    }
   ],
   "source": [
    "res = uriage_data.pivot_table(index='purchase_month', columns='item_name', aggfunc='sum', fill_value=0)\n",
    "res"
   ]
  },
  {
   "source": [
    "## 014 商品名の揺れを補正"
   ],
   "cell_type": "markdown",
   "metadata": {}
  },
  {
   "cell_type": "code",
   "execution_count": null,
   "metadata": {},
   "outputs": [],
   "source": []
  }
 ]
}