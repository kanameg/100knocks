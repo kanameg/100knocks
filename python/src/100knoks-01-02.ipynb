{
 "metadata": {
  "language_info": {
   "codemirror_mode": {
    "name": "ipython",
    "version": 3
   },
   "file_extension": ".py",
   "mimetype": "text/x-python",
   "name": "python",
   "nbconvert_exporter": "python",
   "pygments_lexer": "ipython3",
   "version": "3.8.6"
  },
  "orig_nbformat": 2,
  "kernelspec": {
   "name": "python3",
   "display_name": "Python 3.8.6 64-bit ('3.8.6': pyenv)",
   "metadata": {
    "interpreter": {
     "hash": "def1443cd7b0494ffc099209d4c7259e5a8304e131c4a6b9a38e7324fcb0905b"
    }
   }
  }
 },
 "nbformat": 4,
 "nbformat_minor": 2,
 "cells": [
  {
   "source": [
    "## 011 データを読み込む"
   ],
   "cell_type": "markdown",
   "metadata": {}
  },
  {
   "cell_type": "code",
   "execution_count": 65,
   "metadata": {},
   "outputs": [],
   "source": [
    "import pandas as pd\n",
    "import seaborn as sns"
   ]
  },
  {
   "cell_type": "code",
   "execution_count": 66,
   "metadata": {},
   "outputs": [
    {
     "output_type": "execute_result",
     "data": {
      "text/plain": [
       "         purchase_date item_name  item_price customer_name\n",
       "0  2019-06-13 18:02:34       商品A       100.0         深井菜々美\n",
       "1  2019-07-13 13:05:29     商 品 S         NaN          浅田賢二\n",
       "2  2019-05-11 19:42:07     商 品 a         NaN          南部慶二\n",
       "3  2019-02-12 23:40:45       商品Z      2600.0          麻生莉緒\n",
       "4  2019-04-22 03:09:35       商品a         NaN          平田鉄二"
      ],
      "text/html": "<div>\n<style scoped>\n    .dataframe tbody tr th:only-of-type {\n        vertical-align: middle;\n    }\n\n    .dataframe tbody tr th {\n        vertical-align: top;\n    }\n\n    .dataframe thead th {\n        text-align: right;\n    }\n</style>\n<table border=\"1\" class=\"dataframe\">\n  <thead>\n    <tr style=\"text-align: right;\">\n      <th></th>\n      <th>purchase_date</th>\n      <th>item_name</th>\n      <th>item_price</th>\n      <th>customer_name</th>\n    </tr>\n  </thead>\n  <tbody>\n    <tr>\n      <th>0</th>\n      <td>2019-06-13 18:02:34</td>\n      <td>商品A</td>\n      <td>100.0</td>\n      <td>深井菜々美</td>\n    </tr>\n    <tr>\n      <th>1</th>\n      <td>2019-07-13 13:05:29</td>\n      <td>商 品 S</td>\n      <td>NaN</td>\n      <td>浅田賢二</td>\n    </tr>\n    <tr>\n      <th>2</th>\n      <td>2019-05-11 19:42:07</td>\n      <td>商 品 a</td>\n      <td>NaN</td>\n      <td>南部慶二</td>\n    </tr>\n    <tr>\n      <th>3</th>\n      <td>2019-02-12 23:40:45</td>\n      <td>商品Z</td>\n      <td>2600.0</td>\n      <td>麻生莉緒</td>\n    </tr>\n    <tr>\n      <th>4</th>\n      <td>2019-04-22 03:09:35</td>\n      <td>商品a</td>\n      <td>NaN</td>\n      <td>平田鉄二</td>\n    </tr>\n  </tbody>\n</table>\n</div>"
     },
     "metadata": {},
     "execution_count": 66
    }
   ],
   "source": [
    "uriage_data = pd.read_csv('./input/100knoks/1-2/uriage.csv')\n",
    "uriage_data.head()"
   ]
  },
  {
   "cell_type": "code",
   "execution_count": 67,
   "metadata": {},
   "outputs": [
    {
     "output_type": "execute_result",
     "data": {
      "text/plain": [
       "        item_price\n",
       "count  2612.000000\n",
       "mean   1296.401225\n",
       "std     717.955460\n",
       "min     100.000000\n",
       "25%     700.000000\n",
       "50%    1300.000000\n",
       "75%    1900.000000\n",
       "max    2600.000000"
      ],
      "text/html": "<div>\n<style scoped>\n    .dataframe tbody tr th:only-of-type {\n        vertical-align: middle;\n    }\n\n    .dataframe tbody tr th {\n        vertical-align: top;\n    }\n\n    .dataframe thead th {\n        text-align: right;\n    }\n</style>\n<table border=\"1\" class=\"dataframe\">\n  <thead>\n    <tr style=\"text-align: right;\">\n      <th></th>\n      <th>item_price</th>\n    </tr>\n  </thead>\n  <tbody>\n    <tr>\n      <th>count</th>\n      <td>2612.000000</td>\n    </tr>\n    <tr>\n      <th>mean</th>\n      <td>1296.401225</td>\n    </tr>\n    <tr>\n      <th>std</th>\n      <td>717.955460</td>\n    </tr>\n    <tr>\n      <th>min</th>\n      <td>100.000000</td>\n    </tr>\n    <tr>\n      <th>25%</th>\n      <td>700.000000</td>\n    </tr>\n    <tr>\n      <th>50%</th>\n      <td>1300.000000</td>\n    </tr>\n    <tr>\n      <th>75%</th>\n      <td>1900.000000</td>\n    </tr>\n    <tr>\n      <th>max</th>\n      <td>2600.000000</td>\n    </tr>\n  </tbody>\n</table>\n</div>"
     },
     "metadata": {},
     "execution_count": 67
    }
   ],
   "source": [
    "uriage_data.describe()"
   ]
  },
  {
   "cell_type": "code",
   "execution_count": 68,
   "metadata": {},
   "outputs": [
    {
     "output_type": "execute_result",
     "data": {
      "text/plain": [
       "purchase_date     object\n",
       "item_name         object\n",
       "item_price       float64\n",
       "customer_name     object\n",
       "dtype: object"
      ]
     },
     "metadata": {},
     "execution_count": 68
    }
   ],
   "source": [
    "uriage_data.dtypes"
   ]
  },
  {
   "cell_type": "code",
   "execution_count": 69,
   "metadata": {},
   "outputs": [
    {
     "output_type": "execute_result",
     "data": {
      "text/plain": [
       "      顧客名        かな  地域                     メールアドレス         登録日\n",
       "0   須賀ひとみ    すが ひとみ  H市     suga_hitomi@example.com  2018/01/04\n",
       "1  岡田　 敏也   おかだ としや  E市   okada_toshiya@example.com  2017年2月16日\n",
       "2    芳賀 希    はが のぞみ  A市     haga_nozomi@example.com  2018/01/07\n",
       "3   荻野  愛    おぎの あい  F市        ogino_ai@example.com  2017年5月17日\n",
       "4   栗田 憲一  くりた けんいち  E市  kurita_kenichi@example.com  2018年1月27日"
      ],
      "text/html": "<div>\n<style scoped>\n    .dataframe tbody tr th:only-of-type {\n        vertical-align: middle;\n    }\n\n    .dataframe tbody tr th {\n        vertical-align: top;\n    }\n\n    .dataframe thead th {\n        text-align: right;\n    }\n</style>\n<table border=\"1\" class=\"dataframe\">\n  <thead>\n    <tr style=\"text-align: right;\">\n      <th></th>\n      <th>顧客名</th>\n      <th>かな</th>\n      <th>地域</th>\n      <th>メールアドレス</th>\n      <th>登録日</th>\n    </tr>\n  </thead>\n  <tbody>\n    <tr>\n      <th>0</th>\n      <td>須賀ひとみ</td>\n      <td>すが ひとみ</td>\n      <td>H市</td>\n      <td>suga_hitomi@example.com</td>\n      <td>2018/01/04</td>\n    </tr>\n    <tr>\n      <th>1</th>\n      <td>岡田　 敏也</td>\n      <td>おかだ としや</td>\n      <td>E市</td>\n      <td>okada_toshiya@example.com</td>\n      <td>2017年2月16日</td>\n    </tr>\n    <tr>\n      <th>2</th>\n      <td>芳賀 希</td>\n      <td>はが のぞみ</td>\n      <td>A市</td>\n      <td>haga_nozomi@example.com</td>\n      <td>2018/01/07</td>\n    </tr>\n    <tr>\n      <th>3</th>\n      <td>荻野  愛</td>\n      <td>おぎの あい</td>\n      <td>F市</td>\n      <td>ogino_ai@example.com</td>\n      <td>2017年5月17日</td>\n    </tr>\n    <tr>\n      <th>4</th>\n      <td>栗田 憲一</td>\n      <td>くりた けんいち</td>\n      <td>E市</td>\n      <td>kurita_kenichi@example.com</td>\n      <td>2018年1月27日</td>\n    </tr>\n  </tbody>\n</table>\n</div>"
     },
     "metadata": {},
     "execution_count": 69
    }
   ],
   "source": [
    "#kokyaku_data = pd.read_excel('./input/100knoks/1-2/kokyaku_daicho.xlsx')\n",
    "kokyaku_data = pd.read_csv('./input/100knoks/1-2/kokyaku_daicho.csv')\n",
    "kokyaku_data.head()"
   ]
  },
  {
   "source": [
    "## 012 データの揺れを見る"
   ],
   "cell_type": "markdown",
   "metadata": {}
  },
  {
   "cell_type": "code",
   "execution_count": 70,
   "metadata": {},
   "outputs": [
    {
     "output_type": "execute_result",
     "data": {
      "text/plain": [
       "0    2019-06-13 18:02:34\n",
       "1    2019-07-13 13:05:29\n",
       "2    2019-05-11 19:42:07\n",
       "3    2019-02-12 23:40:45\n",
       "4    2019-04-22 03:09:35\n",
       "Name: purchase_date, dtype: object"
      ]
     },
     "metadata": {},
     "execution_count": 70
    }
   ],
   "source": [
    "uriage_data['purchase_date'].head()"
   ]
  },
  {
   "cell_type": "code",
   "execution_count": 71,
   "metadata": {},
   "outputs": [
    {
     "output_type": "execute_result",
     "data": {
      "text/plain": [
       "0      商品A\n",
       "1    商 品 S\n",
       "2    商 品 a\n",
       "3      商品Z\n",
       "4      商品a\n",
       "Name: item_name, dtype: object"
      ]
     },
     "metadata": {},
     "execution_count": 71
    }
   ],
   "source": [
    "uriage_data['item_name'].head()"
   ]
  },
  {
   "cell_type": "code",
   "execution_count": 72,
   "metadata": {},
   "outputs": [
    {
     "output_type": "execute_result",
     "data": {
      "text/plain": [
       "0     100.0\n",
       "1       NaN\n",
       "2       NaN\n",
       "3    2600.0\n",
       "4       NaN\n",
       "Name: item_price, dtype: float64"
      ]
     },
     "metadata": {},
     "execution_count": 72
    }
   ],
   "source": [
    "uriage_data['item_price'].head()"
   ]
  },
  {
   "source": [
    "## 013 揺れがあるまま集計"
   ],
   "cell_type": "markdown",
   "metadata": {}
  },
  {
   "cell_type": "code",
   "execution_count": 73,
   "metadata": {},
   "outputs": [
    {
     "output_type": "execute_result",
     "data": {
      "text/plain": [
       "0    201906\n",
       "1    201907\n",
       "2    201905\n",
       "3    201902\n",
       "4    201904\n",
       "Name: purchase_month, dtype: object"
      ]
     },
     "metadata": {},
     "execution_count": 73
    }
   ],
   "source": [
    "uriage_data['purchase_date'] = pd.to_datetime(uriage_data['purchase_date'])\n",
    "uriage_data['purchase_month'] = uriage_data['purchase_date'].dt.strftime(\"%Y%m\")\n",
    "uriage_data['purchase_month'].head()"
   ]
  },
  {
   "cell_type": "code",
   "execution_count": 74,
   "metadata": {},
   "outputs": [
    {
     "output_type": "execute_result",
     "data": {
      "text/plain": [
       "item_name         商品W   商 品 n   商品E   商品M   商品P   商品S   商品W   商品X  商  品O  \\\n",
       "purchase_month                                                             \n",
       "201901              0       1     0     0     0     0     0     0      0   \n",
       "201902              0       0     0     0     0     0     0     1      0   \n",
       "201903              0       0     1     1     1     0     0     0      0   \n",
       "201904              1       0     0     0     0     0     0     0      0   \n",
       "201905              0       0     0     0     0     1     0     0      0   \n",
       "201906              0       0     0     0     0     0     1     0      0   \n",
       "201907              0       0     0     0     0     0     0     0      1   \n",
       "\n",
       "item_name       商  品Q  ...  商品k  商品l  商品o  商品p  商品r  商品s  商品t  商品v  商品x  商品y  \n",
       "purchase_month         ...                                                    \n",
       "201901              0  ...    1    1    1    0    0    0    0    0    0    0  \n",
       "201902              0  ...    0    0    0    0    0    1    1    1    0    0  \n",
       "201903              0  ...    0    0    0    0    0    0    0    0    0    0  \n",
       "201904              1  ...    0    0    0    0    0    1    0    0    0    0  \n",
       "201905              0  ...    0    1    0    0    0    0    0    0    0    1  \n",
       "201906              0  ...    0    0    0    1    0    0    0    0    1    0  \n",
       "201907              0  ...    0    0    1    0    2    0    0    0    0    0  \n",
       "\n",
       "[7 rows x 99 columns]"
      ],
      "text/html": "<div>\n<style scoped>\n    .dataframe tbody tr th:only-of-type {\n        vertical-align: middle;\n    }\n\n    .dataframe tbody tr th {\n        vertical-align: top;\n    }\n\n    .dataframe thead th {\n        text-align: right;\n    }\n</style>\n<table border=\"1\" class=\"dataframe\">\n  <thead>\n    <tr style=\"text-align: right;\">\n      <th>item_name</th>\n      <th>商品W</th>\n      <th>商 品 n</th>\n      <th>商品E</th>\n      <th>商品M</th>\n      <th>商品P</th>\n      <th>商品S</th>\n      <th>商品W</th>\n      <th>商品X</th>\n      <th>商  品O</th>\n      <th>商  品Q</th>\n      <th>...</th>\n      <th>商品k</th>\n      <th>商品l</th>\n      <th>商品o</th>\n      <th>商品p</th>\n      <th>商品r</th>\n      <th>商品s</th>\n      <th>商品t</th>\n      <th>商品v</th>\n      <th>商品x</th>\n      <th>商品y</th>\n    </tr>\n    <tr>\n      <th>purchase_month</th>\n      <th></th>\n      <th></th>\n      <th></th>\n      <th></th>\n      <th></th>\n      <th></th>\n      <th></th>\n      <th></th>\n      <th></th>\n      <th></th>\n      <th></th>\n      <th></th>\n      <th></th>\n      <th></th>\n      <th></th>\n      <th></th>\n      <th></th>\n      <th></th>\n      <th></th>\n      <th></th>\n      <th></th>\n    </tr>\n  </thead>\n  <tbody>\n    <tr>\n      <th>201901</th>\n      <td>0</td>\n      <td>1</td>\n      <td>0</td>\n      <td>0</td>\n      <td>0</td>\n      <td>0</td>\n      <td>0</td>\n      <td>0</td>\n      <td>0</td>\n      <td>0</td>\n      <td>...</td>\n      <td>1</td>\n      <td>1</td>\n      <td>1</td>\n      <td>0</td>\n      <td>0</td>\n      <td>0</td>\n      <td>0</td>\n      <td>0</td>\n      <td>0</td>\n      <td>0</td>\n    </tr>\n    <tr>\n      <th>201902</th>\n      <td>0</td>\n      <td>0</td>\n      <td>0</td>\n      <td>0</td>\n      <td>0</td>\n      <td>0</td>\n      <td>0</td>\n      <td>1</td>\n      <td>0</td>\n      <td>0</td>\n      <td>...</td>\n      <td>0</td>\n      <td>0</td>\n      <td>0</td>\n      <td>0</td>\n      <td>0</td>\n      <td>1</td>\n      <td>1</td>\n      <td>1</td>\n      <td>0</td>\n      <td>0</td>\n    </tr>\n    <tr>\n      <th>201903</th>\n      <td>0</td>\n      <td>0</td>\n      <td>1</td>\n      <td>1</td>\n      <td>1</td>\n      <td>0</td>\n      <td>0</td>\n      <td>0</td>\n      <td>0</td>\n      <td>0</td>\n      <td>...</td>\n      <td>0</td>\n      <td>0</td>\n      <td>0</td>\n      <td>0</td>\n      <td>0</td>\n      <td>0</td>\n      <td>0</td>\n      <td>0</td>\n      <td>0</td>\n      <td>0</td>\n    </tr>\n    <tr>\n      <th>201904</th>\n      <td>1</td>\n      <td>0</td>\n      <td>0</td>\n      <td>0</td>\n      <td>0</td>\n      <td>0</td>\n      <td>0</td>\n      <td>0</td>\n      <td>0</td>\n      <td>1</td>\n      <td>...</td>\n      <td>0</td>\n      <td>0</td>\n      <td>0</td>\n      <td>0</td>\n      <td>0</td>\n      <td>1</td>\n      <td>0</td>\n      <td>0</td>\n      <td>0</td>\n      <td>0</td>\n    </tr>\n    <tr>\n      <th>201905</th>\n      <td>0</td>\n      <td>0</td>\n      <td>0</td>\n      <td>0</td>\n      <td>0</td>\n      <td>1</td>\n      <td>0</td>\n      <td>0</td>\n      <td>0</td>\n      <td>0</td>\n      <td>...</td>\n      <td>0</td>\n      <td>1</td>\n      <td>0</td>\n      <td>0</td>\n      <td>0</td>\n      <td>0</td>\n      <td>0</td>\n      <td>0</td>\n      <td>0</td>\n      <td>1</td>\n    </tr>\n    <tr>\n      <th>201906</th>\n      <td>0</td>\n      <td>0</td>\n      <td>0</td>\n      <td>0</td>\n      <td>0</td>\n      <td>0</td>\n      <td>1</td>\n      <td>0</td>\n      <td>0</td>\n      <td>0</td>\n      <td>...</td>\n      <td>0</td>\n      <td>0</td>\n      <td>0</td>\n      <td>1</td>\n      <td>0</td>\n      <td>0</td>\n      <td>0</td>\n      <td>0</td>\n      <td>1</td>\n      <td>0</td>\n    </tr>\n    <tr>\n      <th>201907</th>\n      <td>0</td>\n      <td>0</td>\n      <td>0</td>\n      <td>0</td>\n      <td>0</td>\n      <td>0</td>\n      <td>0</td>\n      <td>0</td>\n      <td>1</td>\n      <td>0</td>\n      <td>...</td>\n      <td>0</td>\n      <td>0</td>\n      <td>1</td>\n      <td>0</td>\n      <td>2</td>\n      <td>0</td>\n      <td>0</td>\n      <td>0</td>\n      <td>0</td>\n      <td>0</td>\n    </tr>\n  </tbody>\n</table>\n<p>7 rows × 99 columns</p>\n</div>"
     },
     "metadata": {},
     "execution_count": 74
    }
   ],
   "source": [
    "res = uriage_data.pivot_table(index='purchase_month', columns='item_name', aggfunc='size', fill_value=0)\n",
    "res"
   ]
  },
  {
   "cell_type": "code",
   "execution_count": 75,
   "metadata": {},
   "outputs": [
    {
     "output_type": "execute_result",
     "data": {
      "text/plain": [
       "               item_price                                                  \\\n",
       "item_name             商品W  商 品 n  商品E   商品M   商品P   商品S   商品W   商品X 商  品O   \n",
       "purchase_month                                                              \n",
       "201901                  0   1400    0     0     0     0     0     0     0   \n",
       "201902                  0      0    0     0     0     0     0  2400     0   \n",
       "201903                  0      0  500  1300  1600     0     0     0     0   \n",
       "201904               2300      0    0     0     0     0     0     0     0   \n",
       "201905                  0      0    0     0     0  1900     0     0     0   \n",
       "201906                  0      0    0     0     0     0  2300     0     0   \n",
       "201907                  0      0    0     0     0     0     0     0     0   \n",
       "\n",
       "                      ...                                                  \\\n",
       "item_name      商  品Q  ...   商品k   商品l   商品o   商品p   商品r   商品s   商品t   商品v   \n",
       "purchase_month        ...                                                   \n",
       "201901             0  ...  1100  1200  1500     0     0     0     0     0   \n",
       "201902             0  ...     0     0     0     0     0  1900  2000  2200   \n",
       "201903             0  ...     0     0     0     0     0     0     0     0   \n",
       "201904          1700  ...     0     0     0     0     0  1900     0     0   \n",
       "201905             0  ...     0  1200     0     0     0     0     0     0   \n",
       "201906             0  ...     0     0     0  1600     0     0     0     0   \n",
       "201907             0  ...     0     0  1500     0  1800     0     0     0   \n",
       "\n",
       "                            \n",
       "item_name        商品x   商品y  \n",
       "purchase_month              \n",
       "201901             0     0  \n",
       "201902             0     0  \n",
       "201903             0     0  \n",
       "201904             0     0  \n",
       "201905             0  2500  \n",
       "201906          2400     0  \n",
       "201907             0     0  \n",
       "\n",
       "[7 rows x 99 columns]"
      ],
      "text/html": "<div>\n<style scoped>\n    .dataframe tbody tr th:only-of-type {\n        vertical-align: middle;\n    }\n\n    .dataframe tbody tr th {\n        vertical-align: top;\n    }\n\n    .dataframe thead tr th {\n        text-align: left;\n    }\n\n    .dataframe thead tr:last-of-type th {\n        text-align: right;\n    }\n</style>\n<table border=\"1\" class=\"dataframe\">\n  <thead>\n    <tr>\n      <th></th>\n      <th colspan=\"21\" halign=\"left\">item_price</th>\n    </tr>\n    <tr>\n      <th>item_name</th>\n      <th>商品W</th>\n      <th>商 品 n</th>\n      <th>商品E</th>\n      <th>商品M</th>\n      <th>商品P</th>\n      <th>商品S</th>\n      <th>商品W</th>\n      <th>商品X</th>\n      <th>商  品O</th>\n      <th>商  品Q</th>\n      <th>...</th>\n      <th>商品k</th>\n      <th>商品l</th>\n      <th>商品o</th>\n      <th>商品p</th>\n      <th>商品r</th>\n      <th>商品s</th>\n      <th>商品t</th>\n      <th>商品v</th>\n      <th>商品x</th>\n      <th>商品y</th>\n    </tr>\n    <tr>\n      <th>purchase_month</th>\n      <th></th>\n      <th></th>\n      <th></th>\n      <th></th>\n      <th></th>\n      <th></th>\n      <th></th>\n      <th></th>\n      <th></th>\n      <th></th>\n      <th></th>\n      <th></th>\n      <th></th>\n      <th></th>\n      <th></th>\n      <th></th>\n      <th></th>\n      <th></th>\n      <th></th>\n      <th></th>\n      <th></th>\n    </tr>\n  </thead>\n  <tbody>\n    <tr>\n      <th>201901</th>\n      <td>0</td>\n      <td>1400</td>\n      <td>0</td>\n      <td>0</td>\n      <td>0</td>\n      <td>0</td>\n      <td>0</td>\n      <td>0</td>\n      <td>0</td>\n      <td>0</td>\n      <td>...</td>\n      <td>1100</td>\n      <td>1200</td>\n      <td>1500</td>\n      <td>0</td>\n      <td>0</td>\n      <td>0</td>\n      <td>0</td>\n      <td>0</td>\n      <td>0</td>\n      <td>0</td>\n    </tr>\n    <tr>\n      <th>201902</th>\n      <td>0</td>\n      <td>0</td>\n      <td>0</td>\n      <td>0</td>\n      <td>0</td>\n      <td>0</td>\n      <td>0</td>\n      <td>2400</td>\n      <td>0</td>\n      <td>0</td>\n      <td>...</td>\n      <td>0</td>\n      <td>0</td>\n      <td>0</td>\n      <td>0</td>\n      <td>0</td>\n      <td>1900</td>\n      <td>2000</td>\n      <td>2200</td>\n      <td>0</td>\n      <td>0</td>\n    </tr>\n    <tr>\n      <th>201903</th>\n      <td>0</td>\n      <td>0</td>\n      <td>500</td>\n      <td>1300</td>\n      <td>1600</td>\n      <td>0</td>\n      <td>0</td>\n      <td>0</td>\n      <td>0</td>\n      <td>0</td>\n      <td>...</td>\n      <td>0</td>\n      <td>0</td>\n      <td>0</td>\n      <td>0</td>\n      <td>0</td>\n      <td>0</td>\n      <td>0</td>\n      <td>0</td>\n      <td>0</td>\n      <td>0</td>\n    </tr>\n    <tr>\n      <th>201904</th>\n      <td>2300</td>\n      <td>0</td>\n      <td>0</td>\n      <td>0</td>\n      <td>0</td>\n      <td>0</td>\n      <td>0</td>\n      <td>0</td>\n      <td>0</td>\n      <td>1700</td>\n      <td>...</td>\n      <td>0</td>\n      <td>0</td>\n      <td>0</td>\n      <td>0</td>\n      <td>0</td>\n      <td>1900</td>\n      <td>0</td>\n      <td>0</td>\n      <td>0</td>\n      <td>0</td>\n    </tr>\n    <tr>\n      <th>201905</th>\n      <td>0</td>\n      <td>0</td>\n      <td>0</td>\n      <td>0</td>\n      <td>0</td>\n      <td>1900</td>\n      <td>0</td>\n      <td>0</td>\n      <td>0</td>\n      <td>0</td>\n      <td>...</td>\n      <td>0</td>\n      <td>1200</td>\n      <td>0</td>\n      <td>0</td>\n      <td>0</td>\n      <td>0</td>\n      <td>0</td>\n      <td>0</td>\n      <td>0</td>\n      <td>2500</td>\n    </tr>\n    <tr>\n      <th>201906</th>\n      <td>0</td>\n      <td>0</td>\n      <td>0</td>\n      <td>0</td>\n      <td>0</td>\n      <td>0</td>\n      <td>2300</td>\n      <td>0</td>\n      <td>0</td>\n      <td>0</td>\n      <td>...</td>\n      <td>0</td>\n      <td>0</td>\n      <td>0</td>\n      <td>1600</td>\n      <td>0</td>\n      <td>0</td>\n      <td>0</td>\n      <td>0</td>\n      <td>2400</td>\n      <td>0</td>\n    </tr>\n    <tr>\n      <th>201907</th>\n      <td>0</td>\n      <td>0</td>\n      <td>0</td>\n      <td>0</td>\n      <td>0</td>\n      <td>0</td>\n      <td>0</td>\n      <td>0</td>\n      <td>0</td>\n      <td>0</td>\n      <td>...</td>\n      <td>0</td>\n      <td>0</td>\n      <td>1500</td>\n      <td>0</td>\n      <td>1800</td>\n      <td>0</td>\n      <td>0</td>\n      <td>0</td>\n      <td>0</td>\n      <td>0</td>\n    </tr>\n  </tbody>\n</table>\n<p>7 rows × 99 columns</p>\n</div>"
     },
     "metadata": {},
     "execution_count": 75
    }
   ],
   "source": [
    "res = uriage_data.pivot_table(index='purchase_month', columns='item_name', aggfunc='sum', fill_value=0)\n",
    "res"
   ]
  },
  {
   "source": [
    "## 014 商品名の揺れを補正\n",
    "\n",
    "無駄なスペースを削除して、英数字を半角全角、大文字小文字を統一する"
   ],
   "cell_type": "markdown",
   "metadata": {}
  },
  {
   "cell_type": "code",
   "execution_count": 76,
   "metadata": {},
   "outputs": [
    {
     "output_type": "stream",
     "name": "stdout",
     "text": [
      "99\n"
     ]
    }
   ],
   "source": [
    "print(len(pd.unique(uriage_data['item_name'])))"
   ]
  },
  {
   "cell_type": "code",
   "execution_count": 77,
   "metadata": {},
   "outputs": [
    {
     "output_type": "stream",
     "name": "stdout",
     "text": [
      "78\n"
     ]
    }
   ],
   "source": [
    "uriage_data['item_name'] = uriage_data['item_name'].str.upper()\n",
    "print(len(pd.unique(uriage_data['item_name'])))"
   ]
  },
  {
   "cell_type": "code",
   "execution_count": 78,
   "metadata": {},
   "outputs": [
    {
     "output_type": "stream",
     "name": "stdout",
     "text": [
      "78\n"
     ]
    }
   ],
   "source": [
    "uriage_data['item_name'] = uriage_data['item_name'].str.replace('　', '')\n",
    "print(len(pd.unique(uriage_data['item_name'])))"
   ]
  },
  {
   "cell_type": "code",
   "execution_count": 79,
   "metadata": {},
   "outputs": [
    {
     "output_type": "stream",
     "name": "stdout",
     "text": [
      "26\n"
     ]
    }
   ],
   "source": [
    "uriage_data['item_name'] = uriage_data['item_name'].str.replace(' ', '')\n",
    "print(len(pd.unique(uriage_data['item_name'])))"
   ]
  },
  {
   "cell_type": "code",
   "execution_count": 80,
   "metadata": {},
   "outputs": [
    {
     "output_type": "execute_result",
     "data": {
      "text/plain": [
       "           purchase_date item_name  item_price customer_name purchase_month\n",
       "0    2019-06-13 18:02:34       商品A       100.0         深井菜々美         201906\n",
       "1748 2019-05-19 20:22:22       商品A       100.0          松川綾女         201905\n",
       "223  2019-06-25 08:13:20       商品A       100.0           板橋隆         201906\n",
       "1742 2019-06-13 16:03:17       商品A       100.0          小平陽子         201906\n",
       "1738 2019-02-10 00:28:43       商品A       100.0          松田浩正         201902\n",
       "...                  ...       ...         ...           ...            ...\n",
       "2880 2019-04-22 00:36:52       商品Y         NaN          田辺光洋         201904\n",
       "2881 2019-04-30 14:21:09       商品Y         NaN          高原充則         201904\n",
       "1525 2019-01-24 10:27:23       商品Y      2500.0         五十嵐春樹         201901\n",
       "1361 2019-05-28 13:45:32       商品Y      2500.0         大崎ヒカル         201905\n",
       "3    2019-02-12 23:40:45       商品Z      2600.0          麻生莉緒         201902\n",
       "\n",
       "[2999 rows x 5 columns]"
      ],
      "text/html": "<div>\n<style scoped>\n    .dataframe tbody tr th:only-of-type {\n        vertical-align: middle;\n    }\n\n    .dataframe tbody tr th {\n        vertical-align: top;\n    }\n\n    .dataframe thead th {\n        text-align: right;\n    }\n</style>\n<table border=\"1\" class=\"dataframe\">\n  <thead>\n    <tr style=\"text-align: right;\">\n      <th></th>\n      <th>purchase_date</th>\n      <th>item_name</th>\n      <th>item_price</th>\n      <th>customer_name</th>\n      <th>purchase_month</th>\n    </tr>\n  </thead>\n  <tbody>\n    <tr>\n      <th>0</th>\n      <td>2019-06-13 18:02:34</td>\n      <td>商品A</td>\n      <td>100.0</td>\n      <td>深井菜々美</td>\n      <td>201906</td>\n    </tr>\n    <tr>\n      <th>1748</th>\n      <td>2019-05-19 20:22:22</td>\n      <td>商品A</td>\n      <td>100.0</td>\n      <td>松川綾女</td>\n      <td>201905</td>\n    </tr>\n    <tr>\n      <th>223</th>\n      <td>2019-06-25 08:13:20</td>\n      <td>商品A</td>\n      <td>100.0</td>\n      <td>板橋隆</td>\n      <td>201906</td>\n    </tr>\n    <tr>\n      <th>1742</th>\n      <td>2019-06-13 16:03:17</td>\n      <td>商品A</td>\n      <td>100.0</td>\n      <td>小平陽子</td>\n      <td>201906</td>\n    </tr>\n    <tr>\n      <th>1738</th>\n      <td>2019-02-10 00:28:43</td>\n      <td>商品A</td>\n      <td>100.0</td>\n      <td>松田浩正</td>\n      <td>201902</td>\n    </tr>\n    <tr>\n      <th>...</th>\n      <td>...</td>\n      <td>...</td>\n      <td>...</td>\n      <td>...</td>\n      <td>...</td>\n    </tr>\n    <tr>\n      <th>2880</th>\n      <td>2019-04-22 00:36:52</td>\n      <td>商品Y</td>\n      <td>NaN</td>\n      <td>田辺光洋</td>\n      <td>201904</td>\n    </tr>\n    <tr>\n      <th>2881</th>\n      <td>2019-04-30 14:21:09</td>\n      <td>商品Y</td>\n      <td>NaN</td>\n      <td>高原充則</td>\n      <td>201904</td>\n    </tr>\n    <tr>\n      <th>1525</th>\n      <td>2019-01-24 10:27:23</td>\n      <td>商品Y</td>\n      <td>2500.0</td>\n      <td>五十嵐春樹</td>\n      <td>201901</td>\n    </tr>\n    <tr>\n      <th>1361</th>\n      <td>2019-05-28 13:45:32</td>\n      <td>商品Y</td>\n      <td>2500.0</td>\n      <td>大崎ヒカル</td>\n      <td>201905</td>\n    </tr>\n    <tr>\n      <th>3</th>\n      <td>2019-02-12 23:40:45</td>\n      <td>商品Z</td>\n      <td>2600.0</td>\n      <td>麻生莉緒</td>\n      <td>201902</td>\n    </tr>\n  </tbody>\n</table>\n<p>2999 rows × 5 columns</p>\n</div>"
     },
     "metadata": {},
     "execution_count": 80
    }
   ],
   "source": [
    "uriage_data.sort_values(by='item_name', ascending=True)"
   ]
  },
  {
   "cell_type": "code",
   "execution_count": 81,
   "metadata": {},
   "outputs": [
    {
     "output_type": "stream",
     "name": "stdout",
     "text": [
      "['商品A' '商品S' '商品Z' '商品V' '商品O' '商品U' '商品L' '商品C' '商品I' '商品R' '商品X' '商品G'\n '商品P' '商品Q' '商品Y' '商品N' '商品W' '商品E' '商品K' '商品B' '商品F' '商品D' '商品M' '商品H'\n '商品T' '商品J']\n26\n"
     ]
    }
   ],
   "source": [
    "print(uriage_data['item_name'].unique())\n",
    "print(len(uriage_data['item_name'].unique()))"
   ]
  },
  {
   "source": [
    "## 015 金額の欠損を補完する"
   ],
   "cell_type": "markdown",
   "metadata": {}
  },
  {
   "cell_type": "code",
   "execution_count": 82,
   "metadata": {},
   "outputs": [
    {
     "output_type": "execute_result",
     "data": {
      "text/plain": [
       "purchase_date       0\n",
       "item_name           0\n",
       "item_price        387\n",
       "customer_name       0\n",
       "purchase_month      0\n",
       "dtype: int64"
      ]
     },
     "metadata": {},
     "execution_count": 82
    }
   ],
   "source": [
    "uriage_data.isnull().sum()"
   ]
  },
  {
   "cell_type": "code",
   "execution_count": 83,
   "metadata": {},
   "outputs": [
    {
     "output_type": "execute_result",
     "data": {
      "text/plain": [
       "purchase_date     False\n",
       "item_name         False\n",
       "item_price         True\n",
       "customer_name     False\n",
       "purchase_month    False\n",
       "dtype: bool"
      ]
     },
     "metadata": {},
     "execution_count": 83
    }
   ],
   "source": [
    "uriage_data.isnull().any(axis=0)"
   ]
  },
  {
   "cell_type": "code",
   "execution_count": 84,
   "metadata": {},
   "outputs": [
    {
     "output_type": "execute_result",
     "data": {
      "text/plain": [
       "0       False\n",
       "1        True\n",
       "2        True\n",
       "3       False\n",
       "4        True\n",
       "        ...  \n",
       "2994    False\n",
       "2995    False\n",
       "2996     True\n",
       "2997     True\n",
       "2998    False\n",
       "Name: item_price, Length: 2999, dtype: bool"
      ]
     },
     "metadata": {},
     "execution_count": 84
    }
   ],
   "source": [
    "flg_is_null = uriage_data['item_price'].isnull()\n",
    "flg_is_null"
   ]
  },
  {
   "cell_type": "code",
   "execution_count": 86,
   "metadata": {
    "tags": []
   },
   "outputs": [
    {
     "output_type": "stream",
     "name": "stderr",
     "text": [
      "/Users/kaname/.pyenv/versions/3.8.6/lib/python3.8/site-packages/pandas/core/indexing.py:1732: SettingWithCopyWarning: \nA value is trying to be set on a copy of a slice from a DataFrame\n\nSee the caveats in the documentation: https://pandas.pydata.org/pandas-docs/stable/user_guide/indexing.html#returning-a-view-versus-a-copy\n  self._setitem_single_block(indexer, value, name)\n"
     ]
    },
    {
     "output_type": "execute_result",
     "data": {
      "text/plain": [
       "        purchase_date item_name  item_price customer_name purchase_month\n",
       "0 2019-06-13 18:02:34       商品A       100.0         深井菜々美         201906\n",
       "1 2019-07-13 13:05:29       商品S      1900.0          浅田賢二         201907\n",
       "2 2019-05-11 19:42:07       商品A       100.0          南部慶二         201905\n",
       "3 2019-02-12 23:40:45       商品Z      2600.0          麻生莉緒         201902\n",
       "4 2019-04-22 03:09:35       商品A       100.0          平田鉄二         201904"
      ],
      "text/html": "<div>\n<style scoped>\n    .dataframe tbody tr th:only-of-type {\n        vertical-align: middle;\n    }\n\n    .dataframe tbody tr th {\n        vertical-align: top;\n    }\n\n    .dataframe thead th {\n        text-align: right;\n    }\n</style>\n<table border=\"1\" class=\"dataframe\">\n  <thead>\n    <tr style=\"text-align: right;\">\n      <th></th>\n      <th>purchase_date</th>\n      <th>item_name</th>\n      <th>item_price</th>\n      <th>customer_name</th>\n      <th>purchase_month</th>\n    </tr>\n  </thead>\n  <tbody>\n    <tr>\n      <th>0</th>\n      <td>2019-06-13 18:02:34</td>\n      <td>商品A</td>\n      <td>100.0</td>\n      <td>深井菜々美</td>\n      <td>201906</td>\n    </tr>\n    <tr>\n      <th>1</th>\n      <td>2019-07-13 13:05:29</td>\n      <td>商品S</td>\n      <td>1900.0</td>\n      <td>浅田賢二</td>\n      <td>201907</td>\n    </tr>\n    <tr>\n      <th>2</th>\n      <td>2019-05-11 19:42:07</td>\n      <td>商品A</td>\n      <td>100.0</td>\n      <td>南部慶二</td>\n      <td>201905</td>\n    </tr>\n    <tr>\n      <th>3</th>\n      <td>2019-02-12 23:40:45</td>\n      <td>商品Z</td>\n      <td>2600.0</td>\n      <td>麻生莉緒</td>\n      <td>201902</td>\n    </tr>\n    <tr>\n      <th>4</th>\n      <td>2019-04-22 03:09:35</td>\n      <td>商品A</td>\n      <td>100.0</td>\n      <td>平田鉄二</td>\n      <td>201904</td>\n    </tr>\n  </tbody>\n</table>\n</div>"
     },
     "metadata": {},
     "execution_count": 86
    }
   ],
   "source": [
    "for trg in list(uriage_data.loc[flg_is_null, 'item_name'].unique()):\n",
    "    price = uriage_data.loc[(~flg_is_null) & (uriage_data['item_name'] == trg), 'item_price'].max()\n",
    "    uriage_data['item_price'].loc[(flg_is_null) & (uriage_data['item_name'] == trg)] = price\n",
    "\n",
    "uriage_data.head()"
   ]
  },
  {
   "source": [
    "### locメソッドの使い方\n"
   ],
   "cell_type": "markdown",
   "metadata": {}
  }
 ]
}