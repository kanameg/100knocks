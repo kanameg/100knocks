{
 "metadata": {
  "language_info": {
   "codemirror_mode": {
    "name": "ipython",
    "version": 3
   },
   "file_extension": ".py",
   "mimetype": "text/x-python",
   "name": "python",
   "nbconvert_exporter": "python",
   "pygments_lexer": "ipython3",
   "version": "3.8.6"
  },
  "orig_nbformat": 2,
  "kernelspec": {
   "name": "python3",
   "display_name": "Python 3.8.6 64-bit ('3.8.6': pyenv)",
   "metadata": {
    "interpreter": {
     "hash": "def1443cd7b0494ffc099209d4c7259e5a8304e131c4a6b9a38e7324fcb0905b"
    }
   }
  }
 },
 "nbformat": 4,
 "nbformat_minor": 2,
 "cells": [
  {
   "source": [
    "## 011 データを読み込む"
   ],
   "cell_type": "markdown",
   "metadata": {}
  },
  {
   "cell_type": "code",
   "execution_count": 222,
   "metadata": {},
   "outputs": [],
   "source": [
    "import pandas as pd\n",
    "import re\n",
    "import seaborn as sns"
   ]
  },
  {
   "cell_type": "code",
   "execution_count": 223,
   "metadata": {},
   "outputs": [
    {
     "output_type": "execute_result",
     "data": {
      "text/plain": [
       "         purchase_date item_name  item_price customer_name\n",
       "0  2019-06-13 18:02:34       商品A       100.0         深井菜々美\n",
       "1  2019-07-13 13:05:29     商 品 S         NaN          浅田賢二\n",
       "2  2019-05-11 19:42:07     商 品 a         NaN          南部慶二\n",
       "3  2019-02-12 23:40:45       商品Z      2600.0          麻生莉緒\n",
       "4  2019-04-22 03:09:35       商品a         NaN          平田鉄二"
      ],
      "text/html": "<div>\n<style scoped>\n    .dataframe tbody tr th:only-of-type {\n        vertical-align: middle;\n    }\n\n    .dataframe tbody tr th {\n        vertical-align: top;\n    }\n\n    .dataframe thead th {\n        text-align: right;\n    }\n</style>\n<table border=\"1\" class=\"dataframe\">\n  <thead>\n    <tr style=\"text-align: right;\">\n      <th></th>\n      <th>purchase_date</th>\n      <th>item_name</th>\n      <th>item_price</th>\n      <th>customer_name</th>\n    </tr>\n  </thead>\n  <tbody>\n    <tr>\n      <th>0</th>\n      <td>2019-06-13 18:02:34</td>\n      <td>商品A</td>\n      <td>100.0</td>\n      <td>深井菜々美</td>\n    </tr>\n    <tr>\n      <th>1</th>\n      <td>2019-07-13 13:05:29</td>\n      <td>商 品 S</td>\n      <td>NaN</td>\n      <td>浅田賢二</td>\n    </tr>\n    <tr>\n      <th>2</th>\n      <td>2019-05-11 19:42:07</td>\n      <td>商 品 a</td>\n      <td>NaN</td>\n      <td>南部慶二</td>\n    </tr>\n    <tr>\n      <th>3</th>\n      <td>2019-02-12 23:40:45</td>\n      <td>商品Z</td>\n      <td>2600.0</td>\n      <td>麻生莉緒</td>\n    </tr>\n    <tr>\n      <th>4</th>\n      <td>2019-04-22 03:09:35</td>\n      <td>商品a</td>\n      <td>NaN</td>\n      <td>平田鉄二</td>\n    </tr>\n  </tbody>\n</table>\n</div>"
     },
     "metadata": {},
     "execution_count": 223
    }
   ],
   "source": [
    "uriage_data = pd.read_csv('./input/100knoks/01-02/uriage.csv')\n",
    "uriage_data.head()"
   ]
  },
  {
   "cell_type": "code",
   "execution_count": 224,
   "metadata": {},
   "outputs": [
    {
     "output_type": "execute_result",
     "data": {
      "text/plain": [
       "        item_price\n",
       "count  2612.000000\n",
       "mean   1296.401225\n",
       "std     717.955460\n",
       "min     100.000000\n",
       "25%     700.000000\n",
       "50%    1300.000000\n",
       "75%    1900.000000\n",
       "max    2600.000000"
      ],
      "text/html": "<div>\n<style scoped>\n    .dataframe tbody tr th:only-of-type {\n        vertical-align: middle;\n    }\n\n    .dataframe tbody tr th {\n        vertical-align: top;\n    }\n\n    .dataframe thead th {\n        text-align: right;\n    }\n</style>\n<table border=\"1\" class=\"dataframe\">\n  <thead>\n    <tr style=\"text-align: right;\">\n      <th></th>\n      <th>item_price</th>\n    </tr>\n  </thead>\n  <tbody>\n    <tr>\n      <th>count</th>\n      <td>2612.000000</td>\n    </tr>\n    <tr>\n      <th>mean</th>\n      <td>1296.401225</td>\n    </tr>\n    <tr>\n      <th>std</th>\n      <td>717.955460</td>\n    </tr>\n    <tr>\n      <th>min</th>\n      <td>100.000000</td>\n    </tr>\n    <tr>\n      <th>25%</th>\n      <td>700.000000</td>\n    </tr>\n    <tr>\n      <th>50%</th>\n      <td>1300.000000</td>\n    </tr>\n    <tr>\n      <th>75%</th>\n      <td>1900.000000</td>\n    </tr>\n    <tr>\n      <th>max</th>\n      <td>2600.000000</td>\n    </tr>\n  </tbody>\n</table>\n</div>"
     },
     "metadata": {},
     "execution_count": 224
    }
   ],
   "source": [
    "uriage_data.describe()"
   ]
  },
  {
   "cell_type": "code",
   "execution_count": 225,
   "metadata": {},
   "outputs": [
    {
     "output_type": "execute_result",
     "data": {
      "text/plain": [
       "purchase_date     object\n",
       "item_name         object\n",
       "item_price       float64\n",
       "customer_name     object\n",
       "dtype: object"
      ]
     },
     "metadata": {},
     "execution_count": 225
    }
   ],
   "source": [
    "uriage_data.dtypes"
   ]
  },
  {
   "cell_type": "code",
   "execution_count": 226,
   "metadata": {},
   "outputs": [
    {
     "output_type": "execute_result",
     "data": {
      "text/plain": [
       "      顧客名        かな  地域                     メールアドレス         登録日\n",
       "0   須賀ひとみ    すが ひとみ  H市     suga_hitomi@example.com  2018/01/04\n",
       "1  岡田　 敏也   おかだ としや  E市   okada_toshiya@example.com  2017年2月16日\n",
       "2    芳賀 希    はが のぞみ  A市     haga_nozomi@example.com  2018/01/07\n",
       "3   荻野  愛    おぎの あい  F市        ogino_ai@example.com  2017年5月17日\n",
       "4   栗田 憲一  くりた けんいち  E市  kurita_kenichi@example.com  2018年1月27日"
      ],
      "text/html": "<div>\n<style scoped>\n    .dataframe tbody tr th:only-of-type {\n        vertical-align: middle;\n    }\n\n    .dataframe tbody tr th {\n        vertical-align: top;\n    }\n\n    .dataframe thead th {\n        text-align: right;\n    }\n</style>\n<table border=\"1\" class=\"dataframe\">\n  <thead>\n    <tr style=\"text-align: right;\">\n      <th></th>\n      <th>顧客名</th>\n      <th>かな</th>\n      <th>地域</th>\n      <th>メールアドレス</th>\n      <th>登録日</th>\n    </tr>\n  </thead>\n  <tbody>\n    <tr>\n      <th>0</th>\n      <td>須賀ひとみ</td>\n      <td>すが ひとみ</td>\n      <td>H市</td>\n      <td>suga_hitomi@example.com</td>\n      <td>2018/01/04</td>\n    </tr>\n    <tr>\n      <th>1</th>\n      <td>岡田　 敏也</td>\n      <td>おかだ としや</td>\n      <td>E市</td>\n      <td>okada_toshiya@example.com</td>\n      <td>2017年2月16日</td>\n    </tr>\n    <tr>\n      <th>2</th>\n      <td>芳賀 希</td>\n      <td>はが のぞみ</td>\n      <td>A市</td>\n      <td>haga_nozomi@example.com</td>\n      <td>2018/01/07</td>\n    </tr>\n    <tr>\n      <th>3</th>\n      <td>荻野  愛</td>\n      <td>おぎの あい</td>\n      <td>F市</td>\n      <td>ogino_ai@example.com</td>\n      <td>2017年5月17日</td>\n    </tr>\n    <tr>\n      <th>4</th>\n      <td>栗田 憲一</td>\n      <td>くりた けんいち</td>\n      <td>E市</td>\n      <td>kurita_kenichi@example.com</td>\n      <td>2018年1月27日</td>\n    </tr>\n  </tbody>\n</table>\n</div>"
     },
     "metadata": {},
     "execution_count": 226
    }
   ],
   "source": [
    "#kokyaku_data = pd.read_excel('./input/100knoks/01-02/kokyaku_daicho.xlsx')\n",
    "kokyaku_data = pd.read_csv('./input/100knoks/01-02/kokyaku_daicho.csv')\n",
    "kokyaku_data.head()"
   ]
  },
  {
   "source": [
    "## 012 データの揺れを見る"
   ],
   "cell_type": "markdown",
   "metadata": {}
  },
  {
   "cell_type": "code",
   "execution_count": 227,
   "metadata": {},
   "outputs": [
    {
     "output_type": "execute_result",
     "data": {
      "text/plain": [
       "0    2019-06-13 18:02:34\n",
       "1    2019-07-13 13:05:29\n",
       "2    2019-05-11 19:42:07\n",
       "3    2019-02-12 23:40:45\n",
       "4    2019-04-22 03:09:35\n",
       "Name: purchase_date, dtype: object"
      ]
     },
     "metadata": {},
     "execution_count": 227
    }
   ],
   "source": [
    "uriage_data['purchase_date'].head()"
   ]
  },
  {
   "cell_type": "code",
   "execution_count": 228,
   "metadata": {},
   "outputs": [
    {
     "output_type": "execute_result",
     "data": {
      "text/plain": [
       "0      商品A\n",
       "1    商 品 S\n",
       "2    商 品 a\n",
       "3      商品Z\n",
       "4      商品a\n",
       "Name: item_name, dtype: object"
      ]
     },
     "metadata": {},
     "execution_count": 228
    }
   ],
   "source": [
    "uriage_data['item_name'].head()"
   ]
  },
  {
   "cell_type": "code",
   "execution_count": 229,
   "metadata": {},
   "outputs": [
    {
     "output_type": "execute_result",
     "data": {
      "text/plain": [
       "0     100.0\n",
       "1       NaN\n",
       "2       NaN\n",
       "3    2600.0\n",
       "4       NaN\n",
       "Name: item_price, dtype: float64"
      ]
     },
     "metadata": {},
     "execution_count": 229
    }
   ],
   "source": [
    "uriage_data['item_price'].head()"
   ]
  },
  {
   "source": [
    "## 013 揺れがあるまま集計"
   ],
   "cell_type": "markdown",
   "metadata": {}
  },
  {
   "cell_type": "code",
   "execution_count": 230,
   "metadata": {},
   "outputs": [
    {
     "output_type": "execute_result",
     "data": {
      "text/plain": [
       "0    201906\n",
       "1    201907\n",
       "2    201905\n",
       "3    201902\n",
       "4    201904\n",
       "Name: purchase_month, dtype: object"
      ]
     },
     "metadata": {},
     "execution_count": 230
    }
   ],
   "source": [
    "uriage_data['purchase_date'] = pd.to_datetime(uriage_data['purchase_date'])\n",
    "uriage_data['purchase_month'] = uriage_data['purchase_date'].dt.strftime(\"%Y%m\")\n",
    "uriage_data['purchase_month'].head()"
   ]
  },
  {
   "cell_type": "code",
   "execution_count": 231,
   "metadata": {},
   "outputs": [
    {
     "output_type": "execute_result",
     "data": {
      "text/plain": [
       "item_name         商品W   商 品 n   商品E   商品M   商品P   商品S   商品W   商品X  商  品O  \\\n",
       "purchase_month                                                             \n",
       "201901              0       1     0     0     0     0     0     0      0   \n",
       "201902              0       0     0     0     0     0     0     1      0   \n",
       "201903              0       0     1     1     1     0     0     0      0   \n",
       "201904              1       0     0     0     0     0     0     0      0   \n",
       "201905              0       0     0     0     0     1     0     0      0   \n",
       "201906              0       0     0     0     0     0     1     0      0   \n",
       "201907              0       0     0     0     0     0     0     0      1   \n",
       "\n",
       "item_name       商  品Q  ...  商品k  商品l  商品o  商品p  商品r  商品s  商品t  商品v  商品x  商品y  \n",
       "purchase_month         ...                                                    \n",
       "201901              0  ...    1    1    1    0    0    0    0    0    0    0  \n",
       "201902              0  ...    0    0    0    0    0    1    1    1    0    0  \n",
       "201903              0  ...    0    0    0    0    0    0    0    0    0    0  \n",
       "201904              1  ...    0    0    0    0    0    1    0    0    0    0  \n",
       "201905              0  ...    0    1    0    0    0    0    0    0    0    1  \n",
       "201906              0  ...    0    0    0    1    0    0    0    0    1    0  \n",
       "201907              0  ...    0    0    1    0    2    0    0    0    0    0  \n",
       "\n",
       "[7 rows x 99 columns]"
      ],
      "text/html": "<div>\n<style scoped>\n    .dataframe tbody tr th:only-of-type {\n        vertical-align: middle;\n    }\n\n    .dataframe tbody tr th {\n        vertical-align: top;\n    }\n\n    .dataframe thead th {\n        text-align: right;\n    }\n</style>\n<table border=\"1\" class=\"dataframe\">\n  <thead>\n    <tr style=\"text-align: right;\">\n      <th>item_name</th>\n      <th>商品W</th>\n      <th>商 品 n</th>\n      <th>商品E</th>\n      <th>商品M</th>\n      <th>商品P</th>\n      <th>商品S</th>\n      <th>商品W</th>\n      <th>商品X</th>\n      <th>商  品O</th>\n      <th>商  品Q</th>\n      <th>...</th>\n      <th>商品k</th>\n      <th>商品l</th>\n      <th>商品o</th>\n      <th>商品p</th>\n      <th>商品r</th>\n      <th>商品s</th>\n      <th>商品t</th>\n      <th>商品v</th>\n      <th>商品x</th>\n      <th>商品y</th>\n    </tr>\n    <tr>\n      <th>purchase_month</th>\n      <th></th>\n      <th></th>\n      <th></th>\n      <th></th>\n      <th></th>\n      <th></th>\n      <th></th>\n      <th></th>\n      <th></th>\n      <th></th>\n      <th></th>\n      <th></th>\n      <th></th>\n      <th></th>\n      <th></th>\n      <th></th>\n      <th></th>\n      <th></th>\n      <th></th>\n      <th></th>\n      <th></th>\n    </tr>\n  </thead>\n  <tbody>\n    <tr>\n      <th>201901</th>\n      <td>0</td>\n      <td>1</td>\n      <td>0</td>\n      <td>0</td>\n      <td>0</td>\n      <td>0</td>\n      <td>0</td>\n      <td>0</td>\n      <td>0</td>\n      <td>0</td>\n      <td>...</td>\n      <td>1</td>\n      <td>1</td>\n      <td>1</td>\n      <td>0</td>\n      <td>0</td>\n      <td>0</td>\n      <td>0</td>\n      <td>0</td>\n      <td>0</td>\n      <td>0</td>\n    </tr>\n    <tr>\n      <th>201902</th>\n      <td>0</td>\n      <td>0</td>\n      <td>0</td>\n      <td>0</td>\n      <td>0</td>\n      <td>0</td>\n      <td>0</td>\n      <td>1</td>\n      <td>0</td>\n      <td>0</td>\n      <td>...</td>\n      <td>0</td>\n      <td>0</td>\n      <td>0</td>\n      <td>0</td>\n      <td>0</td>\n      <td>1</td>\n      <td>1</td>\n      <td>1</td>\n      <td>0</td>\n      <td>0</td>\n    </tr>\n    <tr>\n      <th>201903</th>\n      <td>0</td>\n      <td>0</td>\n      <td>1</td>\n      <td>1</td>\n      <td>1</td>\n      <td>0</td>\n      <td>0</td>\n      <td>0</td>\n      <td>0</td>\n      <td>0</td>\n      <td>...</td>\n      <td>0</td>\n      <td>0</td>\n      <td>0</td>\n      <td>0</td>\n      <td>0</td>\n      <td>0</td>\n      <td>0</td>\n      <td>0</td>\n      <td>0</td>\n      <td>0</td>\n    </tr>\n    <tr>\n      <th>201904</th>\n      <td>1</td>\n      <td>0</td>\n      <td>0</td>\n      <td>0</td>\n      <td>0</td>\n      <td>0</td>\n      <td>0</td>\n      <td>0</td>\n      <td>0</td>\n      <td>1</td>\n      <td>...</td>\n      <td>0</td>\n      <td>0</td>\n      <td>0</td>\n      <td>0</td>\n      <td>0</td>\n      <td>1</td>\n      <td>0</td>\n      <td>0</td>\n      <td>0</td>\n      <td>0</td>\n    </tr>\n    <tr>\n      <th>201905</th>\n      <td>0</td>\n      <td>0</td>\n      <td>0</td>\n      <td>0</td>\n      <td>0</td>\n      <td>1</td>\n      <td>0</td>\n      <td>0</td>\n      <td>0</td>\n      <td>0</td>\n      <td>...</td>\n      <td>0</td>\n      <td>1</td>\n      <td>0</td>\n      <td>0</td>\n      <td>0</td>\n      <td>0</td>\n      <td>0</td>\n      <td>0</td>\n      <td>0</td>\n      <td>1</td>\n    </tr>\n    <tr>\n      <th>201906</th>\n      <td>0</td>\n      <td>0</td>\n      <td>0</td>\n      <td>0</td>\n      <td>0</td>\n      <td>0</td>\n      <td>1</td>\n      <td>0</td>\n      <td>0</td>\n      <td>0</td>\n      <td>...</td>\n      <td>0</td>\n      <td>0</td>\n      <td>0</td>\n      <td>1</td>\n      <td>0</td>\n      <td>0</td>\n      <td>0</td>\n      <td>0</td>\n      <td>1</td>\n      <td>0</td>\n    </tr>\n    <tr>\n      <th>201907</th>\n      <td>0</td>\n      <td>0</td>\n      <td>0</td>\n      <td>0</td>\n      <td>0</td>\n      <td>0</td>\n      <td>0</td>\n      <td>0</td>\n      <td>1</td>\n      <td>0</td>\n      <td>...</td>\n      <td>0</td>\n      <td>0</td>\n      <td>1</td>\n      <td>0</td>\n      <td>2</td>\n      <td>0</td>\n      <td>0</td>\n      <td>0</td>\n      <td>0</td>\n      <td>0</td>\n    </tr>\n  </tbody>\n</table>\n<p>7 rows × 99 columns</p>\n</div>"
     },
     "metadata": {},
     "execution_count": 231
    }
   ],
   "source": [
    "res = uriage_data.pivot_table(index='purchase_month', columns='item_name', aggfunc='size', fill_value=0)\n",
    "res"
   ]
  },
  {
   "cell_type": "code",
   "execution_count": 232,
   "metadata": {},
   "outputs": [
    {
     "output_type": "execute_result",
     "data": {
      "text/plain": [
       "               item_price                                                  \\\n",
       "item_name             商品W  商 品 n  商品E   商品M   商品P   商品S   商品W   商品X 商  品O   \n",
       "purchase_month                                                              \n",
       "201901                  0   1400    0     0     0     0     0     0     0   \n",
       "201902                  0      0    0     0     0     0     0  2400     0   \n",
       "201903                  0      0  500  1300  1600     0     0     0     0   \n",
       "201904               2300      0    0     0     0     0     0     0     0   \n",
       "201905                  0      0    0     0     0  1900     0     0     0   \n",
       "201906                  0      0    0     0     0     0  2300     0     0   \n",
       "201907                  0      0    0     0     0     0     0     0     0   \n",
       "\n",
       "                      ...                                                  \\\n",
       "item_name      商  品Q  ...   商品k   商品l   商品o   商品p   商品r   商品s   商品t   商品v   \n",
       "purchase_month        ...                                                   \n",
       "201901             0  ...  1100  1200  1500     0     0     0     0     0   \n",
       "201902             0  ...     0     0     0     0     0  1900  2000  2200   \n",
       "201903             0  ...     0     0     0     0     0     0     0     0   \n",
       "201904          1700  ...     0     0     0     0     0  1900     0     0   \n",
       "201905             0  ...     0  1200     0     0     0     0     0     0   \n",
       "201906             0  ...     0     0     0  1600     0     0     0     0   \n",
       "201907             0  ...     0     0  1500     0  1800     0     0     0   \n",
       "\n",
       "                            \n",
       "item_name        商品x   商品y  \n",
       "purchase_month              \n",
       "201901             0     0  \n",
       "201902             0     0  \n",
       "201903             0     0  \n",
       "201904             0     0  \n",
       "201905             0  2500  \n",
       "201906          2400     0  \n",
       "201907             0     0  \n",
       "\n",
       "[7 rows x 99 columns]"
      ],
      "text/html": "<div>\n<style scoped>\n    .dataframe tbody tr th:only-of-type {\n        vertical-align: middle;\n    }\n\n    .dataframe tbody tr th {\n        vertical-align: top;\n    }\n\n    .dataframe thead tr th {\n        text-align: left;\n    }\n\n    .dataframe thead tr:last-of-type th {\n        text-align: right;\n    }\n</style>\n<table border=\"1\" class=\"dataframe\">\n  <thead>\n    <tr>\n      <th></th>\n      <th colspan=\"21\" halign=\"left\">item_price</th>\n    </tr>\n    <tr>\n      <th>item_name</th>\n      <th>商品W</th>\n      <th>商 品 n</th>\n      <th>商品E</th>\n      <th>商品M</th>\n      <th>商品P</th>\n      <th>商品S</th>\n      <th>商品W</th>\n      <th>商品X</th>\n      <th>商  品O</th>\n      <th>商  品Q</th>\n      <th>...</th>\n      <th>商品k</th>\n      <th>商品l</th>\n      <th>商品o</th>\n      <th>商品p</th>\n      <th>商品r</th>\n      <th>商品s</th>\n      <th>商品t</th>\n      <th>商品v</th>\n      <th>商品x</th>\n      <th>商品y</th>\n    </tr>\n    <tr>\n      <th>purchase_month</th>\n      <th></th>\n      <th></th>\n      <th></th>\n      <th></th>\n      <th></th>\n      <th></th>\n      <th></th>\n      <th></th>\n      <th></th>\n      <th></th>\n      <th></th>\n      <th></th>\n      <th></th>\n      <th></th>\n      <th></th>\n      <th></th>\n      <th></th>\n      <th></th>\n      <th></th>\n      <th></th>\n      <th></th>\n    </tr>\n  </thead>\n  <tbody>\n    <tr>\n      <th>201901</th>\n      <td>0</td>\n      <td>1400</td>\n      <td>0</td>\n      <td>0</td>\n      <td>0</td>\n      <td>0</td>\n      <td>0</td>\n      <td>0</td>\n      <td>0</td>\n      <td>0</td>\n      <td>...</td>\n      <td>1100</td>\n      <td>1200</td>\n      <td>1500</td>\n      <td>0</td>\n      <td>0</td>\n      <td>0</td>\n      <td>0</td>\n      <td>0</td>\n      <td>0</td>\n      <td>0</td>\n    </tr>\n    <tr>\n      <th>201902</th>\n      <td>0</td>\n      <td>0</td>\n      <td>0</td>\n      <td>0</td>\n      <td>0</td>\n      <td>0</td>\n      <td>0</td>\n      <td>2400</td>\n      <td>0</td>\n      <td>0</td>\n      <td>...</td>\n      <td>0</td>\n      <td>0</td>\n      <td>0</td>\n      <td>0</td>\n      <td>0</td>\n      <td>1900</td>\n      <td>2000</td>\n      <td>2200</td>\n      <td>0</td>\n      <td>0</td>\n    </tr>\n    <tr>\n      <th>201903</th>\n      <td>0</td>\n      <td>0</td>\n      <td>500</td>\n      <td>1300</td>\n      <td>1600</td>\n      <td>0</td>\n      <td>0</td>\n      <td>0</td>\n      <td>0</td>\n      <td>0</td>\n      <td>...</td>\n      <td>0</td>\n      <td>0</td>\n      <td>0</td>\n      <td>0</td>\n      <td>0</td>\n      <td>0</td>\n      <td>0</td>\n      <td>0</td>\n      <td>0</td>\n      <td>0</td>\n    </tr>\n    <tr>\n      <th>201904</th>\n      <td>2300</td>\n      <td>0</td>\n      <td>0</td>\n      <td>0</td>\n      <td>0</td>\n      <td>0</td>\n      <td>0</td>\n      <td>0</td>\n      <td>0</td>\n      <td>1700</td>\n      <td>...</td>\n      <td>0</td>\n      <td>0</td>\n      <td>0</td>\n      <td>0</td>\n      <td>0</td>\n      <td>1900</td>\n      <td>0</td>\n      <td>0</td>\n      <td>0</td>\n      <td>0</td>\n    </tr>\n    <tr>\n      <th>201905</th>\n      <td>0</td>\n      <td>0</td>\n      <td>0</td>\n      <td>0</td>\n      <td>0</td>\n      <td>1900</td>\n      <td>0</td>\n      <td>0</td>\n      <td>0</td>\n      <td>0</td>\n      <td>...</td>\n      <td>0</td>\n      <td>1200</td>\n      <td>0</td>\n      <td>0</td>\n      <td>0</td>\n      <td>0</td>\n      <td>0</td>\n      <td>0</td>\n      <td>0</td>\n      <td>2500</td>\n    </tr>\n    <tr>\n      <th>201906</th>\n      <td>0</td>\n      <td>0</td>\n      <td>0</td>\n      <td>0</td>\n      <td>0</td>\n      <td>0</td>\n      <td>2300</td>\n      <td>0</td>\n      <td>0</td>\n      <td>0</td>\n      <td>...</td>\n      <td>0</td>\n      <td>0</td>\n      <td>0</td>\n      <td>1600</td>\n      <td>0</td>\n      <td>0</td>\n      <td>0</td>\n      <td>0</td>\n      <td>2400</td>\n      <td>0</td>\n    </tr>\n    <tr>\n      <th>201907</th>\n      <td>0</td>\n      <td>0</td>\n      <td>0</td>\n      <td>0</td>\n      <td>0</td>\n      <td>0</td>\n      <td>0</td>\n      <td>0</td>\n      <td>0</td>\n      <td>0</td>\n      <td>...</td>\n      <td>0</td>\n      <td>0</td>\n      <td>1500</td>\n      <td>0</td>\n      <td>1800</td>\n      <td>0</td>\n      <td>0</td>\n      <td>0</td>\n      <td>0</td>\n      <td>0</td>\n    </tr>\n  </tbody>\n</table>\n<p>7 rows × 99 columns</p>\n</div>"
     },
     "metadata": {},
     "execution_count": 232
    }
   ],
   "source": [
    "res = uriage_data.pivot_table(index='purchase_month', columns='item_name', aggfunc='sum', fill_value=0)\n",
    "res"
   ]
  },
  {
   "source": [
    "## 014 商品名の揺れを補正\n",
    "\n",
    "無駄なスペースを削除して、英数字を半角全角、大文字小文字を統一する"
   ],
   "cell_type": "markdown",
   "metadata": {}
  },
  {
   "cell_type": "code",
   "execution_count": 233,
   "metadata": {},
   "outputs": [
    {
     "output_type": "stream",
     "name": "stdout",
     "text": [
      "99\n"
     ]
    }
   ],
   "source": [
    "print(len(pd.unique(uriage_data['item_name'])))"
   ]
  },
  {
   "cell_type": "code",
   "execution_count": 234,
   "metadata": {},
   "outputs": [
    {
     "output_type": "stream",
     "name": "stdout",
     "text": [
      "78\n"
     ]
    }
   ],
   "source": [
    "uriage_data['item_name'] = uriage_data['item_name'].str.upper()\n",
    "print(len(pd.unique(uriage_data['item_name'])))"
   ]
  },
  {
   "cell_type": "code",
   "execution_count": 235,
   "metadata": {},
   "outputs": [
    {
     "output_type": "stream",
     "name": "stdout",
     "text": [
      "78\n"
     ]
    }
   ],
   "source": [
    "uriage_data['item_name'] = uriage_data['item_name'].str.replace('　', '')\n",
    "print(len(pd.unique(uriage_data['item_name'])))"
   ]
  },
  {
   "cell_type": "code",
   "execution_count": 236,
   "metadata": {},
   "outputs": [
    {
     "output_type": "stream",
     "name": "stdout",
     "text": [
      "26\n"
     ]
    }
   ],
   "source": [
    "uriage_data['item_name'] = uriage_data['item_name'].str.replace(' ', '')\n",
    "print(len(pd.unique(uriage_data['item_name'])))"
   ]
  },
  {
   "cell_type": "code",
   "execution_count": 237,
   "metadata": {},
   "outputs": [
    {
     "output_type": "execute_result",
     "data": {
      "text/plain": [
       "           purchase_date item_name  item_price customer_name purchase_month\n",
       "0    2019-06-13 18:02:34       商品A       100.0         深井菜々美         201906\n",
       "1748 2019-05-19 20:22:22       商品A       100.0          松川綾女         201905\n",
       "223  2019-06-25 08:13:20       商品A       100.0           板橋隆         201906\n",
       "1742 2019-06-13 16:03:17       商品A       100.0          小平陽子         201906\n",
       "1738 2019-02-10 00:28:43       商品A       100.0          松田浩正         201902\n",
       "...                  ...       ...         ...           ...            ...\n",
       "2880 2019-04-22 00:36:52       商品Y         NaN          田辺光洋         201904\n",
       "2881 2019-04-30 14:21:09       商品Y         NaN          高原充則         201904\n",
       "1525 2019-01-24 10:27:23       商品Y      2500.0         五十嵐春樹         201901\n",
       "1361 2019-05-28 13:45:32       商品Y      2500.0         大崎ヒカル         201905\n",
       "3    2019-02-12 23:40:45       商品Z      2600.0          麻生莉緒         201902\n",
       "\n",
       "[2999 rows x 5 columns]"
      ],
      "text/html": "<div>\n<style scoped>\n    .dataframe tbody tr th:only-of-type {\n        vertical-align: middle;\n    }\n\n    .dataframe tbody tr th {\n        vertical-align: top;\n    }\n\n    .dataframe thead th {\n        text-align: right;\n    }\n</style>\n<table border=\"1\" class=\"dataframe\">\n  <thead>\n    <tr style=\"text-align: right;\">\n      <th></th>\n      <th>purchase_date</th>\n      <th>item_name</th>\n      <th>item_price</th>\n      <th>customer_name</th>\n      <th>purchase_month</th>\n    </tr>\n  </thead>\n  <tbody>\n    <tr>\n      <th>0</th>\n      <td>2019-06-13 18:02:34</td>\n      <td>商品A</td>\n      <td>100.0</td>\n      <td>深井菜々美</td>\n      <td>201906</td>\n    </tr>\n    <tr>\n      <th>1748</th>\n      <td>2019-05-19 20:22:22</td>\n      <td>商品A</td>\n      <td>100.0</td>\n      <td>松川綾女</td>\n      <td>201905</td>\n    </tr>\n    <tr>\n      <th>223</th>\n      <td>2019-06-25 08:13:20</td>\n      <td>商品A</td>\n      <td>100.0</td>\n      <td>板橋隆</td>\n      <td>201906</td>\n    </tr>\n    <tr>\n      <th>1742</th>\n      <td>2019-06-13 16:03:17</td>\n      <td>商品A</td>\n      <td>100.0</td>\n      <td>小平陽子</td>\n      <td>201906</td>\n    </tr>\n    <tr>\n      <th>1738</th>\n      <td>2019-02-10 00:28:43</td>\n      <td>商品A</td>\n      <td>100.0</td>\n      <td>松田浩正</td>\n      <td>201902</td>\n    </tr>\n    <tr>\n      <th>...</th>\n      <td>...</td>\n      <td>...</td>\n      <td>...</td>\n      <td>...</td>\n      <td>...</td>\n    </tr>\n    <tr>\n      <th>2880</th>\n      <td>2019-04-22 00:36:52</td>\n      <td>商品Y</td>\n      <td>NaN</td>\n      <td>田辺光洋</td>\n      <td>201904</td>\n    </tr>\n    <tr>\n      <th>2881</th>\n      <td>2019-04-30 14:21:09</td>\n      <td>商品Y</td>\n      <td>NaN</td>\n      <td>高原充則</td>\n      <td>201904</td>\n    </tr>\n    <tr>\n      <th>1525</th>\n      <td>2019-01-24 10:27:23</td>\n      <td>商品Y</td>\n      <td>2500.0</td>\n      <td>五十嵐春樹</td>\n      <td>201901</td>\n    </tr>\n    <tr>\n      <th>1361</th>\n      <td>2019-05-28 13:45:32</td>\n      <td>商品Y</td>\n      <td>2500.0</td>\n      <td>大崎ヒカル</td>\n      <td>201905</td>\n    </tr>\n    <tr>\n      <th>3</th>\n      <td>2019-02-12 23:40:45</td>\n      <td>商品Z</td>\n      <td>2600.0</td>\n      <td>麻生莉緒</td>\n      <td>201902</td>\n    </tr>\n  </tbody>\n</table>\n<p>2999 rows × 5 columns</p>\n</div>"
     },
     "metadata": {},
     "execution_count": 237
    }
   ],
   "source": [
    "uriage_data.sort_values(by='item_name', ascending=True)"
   ]
  },
  {
   "cell_type": "code",
   "execution_count": 238,
   "metadata": {},
   "outputs": [
    {
     "output_type": "stream",
     "name": "stdout",
     "text": [
      "['商品A' '商品S' '商品Z' '商品V' '商品O' '商品U' '商品L' '商品C' '商品I' '商品R' '商品X' '商品G'\n '商品P' '商品Q' '商品Y' '商品N' '商品W' '商品E' '商品K' '商品B' '商品F' '商品D' '商品M' '商品H'\n '商品T' '商品J']\n26\n"
     ]
    }
   ],
   "source": [
    "print(uriage_data['item_name'].unique())\n",
    "print(len(uriage_data['item_name'].unique()))"
   ]
  },
  {
   "source": [
    "## 015 金額の欠損を補完する"
   ],
   "cell_type": "markdown",
   "metadata": {}
  },
  {
   "cell_type": "code",
   "execution_count": 239,
   "metadata": {},
   "outputs": [
    {
     "output_type": "execute_result",
     "data": {
      "text/plain": [
       "purchase_date       0\n",
       "item_name           0\n",
       "item_price        387\n",
       "customer_name       0\n",
       "purchase_month      0\n",
       "dtype: int64"
      ]
     },
     "metadata": {},
     "execution_count": 239
    }
   ],
   "source": [
    "uriage_data.isnull().sum()"
   ]
  },
  {
   "cell_type": "code",
   "execution_count": 240,
   "metadata": {},
   "outputs": [
    {
     "output_type": "execute_result",
     "data": {
      "text/plain": [
       "purchase_date     False\n",
       "item_name         False\n",
       "item_price         True\n",
       "customer_name     False\n",
       "purchase_month    False\n",
       "dtype: bool"
      ]
     },
     "metadata": {},
     "execution_count": 240
    }
   ],
   "source": [
    "uriage_data.isnull().any(axis=0)"
   ]
  },
  {
   "cell_type": "code",
   "execution_count": 241,
   "metadata": {},
   "outputs": [
    {
     "output_type": "execute_result",
     "data": {
      "text/plain": [
       "0       False\n",
       "1        True\n",
       "2        True\n",
       "3       False\n",
       "4        True\n",
       "        ...  \n",
       "2994    False\n",
       "2995    False\n",
       "2996     True\n",
       "2997     True\n",
       "2998    False\n",
       "Name: item_price, Length: 2999, dtype: bool"
      ]
     },
     "metadata": {},
     "execution_count": 241
    }
   ],
   "source": [
    "flg_is_null = uriage_data['item_price'].isnull()\n",
    "flg_is_null"
   ]
  },
  {
   "cell_type": "code",
   "execution_count": 242,
   "metadata": {
    "tags": []
   },
   "outputs": [
    {
     "output_type": "execute_result",
     "data": {
      "text/plain": [
       "        purchase_date item_name  item_price customer_name purchase_month\n",
       "0 2019-06-13 18:02:34       商品A       100.0         深井菜々美         201906\n",
       "1 2019-07-13 13:05:29       商品S      1900.0          浅田賢二         201907\n",
       "2 2019-05-11 19:42:07       商品A       100.0          南部慶二         201905\n",
       "3 2019-02-12 23:40:45       商品Z      2600.0          麻生莉緒         201902\n",
       "4 2019-04-22 03:09:35       商品A       100.0          平田鉄二         201904"
      ],
      "text/html": "<div>\n<style scoped>\n    .dataframe tbody tr th:only-of-type {\n        vertical-align: middle;\n    }\n\n    .dataframe tbody tr th {\n        vertical-align: top;\n    }\n\n    .dataframe thead th {\n        text-align: right;\n    }\n</style>\n<table border=\"1\" class=\"dataframe\">\n  <thead>\n    <tr style=\"text-align: right;\">\n      <th></th>\n      <th>purchase_date</th>\n      <th>item_name</th>\n      <th>item_price</th>\n      <th>customer_name</th>\n      <th>purchase_month</th>\n    </tr>\n  </thead>\n  <tbody>\n    <tr>\n      <th>0</th>\n      <td>2019-06-13 18:02:34</td>\n      <td>商品A</td>\n      <td>100.0</td>\n      <td>深井菜々美</td>\n      <td>201906</td>\n    </tr>\n    <tr>\n      <th>1</th>\n      <td>2019-07-13 13:05:29</td>\n      <td>商品S</td>\n      <td>1900.0</td>\n      <td>浅田賢二</td>\n      <td>201907</td>\n    </tr>\n    <tr>\n      <th>2</th>\n      <td>2019-05-11 19:42:07</td>\n      <td>商品A</td>\n      <td>100.0</td>\n      <td>南部慶二</td>\n      <td>201905</td>\n    </tr>\n    <tr>\n      <th>3</th>\n      <td>2019-02-12 23:40:45</td>\n      <td>商品Z</td>\n      <td>2600.0</td>\n      <td>麻生莉緒</td>\n      <td>201902</td>\n    </tr>\n    <tr>\n      <th>4</th>\n      <td>2019-04-22 03:09:35</td>\n      <td>商品A</td>\n      <td>100.0</td>\n      <td>平田鉄二</td>\n      <td>201904</td>\n    </tr>\n  </tbody>\n</table>\n</div>"
     },
     "metadata": {},
     "execution_count": 242
    }
   ],
   "source": [
    "for trg in list(uriage_data.loc[flg_is_null, 'item_name'].unique()):\n",
    "    price = uriage_data.loc[(~flg_is_null) & (uriage_data['item_name'] == trg), 'item_price'].max()\n",
    "    uriage_data.loc[(flg_is_null) & (uriage_data['item_name'] == trg), 'item_price'] = price\n",
    "\n",
    "uriage_data.head()"
   ]
  },
  {
   "source": [
    "### locメソッドの使い方\n",
    "locメソッドは、条件を指定してその条件に合致するデータフレームを抽出することが可能。\n",
    "１つ目に条件を渡す。今回の場合は金額がNaNのデータなので、flag_is_nullを渡す。2番目に取り出すデータのカラム名を渡すので\n",
    "今回は'item_name'を渡している。"
   ],
   "cell_type": "markdown",
   "metadata": {}
  },
  {
   "cell_type": "code",
   "execution_count": 243,
   "metadata": {},
   "outputs": [
    {
     "output_type": "execute_result",
     "data": {
      "text/plain": [
       "purchase_date     False\n",
       "item_name         False\n",
       "item_price        False\n",
       "customer_name     False\n",
       "purchase_month    False\n",
       "dtype: bool"
      ]
     },
     "metadata": {},
     "execution_count": 243
    }
   ],
   "source": [
    "uriage_data.isnull().any(axis=0)"
   ]
  },
  {
   "cell_type": "code",
   "execution_count": 244,
   "metadata": {},
   "outputs": [
    {
     "output_type": "stream",
     "name": "stdout",
     "text": [
      "商品A 最大値 100.0\n",
      "商品A 最小値 100.0\n",
      "--------------------------------------------------------------------------------\n",
      "商品B 最大値 200.0\n",
      "商品B 最小値 200.0\n",
      "--------------------------------------------------------------------------------\n",
      "商品C 最大値 300.0\n",
      "商品C 最小値 300.0\n",
      "--------------------------------------------------------------------------------\n",
      "商品D 最大値 400.0\n",
      "商品D 最小値 400.0\n",
      "--------------------------------------------------------------------------------\n",
      "商品E 最大値 500.0\n",
      "商品E 最小値 500.0\n",
      "--------------------------------------------------------------------------------\n",
      "商品F 最大値 600.0\n",
      "商品F 最小値 600.0\n",
      "--------------------------------------------------------------------------------\n",
      "商品G 最大値 700.0\n",
      "商品G 最小値 700.0\n",
      "--------------------------------------------------------------------------------\n",
      "商品H 最大値 800.0\n",
      "商品H 最小値 800.0\n",
      "--------------------------------------------------------------------------------\n",
      "商品I 最大値 900.0\n",
      "商品I 最小値 900.0\n",
      "--------------------------------------------------------------------------------\n",
      "商品J 最大値 1000.0\n",
      "商品J 最小値 1000.0\n",
      "--------------------------------------------------------------------------------\n",
      "商品K 最大値 1100.0\n",
      "商品K 最小値 1100.0\n",
      "--------------------------------------------------------------------------------\n",
      "商品L 最大値 1200.0\n",
      "商品L 最小値 1200.0\n",
      "--------------------------------------------------------------------------------\n",
      "商品M 最大値 1300.0\n",
      "商品M 最小値 1300.0\n",
      "--------------------------------------------------------------------------------\n",
      "商品N 最大値 1400.0\n",
      "商品N 最小値 1400.0\n",
      "--------------------------------------------------------------------------------\n",
      "商品O 最大値 1500.0\n",
      "商品O 最小値 1500.0\n",
      "--------------------------------------------------------------------------------\n",
      "商品P 最大値 1600.0\n",
      "商品P 最小値 1600.0\n",
      "--------------------------------------------------------------------------------\n",
      "商品Q 最大値 1700.0\n",
      "商品Q 最小値 1700.0\n",
      "--------------------------------------------------------------------------------\n",
      "商品R 最大値 1800.0\n",
      "商品R 最小値 1800.0\n",
      "--------------------------------------------------------------------------------\n",
      "商品S 最大値 1900.0\n",
      "商品S 最小値 1900.0\n",
      "--------------------------------------------------------------------------------\n",
      "商品T 最大値 2000.0\n",
      "商品T 最小値 2000.0\n",
      "--------------------------------------------------------------------------------\n",
      "商品U 最大値 2100.0\n",
      "商品U 最小値 2100.0\n",
      "--------------------------------------------------------------------------------\n",
      "商品V 最大値 2200.0\n",
      "商品V 最小値 2200.0\n",
      "--------------------------------------------------------------------------------\n",
      "商品W 最大値 2300.0\n",
      "商品W 最小値 2300.0\n",
      "--------------------------------------------------------------------------------\n",
      "商品X 最大値 2400.0\n",
      "商品X 最小値 2400.0\n",
      "--------------------------------------------------------------------------------\n",
      "商品Y 最大値 2500.0\n",
      "商品Y 最小値 2500.0\n",
      "--------------------------------------------------------------------------------\n",
      "商品Z 最大値 2600.0\n",
      "商品Z 最小値 2600.0\n",
      "--------------------------------------------------------------------------------\n"
     ]
    }
   ],
   "source": [
    "for trg in list(uriage_data['item_name'].sort_values().unique()):\n",
    "    print(trg, '最大値', uriage_data.loc[uriage_data['item_name'] == trg, 'item_price'].max(skipna=False))\n",
    "    print(trg, '最小値', uriage_data.loc[uriage_data['item_name'] == trg, 'item_price'].min(skipna=False))\n",
    "    print('-'*80)"
   ]
  },
  {
   "source": [
    "## 顧客名の揺れを補正する"
   ],
   "cell_type": "markdown",
   "metadata": {}
  },
  {
   "cell_type": "code",
   "execution_count": 245,
   "metadata": {},
   "outputs": [
    {
     "output_type": "execute_result",
     "data": {
      "text/plain": [
       "0     須賀ひとみ\n",
       "1    岡田　 敏也\n",
       "2      芳賀 希\n",
       "3     荻野  愛\n",
       "4     栗田 憲一\n",
       "Name: 顧客名, dtype: object"
      ]
     },
     "metadata": {},
     "execution_count": 245
    }
   ],
   "source": [
    "kokyaku_data['顧客名'].head()"
   ]
  },
  {
   "cell_type": "code",
   "execution_count": 246,
   "metadata": {},
   "outputs": [
    {
     "output_type": "execute_result",
     "data": {
      "text/plain": [
       "0    深井菜々美\n",
       "1     浅田賢二\n",
       "2     南部慶二\n",
       "3     麻生莉緒\n",
       "4     平田鉄二\n",
       "Name: customer_name, dtype: object"
      ]
     },
     "metadata": {},
     "execution_count": 246
    }
   ],
   "source": [
    "uriage_data['customer_name'].head()"
   ]
  },
  {
   "cell_type": "code",
   "execution_count": 247,
   "metadata": {},
   "outputs": [
    {
     "output_type": "execute_result",
     "data": {
      "text/plain": [
       "     顧客名        かな  地域                     メールアドレス         登録日\n",
       "0  須賀ひとみ    すが ひとみ  H市     suga_hitomi@example.com  2018/01/04\n",
       "1   岡田敏也   おかだ としや  E市   okada_toshiya@example.com  2017年2月16日\n",
       "2    芳賀希    はが のぞみ  A市     haga_nozomi@example.com  2018/01/07\n",
       "3    荻野愛    おぎの あい  F市        ogino_ai@example.com  2017年5月17日\n",
       "4   栗田憲一  くりた けんいち  E市  kurita_kenichi@example.com  2018年1月27日"
      ],
      "text/html": "<div>\n<style scoped>\n    .dataframe tbody tr th:only-of-type {\n        vertical-align: middle;\n    }\n\n    .dataframe tbody tr th {\n        vertical-align: top;\n    }\n\n    .dataframe thead th {\n        text-align: right;\n    }\n</style>\n<table border=\"1\" class=\"dataframe\">\n  <thead>\n    <tr style=\"text-align: right;\">\n      <th></th>\n      <th>顧客名</th>\n      <th>かな</th>\n      <th>地域</th>\n      <th>メールアドレス</th>\n      <th>登録日</th>\n    </tr>\n  </thead>\n  <tbody>\n    <tr>\n      <th>0</th>\n      <td>須賀ひとみ</td>\n      <td>すが ひとみ</td>\n      <td>H市</td>\n      <td>suga_hitomi@example.com</td>\n      <td>2018/01/04</td>\n    </tr>\n    <tr>\n      <th>1</th>\n      <td>岡田敏也</td>\n      <td>おかだ としや</td>\n      <td>E市</td>\n      <td>okada_toshiya@example.com</td>\n      <td>2017年2月16日</td>\n    </tr>\n    <tr>\n      <th>2</th>\n      <td>芳賀希</td>\n      <td>はが のぞみ</td>\n      <td>A市</td>\n      <td>haga_nozomi@example.com</td>\n      <td>2018/01/07</td>\n    </tr>\n    <tr>\n      <th>3</th>\n      <td>荻野愛</td>\n      <td>おぎの あい</td>\n      <td>F市</td>\n      <td>ogino_ai@example.com</td>\n      <td>2017年5月17日</td>\n    </tr>\n    <tr>\n      <th>4</th>\n      <td>栗田憲一</td>\n      <td>くりた けんいち</td>\n      <td>E市</td>\n      <td>kurita_kenichi@example.com</td>\n      <td>2018年1月27日</td>\n    </tr>\n  </tbody>\n</table>\n</div>"
     },
     "metadata": {},
     "execution_count": 247
    }
   ],
   "source": [
    "kokyaku_data['顧客名'] = kokyaku_data['顧客名'].str.replace('　', '')\n",
    "kokyaku_data['顧客名'] = kokyaku_data['顧客名'].str.replace(' ', '')\n",
    "kokyaku_data.head()\n"
   ]
  },
  {
   "source": [
    "## 日付の揺れを補正する"
   ],
   "cell_type": "markdown",
   "metadata": {}
  },
  {
   "cell_type": "code",
   "execution_count": 248,
   "metadata": {},
   "outputs": [
    {
     "output_type": "execute_result",
     "data": {
      "text/plain": [
       "0"
      ]
     },
     "metadata": {},
     "execution_count": 248
    }
   ],
   "source": [
    "kokyaku_data['登録日'].astype('str').str.isdigit().sum()"
   ]
  },
  {
   "cell_type": "code",
   "execution_count": 249,
   "metadata": {},
   "outputs": [
    {
     "output_type": "execute_result",
     "data": {
      "text/plain": [
       "0      False\n",
       "1      False\n",
       "2      False\n",
       "3      False\n",
       "4      False\n",
       "       ...  \n",
       "195    False\n",
       "196    False\n",
       "197    False\n",
       "198    False\n",
       "199    False\n",
       "Name: 登録日, Length: 200, dtype: bool"
      ]
     },
     "metadata": {},
     "execution_count": 249
    }
   ],
   "source": [
    "flg_is_serial = kokyaku_data['登録日'].astype('str').str.isdigit()\n",
    "flg_is_serial"
   ]
  },
  {
   "cell_type": "code",
   "execution_count": 250,
   "metadata": {},
   "outputs": [
    {
     "output_type": "execute_result",
     "data": {
      "text/plain": [
       "0      False\n",
       "1       True\n",
       "2      False\n",
       "3       True\n",
       "4       True\n",
       "       ...  \n",
       "195    False\n",
       "196    False\n",
       "197    False\n",
       "198    False\n",
       "199    False\n",
       "Name: 登録日, Length: 200, dtype: bool"
      ]
     },
     "metadata": {},
     "execution_count": 250
    }
   ],
   "source": [
    "flg_is_jstring = kokyaku_data['登録日'].astype('str').str.find('年') > 0\n",
    "flg_is_jstring"
   ]
  },
  {
   "cell_type": "code",
   "execution_count": 251,
   "metadata": {},
   "outputs": [
    {
     "output_type": "execute_result",
     "data": {
      "text/plain": [
       "0       True\n",
       "1      False\n",
       "2       True\n",
       "3      False\n",
       "4      False\n",
       "       ...  \n",
       "195     True\n",
       "196     True\n",
       "197     True\n",
       "198     True\n",
       "199     True\n",
       "Name: 登録日, Length: 200, dtype: bool"
      ]
     },
     "metadata": {},
     "execution_count": 251
    }
   ],
   "source": [
    "flg_is_string = kokyaku_data['登録日'].astype('str').str.find('/') > 0\n",
    "flg_is_string"
   ]
  },
  {
   "cell_type": "code",
   "execution_count": 252,
   "metadata": {},
   "outputs": [
    {
     "output_type": "execute_result",
     "data": {
      "text/plain": [
       "Series([], Name: 登録日, dtype: datetime64[ns])"
      ]
     },
     "metadata": {},
     "execution_count": 252
    }
   ],
   "source": [
    "from_serial = pd.to_timedelta(kokyaku_data.loc[flg_is_serial, '登録日'].astype('float'), unit='D') + pd.to_datetime('1900/01/01')\n",
    "from_serial"
   ]
  },
  {
   "cell_type": "code",
   "execution_count": 253,
   "metadata": {},
   "outputs": [],
   "source": [
    "from_jstring = pd.to_datetime(kokyaku_data.loc[flg_is_jstring, '登録日'], format=\"%Y年%m月%d日\")"
   ]
  },
  {
   "cell_type": "code",
   "execution_count": 254,
   "metadata": {},
   "outputs": [
    {
     "output_type": "execute_result",
     "data": {
      "text/plain": [
       "0     2018-01-04\n",
       "2     2018-01-07\n",
       "5     2017-06-20\n",
       "6     2018-06-11\n",
       "7     2017-05-19\n",
       "         ...    \n",
       "195   2017-06-20\n",
       "196   2018-06-20\n",
       "197   2017-04-29\n",
       "198   2019-04-19\n",
       "199   2019-04-23\n",
       "Name: 登録日, Length: 178, dtype: datetime64[ns]"
      ]
     },
     "metadata": {},
     "execution_count": 254
    }
   ],
   "source": [
    "from_string = pd.to_datetime(kokyaku_data.loc[flg_is_string, '登録日'], format=\"%Y/%m/%d\")\n",
    "from_string"
   ]
  },
  {
   "cell_type": "code",
   "execution_count": 255,
   "metadata": {},
   "outputs": [
    {
     "output_type": "execute_result",
     "data": {
      "text/plain": [
       "       顧客名           かな  地域                         メールアドレス        登録日\n",
       "0    須賀ひとみ       すが ひとみ  H市         suga_hitomi@example.com 2018-01-04\n",
       "1     岡田敏也      おかだ としや  E市       okada_toshiya@example.com 2017-02-16\n",
       "2      芳賀希       はが のぞみ  A市         haga_nozomi@example.com 2018-01-07\n",
       "3      荻野愛       おぎの あい  F市            ogino_ai@example.com 2017-05-17\n",
       "4     栗田憲一     くりた けんいち  E市      kurita_kenichi@example.com 2018-01-27\n",
       "..     ...          ...  ..                             ...        ...\n",
       "195   川上りえ      かわかみ りえ  G市        kawakami_rie@example.com 2017-06-20\n",
       "196   小松季衣      こまつ としえ  E市      komatsu_toshie@example.com 2018-06-20\n",
       "197   白鳥りえ      しらとり りえ  F市       shiratori_rie@example.com 2017-04-29\n",
       "198  大西隆之介  おおにし りゅうのすけ  H市  oonishi_ryuunosuke@example.com 2019-04-19\n",
       "199   福井美希       ふくい みき  D市         fukui_miki1@example.com 2019-04-23\n",
       "\n",
       "[200 rows x 5 columns]"
      ],
      "text/html": "<div>\n<style scoped>\n    .dataframe tbody tr th:only-of-type {\n        vertical-align: middle;\n    }\n\n    .dataframe tbody tr th {\n        vertical-align: top;\n    }\n\n    .dataframe thead th {\n        text-align: right;\n    }\n</style>\n<table border=\"1\" class=\"dataframe\">\n  <thead>\n    <tr style=\"text-align: right;\">\n      <th></th>\n      <th>顧客名</th>\n      <th>かな</th>\n      <th>地域</th>\n      <th>メールアドレス</th>\n      <th>登録日</th>\n    </tr>\n  </thead>\n  <tbody>\n    <tr>\n      <th>0</th>\n      <td>須賀ひとみ</td>\n      <td>すが ひとみ</td>\n      <td>H市</td>\n      <td>suga_hitomi@example.com</td>\n      <td>2018-01-04</td>\n    </tr>\n    <tr>\n      <th>1</th>\n      <td>岡田敏也</td>\n      <td>おかだ としや</td>\n      <td>E市</td>\n      <td>okada_toshiya@example.com</td>\n      <td>2017-02-16</td>\n    </tr>\n    <tr>\n      <th>2</th>\n      <td>芳賀希</td>\n      <td>はが のぞみ</td>\n      <td>A市</td>\n      <td>haga_nozomi@example.com</td>\n      <td>2018-01-07</td>\n    </tr>\n    <tr>\n      <th>3</th>\n      <td>荻野愛</td>\n      <td>おぎの あい</td>\n      <td>F市</td>\n      <td>ogino_ai@example.com</td>\n      <td>2017-05-17</td>\n    </tr>\n    <tr>\n      <th>4</th>\n      <td>栗田憲一</td>\n      <td>くりた けんいち</td>\n      <td>E市</td>\n      <td>kurita_kenichi@example.com</td>\n      <td>2018-01-27</td>\n    </tr>\n    <tr>\n      <th>...</th>\n      <td>...</td>\n      <td>...</td>\n      <td>...</td>\n      <td>...</td>\n      <td>...</td>\n    </tr>\n    <tr>\n      <th>195</th>\n      <td>川上りえ</td>\n      <td>かわかみ りえ</td>\n      <td>G市</td>\n      <td>kawakami_rie@example.com</td>\n      <td>2017-06-20</td>\n    </tr>\n    <tr>\n      <th>196</th>\n      <td>小松季衣</td>\n      <td>こまつ としえ</td>\n      <td>E市</td>\n      <td>komatsu_toshie@example.com</td>\n      <td>2018-06-20</td>\n    </tr>\n    <tr>\n      <th>197</th>\n      <td>白鳥りえ</td>\n      <td>しらとり りえ</td>\n      <td>F市</td>\n      <td>shiratori_rie@example.com</td>\n      <td>2017-04-29</td>\n    </tr>\n    <tr>\n      <th>198</th>\n      <td>大西隆之介</td>\n      <td>おおにし りゅうのすけ</td>\n      <td>H市</td>\n      <td>oonishi_ryuunosuke@example.com</td>\n      <td>2019-04-19</td>\n    </tr>\n    <tr>\n      <th>199</th>\n      <td>福井美希</td>\n      <td>ふくい みき</td>\n      <td>D市</td>\n      <td>fukui_miki1@example.com</td>\n      <td>2019-04-23</td>\n    </tr>\n  </tbody>\n</table>\n<p>200 rows × 5 columns</p>\n</div>"
     },
     "metadata": {},
     "execution_count": 255
    }
   ],
   "source": [
    "kokyaku_data['登録日'] = pd.concat([from_jstring, from_string])\n",
    "kokyaku_data"
   ]
  },
  {
   "cell_type": "code",
   "execution_count": 256,
   "metadata": {},
   "outputs": [
    {
     "output_type": "stream",
     "name": "stdout",
     "text": [
      "登録年月\n201701    15\n201702    11\n201703    14\n201704    15\n201705    14\n201706    13\n201707    17\n201801    13\n201802    15\n201803    17\n201804     5\n201805    19\n201806    13\n201807    17\n201904     2\nName: 顧客名, dtype: int64\n200\n"
     ]
    }
   ],
   "source": [
    "kokyaku_data['登録年月'] = kokyaku_data['登録日'].dt.strftime(\"%Y%m\")\n",
    "res = kokyaku_data.groupby('登録年月').count()['顧客名']\n",
    "print(res)\n",
    "print(res.sum())"
   ]
  },
  {
   "source": [
    "## 顧客名をキーにデータを結合 Join"
   ],
   "cell_type": "markdown",
   "metadata": {}
  },
  {
   "cell_type": "code",
   "execution_count": 261,
   "metadata": {},
   "outputs": [
    {
     "output_type": "execute_result",
     "data": {
      "text/plain": [
       "           purchase_date item_name  item_price customer_name purchase_month  \\\n",
       "0    2019-06-13 18:02:34       商品A       100.0         深井菜々美         201906   \n",
       "1    2019-07-13 13:05:29       商品S      1900.0          浅田賢二         201907   \n",
       "2    2019-05-11 19:42:07       商品A       100.0          南部慶二         201905   \n",
       "3    2019-02-12 23:40:45       商品Z      2600.0          麻生莉緒         201902   \n",
       "4    2019-04-22 03:09:35       商品A       100.0          平田鉄二         201904   \n",
       "...                  ...       ...         ...           ...            ...   \n",
       "2994 2019-02-15 02:56:39       商品Y      2500.0          福島友也         201902   \n",
       "2995 2019-06-22 04:03:43       商品M      1300.0          大倉晃司         201906   \n",
       "2996 2019-03-29 11:14:05       商品Q      1700.0          尾形小雁         201903   \n",
       "2997 2019-07-14 12:56:49       商品H       800.0          芦田博之         201907   \n",
       "2998 2019-07-21 00:31:36       商品D       400.0          石田郁恵         201907   \n",
       "\n",
       "        顧客名        かな  地域                       メールアドレス        登録日    登録年月  \n",
       "0     深井菜々美   ふかい ななみ  C市      fukai_nanami@example.com 2017-01-26  201701  \n",
       "1      浅田賢二   あさだ けんじ  C市       asada_kenji@example.com 2018-04-07  201804  \n",
       "2      南部慶二   なんぶ けいじ  A市      nannbu_keiji@example.com 2018-06-19  201806  \n",
       "3      麻生莉緒    あそう りお  D市          asou_rio@example.com 2018-07-22  201807  \n",
       "4      平田鉄二   ひらた てつじ  D市    hirata_tetsuji@example.com 2017-06-07  201706  \n",
       "...     ...       ...  ..                           ...        ...     ...  \n",
       "2994   福島友也  ふくしま ともや  B市  fukushima_tomoya@example.com 2017-07-01  201707  \n",
       "2995   大倉晃司  おおくら こうじ  E市      ookura_kouji@example.com 2018-03-31  201803  \n",
       "2996   尾形小雁   おがた こがん  B市       ogata_kogan@example.com 2017-03-15  201703  \n",
       "2997   芦田博之  あしだ ひろゆき  E市   ashida_hiroyuki@example.com 2018-07-13  201807  \n",
       "2998   石田郁恵   いしだ いくえ  B市       ishida_ikue@example.com 2017-02-05  201702  \n",
       "\n",
       "[2999 rows x 11 columns]"
      ],
      "text/html": "<div>\n<style scoped>\n    .dataframe tbody tr th:only-of-type {\n        vertical-align: middle;\n    }\n\n    .dataframe tbody tr th {\n        vertical-align: top;\n    }\n\n    .dataframe thead th {\n        text-align: right;\n    }\n</style>\n<table border=\"1\" class=\"dataframe\">\n  <thead>\n    <tr style=\"text-align: right;\">\n      <th></th>\n      <th>purchase_date</th>\n      <th>item_name</th>\n      <th>item_price</th>\n      <th>customer_name</th>\n      <th>purchase_month</th>\n      <th>顧客名</th>\n      <th>かな</th>\n      <th>地域</th>\n      <th>メールアドレス</th>\n      <th>登録日</th>\n      <th>登録年月</th>\n    </tr>\n  </thead>\n  <tbody>\n    <tr>\n      <th>0</th>\n      <td>2019-06-13 18:02:34</td>\n      <td>商品A</td>\n      <td>100.0</td>\n      <td>深井菜々美</td>\n      <td>201906</td>\n      <td>深井菜々美</td>\n      <td>ふかい ななみ</td>\n      <td>C市</td>\n      <td>fukai_nanami@example.com</td>\n      <td>2017-01-26</td>\n      <td>201701</td>\n    </tr>\n    <tr>\n      <th>1</th>\n      <td>2019-07-13 13:05:29</td>\n      <td>商品S</td>\n      <td>1900.0</td>\n      <td>浅田賢二</td>\n      <td>201907</td>\n      <td>浅田賢二</td>\n      <td>あさだ けんじ</td>\n      <td>C市</td>\n      <td>asada_kenji@example.com</td>\n      <td>2018-04-07</td>\n      <td>201804</td>\n    </tr>\n    <tr>\n      <th>2</th>\n      <td>2019-05-11 19:42:07</td>\n      <td>商品A</td>\n      <td>100.0</td>\n      <td>南部慶二</td>\n      <td>201905</td>\n      <td>南部慶二</td>\n      <td>なんぶ けいじ</td>\n      <td>A市</td>\n      <td>nannbu_keiji@example.com</td>\n      <td>2018-06-19</td>\n      <td>201806</td>\n    </tr>\n    <tr>\n      <th>3</th>\n      <td>2019-02-12 23:40:45</td>\n      <td>商品Z</td>\n      <td>2600.0</td>\n      <td>麻生莉緒</td>\n      <td>201902</td>\n      <td>麻生莉緒</td>\n      <td>あそう りお</td>\n      <td>D市</td>\n      <td>asou_rio@example.com</td>\n      <td>2018-07-22</td>\n      <td>201807</td>\n    </tr>\n    <tr>\n      <th>4</th>\n      <td>2019-04-22 03:09:35</td>\n      <td>商品A</td>\n      <td>100.0</td>\n      <td>平田鉄二</td>\n      <td>201904</td>\n      <td>平田鉄二</td>\n      <td>ひらた てつじ</td>\n      <td>D市</td>\n      <td>hirata_tetsuji@example.com</td>\n      <td>2017-06-07</td>\n      <td>201706</td>\n    </tr>\n    <tr>\n      <th>...</th>\n      <td>...</td>\n      <td>...</td>\n      <td>...</td>\n      <td>...</td>\n      <td>...</td>\n      <td>...</td>\n      <td>...</td>\n      <td>...</td>\n      <td>...</td>\n      <td>...</td>\n      <td>...</td>\n    </tr>\n    <tr>\n      <th>2994</th>\n      <td>2019-02-15 02:56:39</td>\n      <td>商品Y</td>\n      <td>2500.0</td>\n      <td>福島友也</td>\n      <td>201902</td>\n      <td>福島友也</td>\n      <td>ふくしま ともや</td>\n      <td>B市</td>\n      <td>fukushima_tomoya@example.com</td>\n      <td>2017-07-01</td>\n      <td>201707</td>\n    </tr>\n    <tr>\n      <th>2995</th>\n      <td>2019-06-22 04:03:43</td>\n      <td>商品M</td>\n      <td>1300.0</td>\n      <td>大倉晃司</td>\n      <td>201906</td>\n      <td>大倉晃司</td>\n      <td>おおくら こうじ</td>\n      <td>E市</td>\n      <td>ookura_kouji@example.com</td>\n      <td>2018-03-31</td>\n      <td>201803</td>\n    </tr>\n    <tr>\n      <th>2996</th>\n      <td>2019-03-29 11:14:05</td>\n      <td>商品Q</td>\n      <td>1700.0</td>\n      <td>尾形小雁</td>\n      <td>201903</td>\n      <td>尾形小雁</td>\n      <td>おがた こがん</td>\n      <td>B市</td>\n      <td>ogata_kogan@example.com</td>\n      <td>2017-03-15</td>\n      <td>201703</td>\n    </tr>\n    <tr>\n      <th>2997</th>\n      <td>2019-07-14 12:56:49</td>\n      <td>商品H</td>\n      <td>800.0</td>\n      <td>芦田博之</td>\n      <td>201907</td>\n      <td>芦田博之</td>\n      <td>あしだ ひろゆき</td>\n      <td>E市</td>\n      <td>ashida_hiroyuki@example.com</td>\n      <td>2018-07-13</td>\n      <td>201807</td>\n    </tr>\n    <tr>\n      <th>2998</th>\n      <td>2019-07-21 00:31:36</td>\n      <td>商品D</td>\n      <td>400.0</td>\n      <td>石田郁恵</td>\n      <td>201907</td>\n      <td>石田郁恵</td>\n      <td>いしだ いくえ</td>\n      <td>B市</td>\n      <td>ishida_ikue@example.com</td>\n      <td>2017-02-05</td>\n      <td>201702</td>\n    </tr>\n  </tbody>\n</table>\n<p>2999 rows × 11 columns</p>\n</div>"
     },
     "metadata": {},
     "execution_count": 261
    }
   ],
   "source": [
    "join_data = pd.merge(uriage_data, kokyaku_data, left_on='customer_name', right_on='顧客名', how='left')\n",
    "join_data.drop('customer_name', axis=1)\n",
    "join_data"
   ]
  },
  {
   "cell_type": "code",
   "execution_count": null,
   "metadata": {},
   "outputs": [],
   "source": []
  }
 ]
}