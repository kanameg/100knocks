{
 "cells": [
  {
   "cell_type": "markdown",
   "source": [
    "# サンタンデール商品推奨のデータ解析"
   ],
   "metadata": {}
  },
  {
   "cell_type": "markdown",
   "source": [
    "## データ準備"
   ],
   "metadata": {}
  },
  {
   "cell_type": "markdown",
   "source": [
    "### ライブラリのインポート"
   ],
   "metadata": {}
  },
  {
   "cell_type": "code",
   "execution_count": null,
   "source": [
    "\"\"\" ライブラリのインポート\n",
    "\"\"\"\n",
    "import matplotlib.pyplot as plt\n",
    "import numpy as np\n",
    "import pandas as pd\n",
    "import seaborn as sns\n",
    "\n",
    "%matplotlib inline"
   ],
   "outputs": [],
   "metadata": {}
  },
  {
   "cell_type": "markdown",
   "source": [
    "### データの読み込み"
   ],
   "metadata": {}
  },
  {
   "cell_type": "code",
   "execution_count": null,
   "source": [
    "\"\"\" 学習データとテストデータの読み込み\n",
    "\"\"\"\n",
    "train_reader = pd.read_csv('./input/santander-product-recommendation/train_ver2.csv', chunksize=1000)\n",
    "train = pd.concat((r for r in train_reader), ignore_index=True)\n",
    "\n",
    "test_reader = pd.read_csv('./input/santander-product-recommendation/test_ver2.csv', chunksize=1000)\n",
    "test = pd.concat((r for r in test_reader), ignore_index=True)\n",
    "\n",
    "#train = pd.read_csv('./input/santander-product-recommendation/train_ver2.csv', low_memory=False)\n",
    "#test = pd.read_csv('./input/santander-product-recommendation/test_ver2.csv')"
   ],
   "outputs": [],
   "metadata": {}
  },
  {
   "cell_type": "markdown",
   "source": [
    "## データ確認\n",
    "\n",
    "train： 学習用データ  \n",
    "test： 評価用データ  "
   ],
   "metadata": {}
  },
  {
   "cell_type": "markdown",
   "source": [
    "### 欠損データの数を確認"
   ],
   "metadata": {}
  },
  {
   "cell_type": "code",
   "execution_count": null,
   "source": [
    "print('学習データの全体データ数')\n",
    "print(len(train))\n",
    "print('学習データの空データ率')\n",
    "print(train.isnull().sum()/len(train))"
   ],
   "outputs": [],
   "metadata": {}
  },
  {
   "cell_type": "code",
   "execution_count": null,
   "source": [
    "print('テストデータの全体データ数')\n",
    "print(len(test))\n",
    "print('テストデータの空データ率')\n",
    "print(test.isnull().sum()/len(test))"
   ],
   "outputs": [],
   "metadata": {}
  },
  {
   "cell_type": "code",
   "execution_count": null,
   "source": [
    "print(train.describe())"
   ],
   "outputs": [],
   "metadata": {}
  },
  {
   "cell_type": "markdown",
   "source": [
    "### 質データを数値データに変換"
   ],
   "metadata": {}
  },
  {
   "cell_type": "code",
   "execution_count": null,
   "source": [
    "\"\"\" 性別を男性:0、女性:1に変換\n",
    "\"\"\"\n",
    "#train['Sex'].fillna(('male'), inplace=True)\n",
    "train['Sex'] = train['Sex'].map({'male': 0, 'female': 1}).astype(int)\n",
    "\n",
    "\"\"\" 乗船地を'S','C','Q'を0,1,2に変換\n",
    "\"\"\"\n",
    "train['Embarked'].fillna(('S'), inplace=True)\n",
    "train['Embarked'] = train['Embarked'].map({'S': 0, 'C': 1, 'Q': 2}).astype(int)\n"
   ],
   "outputs": [],
   "metadata": {}
  },
  {
   "cell_type": "markdown",
   "source": [
    "### 各変数の相関を確認\n",
    "\n",
    "生存と性別は関連がある。（女性の生存率が0.54と高い）\n"
   ],
   "metadata": {}
  },
  {
   "cell_type": "code",
   "execution_count": null,
   "source": [
    "\"\"\" 全体ヒートマップ\n",
    "\"\"\"\n",
    "sns.heatmap(train.dropna().corr())\n",
    "print(train.dropna().corr())"
   ],
   "outputs": [],
   "metadata": {}
  },
  {
   "cell_type": "code",
   "execution_count": null,
   "source": [
    "\"\"\" 女性のヒートマップ\n",
    "\"\"\"\n",
    "sns.heatmap(train[train['Sex'] == 1].corr())\n",
    "print(train[train['Sex'] == 1].corr())"
   ],
   "outputs": [],
   "metadata": {}
  },
  {
   "cell_type": "markdown",
   "source": [
    "## ここで一度仮説を設定\n",
    "\n",
    "ここで一度、生存と他のデータとの関係を考える\n",
    "1. おそらく女性の生存率は高いだろう\n",
    "2. おそらく子供の生存率は高いだろう\n",
    "3. おそらく老人の生存率は高いだろう\n",
    "4. おそらく金持ち（客室の等級が高い）は生存率は高いだろう\n",
    "5. おそらく単身の男性は生存率が低いだろう\n",
    "6. "
   ],
   "metadata": {}
  },
  {
   "cell_type": "markdown",
   "source": [
    "## 生存者・死亡者比\n",
    "全データ900に対して、死亡が約550名、生存が約350名程度で、11:7の割合になっている。"
   ],
   "metadata": {}
  },
  {
   "cell_type": "code",
   "execution_count": null,
   "source": [
    "sns.countplot(data=train, x='Survived')\n",
    "plt.xlabel('Survived (1:Survived, 0:Dead)')\n",
    "plt.grid(True)"
   ],
   "outputs": [],
   "metadata": {}
  },
  {
   "cell_type": "markdown",
   "source": [
    "---"
   ],
   "metadata": {}
  },
  {
   "cell_type": "markdown",
   "source": [
    "## 各パラメータと生死の関係を可視化"
   ],
   "metadata": {}
  },
  {
   "cell_type": "markdown",
   "source": [
    "### 客室クラス 比較\n",
    "\n",
    "客室クラスが良いほど優先的に救助はされているが、それほど顕著でもないなぁ （◎仮説1）"
   ],
   "metadata": {}
  },
  {
   "cell_type": "code",
   "execution_count": null,
   "source": [
    "sns.countplot(data=train, x='Pclass', hue='Survived')\n",
    "plt.xlabel('Cabin Class (Pclass)')\n",
    "plt.grid(True)"
   ],
   "outputs": [],
   "metadata": {}
  },
  {
   "cell_type": "markdown",
   "source": [
    "### 男女数 比較\n",
    "\n",
    "明らかに女性は優先して救助されている（◎仮説1）"
   ],
   "metadata": {}
  },
  {
   "cell_type": "code",
   "execution_count": null,
   "source": [
    "sns.countplot(data=train, x='Sex', hue='Survived')\n",
    "plt.xlabel('Sex')\n",
    "plt.grid(True)"
   ],
   "outputs": [],
   "metadata": {}
  },
  {
   "cell_type": "markdown",
   "source": [
    "### 年齢の分布\n",
    "\n",
    "5歳以下の乳児・幼児は明らかに優先されている。（◎仮説2）  \n",
    "詳細に分析しないとわからないが、15歳くらいまでは優先されている???  \n",
    "意外と老人は優先されていない。（✗仮説3）  \n",
    "\n"
   ],
   "metadata": {}
  },
  {
   "cell_type": "code",
   "execution_count": null,
   "source": [
    "sns.histplot(data=train, x='Age', binwidth=10, hue='Survived', multiple=\"dodge\")\n",
    "plt.xlabel('Age')\n",
    "plt.grid(True)"
   ],
   "outputs": [],
   "metadata": {}
  },
  {
   "cell_type": "code",
   "execution_count": null,
   "source": [
    "sns.histplot(data=train, x='Age', binwidth=5, hue='Survived', multiple=\"dodge\")\n",
    "plt.xlabel('Age')\n",
    "plt.grid(True)"
   ],
   "outputs": [],
   "metadata": {}
  },
  {
   "cell_type": "code",
   "execution_count": null,
   "source": [
    "sns.histplot(data=train[train['Sex'] == 1], x='Age', binwidth=5, hue='Survived', multiple=\"dodge\")\n",
    "plt.xlabel('Age')\n",
    "plt.grid(True)"
   ],
   "outputs": [],
   "metadata": {}
  },
  {
   "cell_type": "code",
   "execution_count": null,
   "source": [
    "sns.histplot(data=train[train['Sex'] == 1], x='Age', binwidth=5, hue='Survived', multiple=\"dodge\")\n",
    "plt.xlabel('Age')\n",
    "plt.grid(True)"
   ],
   "outputs": [],
   "metadata": {}
  },
  {
   "cell_type": "code",
   "execution_count": null,
   "source": [
    "sns.histplot(data=train[train['Sex'] == 1], x='Age', binwidth=5, hue='Survived', multiple=\"dodge\")\n",
    "plt.xlabel('Age')\n",
    "plt.grid(True)"
   ],
   "outputs": [],
   "metadata": {}
  },
  {
   "cell_type": "code",
   "execution_count": null,
   "source": [
    "sns.histplot(data=train[train['Sex'] == 0], x='Age', binwidth=5, hue='Survived', multiple=\"dodge\")\n",
    "plt.xlabel('Age')\n",
    "plt.grid(True)"
   ],
   "outputs": [],
   "metadata": {}
  },
  {
   "cell_type": "markdown",
   "source": [
    "### 兄弟、配偶者の数"
   ],
   "metadata": {}
  },
  {
   "cell_type": "code",
   "execution_count": null,
   "source": [
    "sns.countplot(data=train, x='SibSp', hue='Survived')\n",
    "plt.xlabel('SibSp')\n",
    "plt.grid(True)"
   ],
   "outputs": [],
   "metadata": {}
  },
  {
   "cell_type": "markdown",
   "source": [
    "### 両親、子供の数"
   ],
   "metadata": {}
  },
  {
   "cell_type": "code",
   "execution_count": null,
   "source": [
    "sns.countplot(data=train, x='Parch', hue='Survived')\n",
    "plt.xlabel('Parch')\n",
    "plt.grid(True)"
   ],
   "outputs": [],
   "metadata": {}
  },
  {
   "cell_type": "markdown",
   "source": [
    "### 乗船地 比較"
   ],
   "metadata": {}
  },
  {
   "cell_type": "code",
   "execution_count": null,
   "source": [
    "sns.countplot(data=train, x='Embarked', hue='Survived')\n",
    "plt.xlabel('Embarked')\n",
    "plt.grid(True)"
   ],
   "outputs": [],
   "metadata": {}
  },
  {
   "cell_type": "markdown",
   "source": [
    "### チケット料金 分布"
   ],
   "metadata": {}
  },
  {
   "cell_type": "code",
   "execution_count": null,
   "source": [
    "sns.histplot(data=train, x='Fare', binwidth=50, hue='Survived', multiple='dodge')\n",
    "plt.xlabel('Fare')\n",
    "plt.grid(True)"
   ],
   "outputs": [],
   "metadata": {}
  },
  {
   "cell_type": "code",
   "execution_count": null,
   "source": [
    "sns.histplot(data=train[train['Fare'] > 50], x='Fare', binwidth=50, hue='Survived', multiple='dodge')\n",
    "plt.xlabel('Fare')\n",
    "plt.grid(True)"
   ],
   "outputs": [],
   "metadata": {}
  },
  {
   "cell_type": "markdown",
   "source": [
    "50ドル以上料金を払っている人は生存率が高い、料金が50ドル以下だと生存率が低い（◎仮説4）"
   ],
   "metadata": {}
  },
  {
   "cell_type": "markdown",
   "source": [
    "### 家族数を作る"
   ],
   "metadata": {}
  },
  {
   "cell_type": "code",
   "execution_count": null,
   "source": [
    "train['Fsize'] = train['Parch'] + train['SibSp'] + 1\n",
    "print(train[train['Fsize'] > 5])"
   ],
   "outputs": [],
   "metadata": {}
  },
  {
   "cell_type": "code",
   "execution_count": null,
   "source": [
    "sns.countplot(data=data, x='Fsize', hue='Survived')\n",
    "plt.xlabel('Fsize')\n",
    "plt.grid(True)"
   ],
   "outputs": [],
   "metadata": {}
  },
  {
   "cell_type": "markdown",
   "source": [
    "## 欠損データを補完 データのクリーニング"
   ],
   "metadata": {}
  },
  {
   "cell_type": "code",
   "execution_count": null,
   "source": [
    "\"\"\" 料金は平均値で補完\n",
    "\"\"\"\n",
    "data['Fare'].fillna(np.mean(data['Fare']), inplace=True)\n",
    "\n",
    "\"\"\" 年齢と客室クラスは相関があるので、クラス毎の平均で補完\n",
    "\"\"\"\n",
    "data['Age'] = data.groupby('Pclass').transform(lambda d: d.fillna(d.mean()))['Age']"
   ],
   "outputs": [],
   "metadata": {}
  }
 ],
 "metadata": {
  "interpreter": {
   "hash": "4cd7ab41f5fca4b9b44701077e38c5ffd31fe66a6cab21e0214b68d958d0e462"
  },
  "kernelspec": {
   "name": "python3",
   "display_name": "Python 3.8.6 64-bit ('3.8.6': pyenv)",
   "metadata": {
    "interpreter": {
     "hash": "def1443cd7b0494ffc099209d4c7259e5a8304e131c4a6b9a38e7324fcb0905b"
    }
   }
  },
  "language_info": {
   "codemirror_mode": {
    "name": "ipython",
    "version": 3
   },
   "file_extension": ".py",
   "mimetype": "text/x-python",
   "name": "python",
   "nbconvert_exporter": "python",
   "pygments_lexer": "ipython3",
   "version": "3.8.6"
  }
 },
 "nbformat": 4,
 "nbformat_minor": 5
}