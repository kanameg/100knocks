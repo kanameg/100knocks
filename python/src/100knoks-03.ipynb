{
 "metadata": {
  "language_info": {
   "codemirror_mode": {
    "name": "ipython",
    "version": 3
   },
   "file_extension": ".py",
   "mimetype": "text/x-python",
   "name": "python",
   "nbconvert_exporter": "python",
   "pygments_lexer": "ipython3",
   "version": "3.8.6"
  },
  "orig_nbformat": 2,
  "kernelspec": {
   "name": "python3",
   "display_name": "Python 3 (ipykernel)",
   "language": "python"
  },
  "interpreter": {
   "hash": "def1443cd7b0494ffc099209d4c7259e5a8304e131c4a6b9a38e7324fcb0905b"
  }
 },
 "nbformat": 4,
 "nbformat_minor": 2,
 "cells": [
  {
   "cell_type": "markdown",
   "source": [
    "## 021 データを読み込む"
   ],
   "metadata": {}
  },
  {
   "cell_type": "code",
   "execution_count": null,
   "source": [
    "import pandas as pd\n",
    "import seaborn as sns\n",
    "import numpy as np"
   ],
   "outputs": [],
   "metadata": {}
  },
  {
   "cell_type": "code",
   "execution_count": null,
   "source": [
    "uselog = pd.read_csv('./input/100knoks/03/use_log.csv')\n",
    "print(len(uselog))\n",
    "uselog.head()"
   ],
   "outputs": [],
   "metadata": {}
  },
  {
   "cell_type": "code",
   "execution_count": null,
   "source": [
    "customer_master = pd.read_csv('./input/100knoks/03/customer_master.csv')\n",
    "print(len(customer_master))\n",
    "customer_master.head()"
   ],
   "outputs": [],
   "metadata": {}
  },
  {
   "cell_type": "code",
   "execution_count": null,
   "source": [
    "class_master = pd.read_csv('./input/100knoks/03/class_master.csv')\n",
    "print(len(class_master))\n",
    "class_master.head()"
   ],
   "outputs": [],
   "metadata": {}
  },
  {
   "cell_type": "code",
   "execution_count": null,
   "source": [
    "campaign_master = pd.read_csv('./input/100knoks/03/campaign_master.csv')\n",
    "print(len(campaign_master))\n",
    "campaign_master.head()"
   ],
   "outputs": [],
   "metadata": {}
  },
  {
   "cell_type": "markdown",
   "source": [
    "## 022 顧客データの整形"
   ],
   "metadata": {}
  },
  {
   "cell_type": "code",
   "execution_count": null,
   "source": [
    "customer = pd.merge(customer_master, class_master, on='class', how='left')\n",
    "customer = pd.merge(customer, campaign_master, on='campaign_id', how='left')\n",
    "customer"
   ],
   "outputs": [],
   "metadata": {}
  },
  {
   "cell_type": "code",
   "execution_count": null,
   "source": [
    "customer.isnull().sum()"
   ],
   "outputs": [],
   "metadata": {}
  },
  {
   "cell_type": "markdown",
   "source": [
    "## 023 顧客データの基礎集計"
   ],
   "metadata": {}
  },
  {
   "cell_type": "code",
   "execution_count": null,
   "source": [
    "customer.groupby('class_name').count()['customer_id']"
   ],
   "outputs": [],
   "metadata": {}
  },
  {
   "cell_type": "code",
   "execution_count": null,
   "source": [
    "customer.groupby('campaign_name').count()['customer_id']"
   ],
   "outputs": [],
   "metadata": {}
  },
  {
   "cell_type": "code",
   "execution_count": null,
   "source": [
    "customer.groupby('gender').count()['customer_id']"
   ],
   "outputs": [],
   "metadata": {}
  },
  {
   "cell_type": "code",
   "execution_count": null,
   "source": [
    "customer.groupby('is_deleted').count()['customer_id']"
   ],
   "outputs": [],
   "metadata": {}
  },
  {
   "cell_type": "code",
   "execution_count": null,
   "source": [
    "customer['start_date'] = pd.to_datetime(customer['start_date'])\n",
    "customer_start = customer.loc[customer['start_date'] > pd.to_datetime('2018-4-1')]\n",
    "print(customer_start)\n",
    "print(len(customer_start))"
   ],
   "outputs": [],
   "metadata": {}
  },
  {
   "cell_type": "markdown",
   "source": [
    "## 024 最新顧客データの基礎集計をしてみる"
   ],
   "metadata": {}
  },
  {
   "cell_type": "code",
   "execution_count": null,
   "source": [
    "customer['end_date'] = pd.to_datetime(customer['end_date'])\n",
    "customer_newer = customer.loc[(customer['end_date'] >= pd.to_datetime('20190331')) | (customer['end_date'].isna())]\n",
    "print(customer_newer)\n",
    "print(customer_newer['end_date'].unique())"
   ],
   "outputs": [],
   "metadata": {}
  },
  {
   "cell_type": "code",
   "execution_count": null,
   "source": [
    "customer_newer.groupby('class_name').count()['customer_id']"
   ],
   "outputs": [],
   "metadata": {}
  },
  {
   "cell_type": "code",
   "execution_count": null,
   "source": [
    "customer_newer.groupby('campaign_name').count()['customer_id']"
   ],
   "outputs": [],
   "metadata": {}
  },
  {
   "cell_type": "code",
   "execution_count": null,
   "source": [
    "customer_newer.groupby('gender').count()['customer_id']"
   ],
   "outputs": [],
   "metadata": {}
  },
  {
   "cell_type": "markdown",
   "source": [
    "## 025 利用履歴データを集計する"
   ],
   "metadata": {}
  },
  {
   "cell_type": "code",
   "execution_count": null,
   "source": [
    "(uselog.isnull()['usedate'] == True).count()\n",
    "uselog['usedate'] = pd.to_datetime(uselog['usedate'])\n",
    "uselog['年月'] = uselog['usedate'].dt.strftime(\"%Y%m\")\n",
    "uselog_months = uselog.groupby(['年月', 'customer_id'], as_index=False).count()\n",
    "uselog_months.rename(columns={'log_id':'count'}, inplace=True)\n",
    "del uselog_months['usedate']\n",
    "uselog_months.head()"
   ],
   "outputs": [],
   "metadata": {}
  },
  {
   "cell_type": "code",
   "execution_count": null,
   "source": [
    "uselog_customer = uselog_months.groupby('customer_id').agg(['mean', 'median', 'max', 'min'])['count']\n",
    "uselog_customer"
   ],
   "outputs": [],
   "metadata": {}
  }
 ]
}