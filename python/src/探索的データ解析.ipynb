{
 "metadata": {
  "language_info": {
   "codemirror_mode": {
    "name": "ipython",
    "version": 3
   },
   "file_extension": ".py",
   "mimetype": "text/x-python",
   "name": "python",
   "nbconvert_exporter": "python",
   "pygments_lexer": "ipython3",
   "version": "3.9.6"
  },
  "orig_nbformat": 4,
  "kernelspec": {
   "name": "python3",
   "display_name": "Python 3.9.6 64-bit"
  },
  "interpreter": {
   "hash": "4cd7ab41f5fca4b9b44701077e38c5ffd31fe66a6cab21e0214b68d958d0e462"
  }
 },
 "nbformat": 4,
 "nbformat_minor": 2,
 "cells": [
  {
   "source": [
    "# 探索的データ解析"
   ],
   "cell_type": "markdown",
   "metadata": {}
  },
  {
   "source": [
    "## 良いデータを作る"
   ],
   "cell_type": "markdown",
   "metadata": {}
  },
  {
   "source": [
    "探索的データ解析とはモデルの学習に適した良いデータを作ること。  \n",
    "良いデータの定義は次の三点\n",
    "\n",
    "1. 不要なデータが取り除かれていること\n",
    "2. 目的変数と強い関連があること\n",
    "3. データに優先順位がつけられていること\n",
    "\n",
    "データ探索の全体は流れは以下のようになり、大きく5つのステップに分けられる。\n",
    "![探索的データ解析方法](images/data-search-001.png)\n"
   ],
   "cell_type": "markdown",
   "metadata": {}
  },
  {
   "cell_type": "code",
   "execution_count": null,
   "metadata": {},
   "outputs": [],
   "source": []
  }
 ]
}