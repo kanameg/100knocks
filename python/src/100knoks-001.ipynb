{
 "cells": [
  {
   "cell_type": "markdown",
   "source": [
    "## 001 データを読み込んでみる"
   ],
   "metadata": {}
  },
  {
   "cell_type": "code",
   "execution_count": 20,
   "source": [
    "import pandas as pd"
   ],
   "outputs": [],
   "metadata": {}
  },
  {
   "cell_type": "code",
   "execution_count": 21,
   "source": [
    "cutomer_master = pd.read_csv('./input/100knoks/001/customer_master.csv')\n",
    "cutomer_master.head()"
   ],
   "outputs": [
    {
     "output_type": "execute_result",
     "data": {
      "text/plain": [
       "  customer_id customer_name    registration_date customer_name_kana  \\\n",
       "0    IK152942        平田 裕次郎  2019-01-01 00:25:33          ひらた ゆうじろう   \n",
       "1    TS808488         田村 詩織  2019-01-01 01:13:45            たむら しおり   \n",
       "2    AS834628         久野 由樹  2019-01-01 02:00:14             ひさの ゆき   \n",
       "3    AS345469          鶴岡 薫  2019-01-01 04:48:22           つるおか かおる   \n",
       "4    GD892565         大内 高史  2019-01-01 04:54:51           おおうち たかし   \n",
       "\n",
       "                         email gender  age      birth pref  \n",
       "0  hirata_yuujirou@example.com      M   29  1990/6/10  石川県  \n",
       "1    tamura_shiori@example.com      F   33  1986/5/20  東京都  \n",
       "2      hisano_yuki@example.com      F   63   1956/1/2  茨城県  \n",
       "3   tsuruoka_kaoru@example.com      M   74  1945/3/25  東京都  \n",
       "4   oouchi_takashi@example.com      M   54   1965/8/5  千葉県  "
      ],
      "text/html": "<div>\n<style scoped>\n    .dataframe tbody tr th:only-of-type {\n        vertical-align: middle;\n    }\n\n    .dataframe tbody tr th {\n        vertical-align: top;\n    }\n\n    .dataframe thead th {\n        text-align: right;\n    }\n</style>\n<table border=\"1\" class=\"dataframe\">\n  <thead>\n    <tr style=\"text-align: right;\">\n      <th></th>\n      <th>customer_id</th>\n      <th>customer_name</th>\n      <th>registration_date</th>\n      <th>customer_name_kana</th>\n      <th>email</th>\n      <th>gender</th>\n      <th>age</th>\n      <th>birth</th>\n      <th>pref</th>\n    </tr>\n  </thead>\n  <tbody>\n    <tr>\n      <th>0</th>\n      <td>IK152942</td>\n      <td>平田 裕次郎</td>\n      <td>2019-01-01 00:25:33</td>\n      <td>ひらた ゆうじろう</td>\n      <td>hirata_yuujirou@example.com</td>\n      <td>M</td>\n      <td>29</td>\n      <td>1990/6/10</td>\n      <td>石川県</td>\n    </tr>\n    <tr>\n      <th>1</th>\n      <td>TS808488</td>\n      <td>田村 詩織</td>\n      <td>2019-01-01 01:13:45</td>\n      <td>たむら しおり</td>\n      <td>tamura_shiori@example.com</td>\n      <td>F</td>\n      <td>33</td>\n      <td>1986/5/20</td>\n      <td>東京都</td>\n    </tr>\n    <tr>\n      <th>2</th>\n      <td>AS834628</td>\n      <td>久野 由樹</td>\n      <td>2019-01-01 02:00:14</td>\n      <td>ひさの ゆき</td>\n      <td>hisano_yuki@example.com</td>\n      <td>F</td>\n      <td>63</td>\n      <td>1956/1/2</td>\n      <td>茨城県</td>\n    </tr>\n    <tr>\n      <th>3</th>\n      <td>AS345469</td>\n      <td>鶴岡 薫</td>\n      <td>2019-01-01 04:48:22</td>\n      <td>つるおか かおる</td>\n      <td>tsuruoka_kaoru@example.com</td>\n      <td>M</td>\n      <td>74</td>\n      <td>1945/3/25</td>\n      <td>東京都</td>\n    </tr>\n    <tr>\n      <th>4</th>\n      <td>GD892565</td>\n      <td>大内 高史</td>\n      <td>2019-01-01 04:54:51</td>\n      <td>おおうち たかし</td>\n      <td>oouchi_takashi@example.com</td>\n      <td>M</td>\n      <td>54</td>\n      <td>1965/8/5</td>\n      <td>千葉県</td>\n    </tr>\n  </tbody>\n</table>\n</div>"
     },
     "metadata": {},
     "execution_count": 21
    }
   ],
   "metadata": {}
  },
  {
   "cell_type": "code",
   "execution_count": 22,
   "source": [
    "item_master = pd.read_csv('./input/100knoks/001/item_master.csv')\n",
    "item_master.head()"
   ],
   "outputs": [
    {
     "output_type": "execute_result",
     "data": {
      "text/plain": [
       "  item_id item_name  item_price\n",
       "0    S001      PC-A       50000\n",
       "1    S002      PC-B       85000\n",
       "2    S003      PC-C      120000\n",
       "3    S004      PC-D      180000\n",
       "4    S005      PC-E      210000"
      ],
      "text/html": "<div>\n<style scoped>\n    .dataframe tbody tr th:only-of-type {\n        vertical-align: middle;\n    }\n\n    .dataframe tbody tr th {\n        vertical-align: top;\n    }\n\n    .dataframe thead th {\n        text-align: right;\n    }\n</style>\n<table border=\"1\" class=\"dataframe\">\n  <thead>\n    <tr style=\"text-align: right;\">\n      <th></th>\n      <th>item_id</th>\n      <th>item_name</th>\n      <th>item_price</th>\n    </tr>\n  </thead>\n  <tbody>\n    <tr>\n      <th>0</th>\n      <td>S001</td>\n      <td>PC-A</td>\n      <td>50000</td>\n    </tr>\n    <tr>\n      <th>1</th>\n      <td>S002</td>\n      <td>PC-B</td>\n      <td>85000</td>\n    </tr>\n    <tr>\n      <th>2</th>\n      <td>S003</td>\n      <td>PC-C</td>\n      <td>120000</td>\n    </tr>\n    <tr>\n      <th>3</th>\n      <td>S004</td>\n      <td>PC-D</td>\n      <td>180000</td>\n    </tr>\n    <tr>\n      <th>4</th>\n      <td>S005</td>\n      <td>PC-E</td>\n      <td>210000</td>\n    </tr>\n  </tbody>\n</table>\n</div>"
     },
     "metadata": {},
     "execution_count": 22
    }
   ],
   "metadata": {}
  },
  {
   "cell_type": "code",
   "execution_count": 23,
   "source": [
    "transaction_1 = pd.read_csv('./input/100knoks/001/transaction_1.csv')\n",
    "transaction_1.head()"
   ],
   "outputs": [
    {
     "output_type": "execute_result",
     "data": {
      "text/plain": [
       "  transaction_id   price         payment_date customer_id\n",
       "0    T0000000113  210000  2019-02-01 01:36:57    PL563502\n",
       "1    T0000000114   50000  2019-02-01 01:37:23    HD678019\n",
       "2    T0000000115  120000  2019-02-01 02:34:19    HD298120\n",
       "3    T0000000116  210000  2019-02-01 02:47:23    IK452215\n",
       "4    T0000000117  170000  2019-02-01 04:33:46    PL542865"
      ],
      "text/html": "<div>\n<style scoped>\n    .dataframe tbody tr th:only-of-type {\n        vertical-align: middle;\n    }\n\n    .dataframe tbody tr th {\n        vertical-align: top;\n    }\n\n    .dataframe thead th {\n        text-align: right;\n    }\n</style>\n<table border=\"1\" class=\"dataframe\">\n  <thead>\n    <tr style=\"text-align: right;\">\n      <th></th>\n      <th>transaction_id</th>\n      <th>price</th>\n      <th>payment_date</th>\n      <th>customer_id</th>\n    </tr>\n  </thead>\n  <tbody>\n    <tr>\n      <th>0</th>\n      <td>T0000000113</td>\n      <td>210000</td>\n      <td>2019-02-01 01:36:57</td>\n      <td>PL563502</td>\n    </tr>\n    <tr>\n      <th>1</th>\n      <td>T0000000114</td>\n      <td>50000</td>\n      <td>2019-02-01 01:37:23</td>\n      <td>HD678019</td>\n    </tr>\n    <tr>\n      <th>2</th>\n      <td>T0000000115</td>\n      <td>120000</td>\n      <td>2019-02-01 02:34:19</td>\n      <td>HD298120</td>\n    </tr>\n    <tr>\n      <th>3</th>\n      <td>T0000000116</td>\n      <td>210000</td>\n      <td>2019-02-01 02:47:23</td>\n      <td>IK452215</td>\n    </tr>\n    <tr>\n      <th>4</th>\n      <td>T0000000117</td>\n      <td>170000</td>\n      <td>2019-02-01 04:33:46</td>\n      <td>PL542865</td>\n    </tr>\n  </tbody>\n</table>\n</div>"
     },
     "metadata": {},
     "execution_count": 23
    }
   ],
   "metadata": {}
  },
  {
   "cell_type": "code",
   "execution_count": 24,
   "source": [
    "transaction_2 = pd.read_csv('./input/100knoks/001/transaction_2.csv')\n",
    "transaction_2.head()"
   ],
   "outputs": [
    {
     "output_type": "execute_result",
     "data": {
      "text/plain": [
       "  transaction_id   price         payment_date customer_id\n",
       "0    T0000005113  295000  2019-06-15 07:20:27    TS169261\n",
       "1    T0000005114   50000  2019-06-15 07:35:47    HI599892\n",
       "2    T0000005115   85000  2019-06-15 07:56:36    HI421757\n",
       "3    T0000005116   50000  2019-06-15 08:40:55    OA386378\n",
       "4    T0000005117  120000  2019-06-15 08:44:23    TS506913"
      ],
      "text/html": "<div>\n<style scoped>\n    .dataframe tbody tr th:only-of-type {\n        vertical-align: middle;\n    }\n\n    .dataframe tbody tr th {\n        vertical-align: top;\n    }\n\n    .dataframe thead th {\n        text-align: right;\n    }\n</style>\n<table border=\"1\" class=\"dataframe\">\n  <thead>\n    <tr style=\"text-align: right;\">\n      <th></th>\n      <th>transaction_id</th>\n      <th>price</th>\n      <th>payment_date</th>\n      <th>customer_id</th>\n    </tr>\n  </thead>\n  <tbody>\n    <tr>\n      <th>0</th>\n      <td>T0000005113</td>\n      <td>295000</td>\n      <td>2019-06-15 07:20:27</td>\n      <td>TS169261</td>\n    </tr>\n    <tr>\n      <th>1</th>\n      <td>T0000005114</td>\n      <td>50000</td>\n      <td>2019-06-15 07:35:47</td>\n      <td>HI599892</td>\n    </tr>\n    <tr>\n      <th>2</th>\n      <td>T0000005115</td>\n      <td>85000</td>\n      <td>2019-06-15 07:56:36</td>\n      <td>HI421757</td>\n    </tr>\n    <tr>\n      <th>3</th>\n      <td>T0000005116</td>\n      <td>50000</td>\n      <td>2019-06-15 08:40:55</td>\n      <td>OA386378</td>\n    </tr>\n    <tr>\n      <th>4</th>\n      <td>T0000005117</td>\n      <td>120000</td>\n      <td>2019-06-15 08:44:23</td>\n      <td>TS506913</td>\n    </tr>\n  </tbody>\n</table>\n</div>"
     },
     "metadata": {},
     "execution_count": 24
    }
   ],
   "metadata": {}
  },
  {
   "cell_type": "code",
   "execution_count": 25,
   "source": [
    "transaction_detail_1 = pd.read_csv('./input/100knoks/001/transaction_detail_1.csv')\n",
    "transaction_detail_1.head()"
   ],
   "outputs": [
    {
     "output_type": "execute_result",
     "data": {
      "text/plain": [
       "   detail_id transaction_id item_id  quantity\n",
       "0          0    T0000000113    S005         1\n",
       "1          1    T0000000114    S001         1\n",
       "2          2    T0000000115    S003         1\n",
       "3          3    T0000000116    S005         1\n",
       "4          4    T0000000117    S002         2"
      ],
      "text/html": "<div>\n<style scoped>\n    .dataframe tbody tr th:only-of-type {\n        vertical-align: middle;\n    }\n\n    .dataframe tbody tr th {\n        vertical-align: top;\n    }\n\n    .dataframe thead th {\n        text-align: right;\n    }\n</style>\n<table border=\"1\" class=\"dataframe\">\n  <thead>\n    <tr style=\"text-align: right;\">\n      <th></th>\n      <th>detail_id</th>\n      <th>transaction_id</th>\n      <th>item_id</th>\n      <th>quantity</th>\n    </tr>\n  </thead>\n  <tbody>\n    <tr>\n      <th>0</th>\n      <td>0</td>\n      <td>T0000000113</td>\n      <td>S005</td>\n      <td>1</td>\n    </tr>\n    <tr>\n      <th>1</th>\n      <td>1</td>\n      <td>T0000000114</td>\n      <td>S001</td>\n      <td>1</td>\n    </tr>\n    <tr>\n      <th>2</th>\n      <td>2</td>\n      <td>T0000000115</td>\n      <td>S003</td>\n      <td>1</td>\n    </tr>\n    <tr>\n      <th>3</th>\n      <td>3</td>\n      <td>T0000000116</td>\n      <td>S005</td>\n      <td>1</td>\n    </tr>\n    <tr>\n      <th>4</th>\n      <td>4</td>\n      <td>T0000000117</td>\n      <td>S002</td>\n      <td>2</td>\n    </tr>\n  </tbody>\n</table>\n</div>"
     },
     "metadata": {},
     "execution_count": 25
    }
   ],
   "metadata": {}
  },
  {
   "cell_type": "code",
   "execution_count": 26,
   "source": [
    "transaction_detail_2 = pd.read_csv('./input/100knoks/001/transaction_detail_2.csv')\n",
    "transaction_detail_2.head()"
   ],
   "outputs": [
    {
     "output_type": "execute_result",
     "data": {
      "text/plain": [
       "   detail_id transaction_id item_id  quantity\n",
       "0       5000    T0000004870    S002         3\n",
       "1       5001    T0000004871    S003         1\n",
       "2       5002    T0000004872    S001         2\n",
       "3       5003    T0000004873    S004         1\n",
       "4       5004    T0000004874    S003         2"
      ],
      "text/html": "<div>\n<style scoped>\n    .dataframe tbody tr th:only-of-type {\n        vertical-align: middle;\n    }\n\n    .dataframe tbody tr th {\n        vertical-align: top;\n    }\n\n    .dataframe thead th {\n        text-align: right;\n    }\n</style>\n<table border=\"1\" class=\"dataframe\">\n  <thead>\n    <tr style=\"text-align: right;\">\n      <th></th>\n      <th>detail_id</th>\n      <th>transaction_id</th>\n      <th>item_id</th>\n      <th>quantity</th>\n    </tr>\n  </thead>\n  <tbody>\n    <tr>\n      <th>0</th>\n      <td>5000</td>\n      <td>T0000004870</td>\n      <td>S002</td>\n      <td>3</td>\n    </tr>\n    <tr>\n      <th>1</th>\n      <td>5001</td>\n      <td>T0000004871</td>\n      <td>S003</td>\n      <td>1</td>\n    </tr>\n    <tr>\n      <th>2</th>\n      <td>5002</td>\n      <td>T0000004872</td>\n      <td>S001</td>\n      <td>2</td>\n    </tr>\n    <tr>\n      <th>3</th>\n      <td>5003</td>\n      <td>T0000004873</td>\n      <td>S004</td>\n      <td>1</td>\n    </tr>\n    <tr>\n      <th>4</th>\n      <td>5004</td>\n      <td>T0000004874</td>\n      <td>S003</td>\n      <td>2</td>\n    </tr>\n  </tbody>\n</table>\n</div>"
     },
     "metadata": {},
     "execution_count": 26
    }
   ],
   "metadata": {}
  },
  {
   "cell_type": "markdown",
   "source": [
    "## 002 データを結合してみる Union"
   ],
   "metadata": {}
  },
  {
   "cell_type": "code",
   "execution_count": 27,
   "source": [
    "transaction = pd.concat([transaction_1, transaction_2], ignore_index=True)\n",
    "transaction.head()"
   ],
   "outputs": [
    {
     "output_type": "execute_result",
     "data": {
      "text/plain": [
       "  transaction_id   price         payment_date customer_id\n",
       "0    T0000000113  210000  2019-02-01 01:36:57    PL563502\n",
       "1    T0000000114   50000  2019-02-01 01:37:23    HD678019\n",
       "2    T0000000115  120000  2019-02-01 02:34:19    HD298120\n",
       "3    T0000000116  210000  2019-02-01 02:47:23    IK452215\n",
       "4    T0000000117  170000  2019-02-01 04:33:46    PL542865"
      ],
      "text/html": "<div>\n<style scoped>\n    .dataframe tbody tr th:only-of-type {\n        vertical-align: middle;\n    }\n\n    .dataframe tbody tr th {\n        vertical-align: top;\n    }\n\n    .dataframe thead th {\n        text-align: right;\n    }\n</style>\n<table border=\"1\" class=\"dataframe\">\n  <thead>\n    <tr style=\"text-align: right;\">\n      <th></th>\n      <th>transaction_id</th>\n      <th>price</th>\n      <th>payment_date</th>\n      <th>customer_id</th>\n    </tr>\n  </thead>\n  <tbody>\n    <tr>\n      <th>0</th>\n      <td>T0000000113</td>\n      <td>210000</td>\n      <td>2019-02-01 01:36:57</td>\n      <td>PL563502</td>\n    </tr>\n    <tr>\n      <th>1</th>\n      <td>T0000000114</td>\n      <td>50000</td>\n      <td>2019-02-01 01:37:23</td>\n      <td>HD678019</td>\n    </tr>\n    <tr>\n      <th>2</th>\n      <td>T0000000115</td>\n      <td>120000</td>\n      <td>2019-02-01 02:34:19</td>\n      <td>HD298120</td>\n    </tr>\n    <tr>\n      <th>3</th>\n      <td>T0000000116</td>\n      <td>210000</td>\n      <td>2019-02-01 02:47:23</td>\n      <td>IK452215</td>\n    </tr>\n    <tr>\n      <th>4</th>\n      <td>T0000000117</td>\n      <td>170000</td>\n      <td>2019-02-01 04:33:46</td>\n      <td>PL542865</td>\n    </tr>\n  </tbody>\n</table>\n</div>"
     },
     "metadata": {},
     "execution_count": 27
    }
   ],
   "metadata": {}
  },
  {
   "cell_type": "code",
   "execution_count": 28,
   "source": [
    "print(len(transaction_1))\n",
    "print(len(transaction_2))\n",
    "print(len(transaction))\n"
   ],
   "outputs": [
    {
     "output_type": "stream",
     "name": "stdout",
     "text": [
      "5000\n1786\n6786\n"
     ]
    }
   ],
   "metadata": {}
  },
  {
   "cell_type": "code",
   "execution_count": 29,
   "source": [
    "transaction_detail = pd.concat([transaction_detail_1, transaction_detail_2], ignore_index=True)\n",
    "transaction_detail.head()"
   ],
   "outputs": [
    {
     "output_type": "execute_result",
     "data": {
      "text/plain": [
       "   detail_id transaction_id item_id  quantity\n",
       "0          0    T0000000113    S005         1\n",
       "1          1    T0000000114    S001         1\n",
       "2          2    T0000000115    S003         1\n",
       "3          3    T0000000116    S005         1\n",
       "4          4    T0000000117    S002         2"
      ],
      "text/html": "<div>\n<style scoped>\n    .dataframe tbody tr th:only-of-type {\n        vertical-align: middle;\n    }\n\n    .dataframe tbody tr th {\n        vertical-align: top;\n    }\n\n    .dataframe thead th {\n        text-align: right;\n    }\n</style>\n<table border=\"1\" class=\"dataframe\">\n  <thead>\n    <tr style=\"text-align: right;\">\n      <th></th>\n      <th>detail_id</th>\n      <th>transaction_id</th>\n      <th>item_id</th>\n      <th>quantity</th>\n    </tr>\n  </thead>\n  <tbody>\n    <tr>\n      <th>0</th>\n      <td>0</td>\n      <td>T0000000113</td>\n      <td>S005</td>\n      <td>1</td>\n    </tr>\n    <tr>\n      <th>1</th>\n      <td>1</td>\n      <td>T0000000114</td>\n      <td>S001</td>\n      <td>1</td>\n    </tr>\n    <tr>\n      <th>2</th>\n      <td>2</td>\n      <td>T0000000115</td>\n      <td>S003</td>\n      <td>1</td>\n    </tr>\n    <tr>\n      <th>3</th>\n      <td>3</td>\n      <td>T0000000116</td>\n      <td>S005</td>\n      <td>1</td>\n    </tr>\n    <tr>\n      <th>4</th>\n      <td>4</td>\n      <td>T0000000117</td>\n      <td>S002</td>\n      <td>2</td>\n    </tr>\n  </tbody>\n</table>\n</div>"
     },
     "metadata": {},
     "execution_count": 29
    }
   ],
   "metadata": {}
  },
  {
   "cell_type": "code",
   "execution_count": 30,
   "source": [
    "print(len(transaction_detail_1))\n",
    "print(len(transaction_detail_2))\n",
    "print(len(transaction_detail))"
   ],
   "outputs": [
    {
     "output_type": "stream",
     "name": "stdout",
     "text": [
      "5000\n2144\n7144\n"
     ]
    }
   ],
   "metadata": {}
  },
  {
   "cell_type": "markdown",
   "source": [
    "## 003 データを結合する Join"
   ],
   "metadata": {}
  },
  {
   "cell_type": "code",
   "execution_count": 31,
   "source": [
    "transaction_join = pd.merge(transaction_detail, transaction[['transaction_id', 'payment_date', 'customer_id']], on='transaction_id', how='left')\n",
    "transaction_join.head()"
   ],
   "outputs": [
    {
     "output_type": "execute_result",
     "data": {
      "text/plain": [
       "   detail_id transaction_id item_id  quantity         payment_date customer_id\n",
       "0          0    T0000000113    S005         1  2019-02-01 01:36:57    PL563502\n",
       "1          1    T0000000114    S001         1  2019-02-01 01:37:23    HD678019\n",
       "2          2    T0000000115    S003         1  2019-02-01 02:34:19    HD298120\n",
       "3          3    T0000000116    S005         1  2019-02-01 02:47:23    IK452215\n",
       "4          4    T0000000117    S002         2  2019-02-01 04:33:46    PL542865"
      ],
      "text/html": "<div>\n<style scoped>\n    .dataframe tbody tr th:only-of-type {\n        vertical-align: middle;\n    }\n\n    .dataframe tbody tr th {\n        vertical-align: top;\n    }\n\n    .dataframe thead th {\n        text-align: right;\n    }\n</style>\n<table border=\"1\" class=\"dataframe\">\n  <thead>\n    <tr style=\"text-align: right;\">\n      <th></th>\n      <th>detail_id</th>\n      <th>transaction_id</th>\n      <th>item_id</th>\n      <th>quantity</th>\n      <th>payment_date</th>\n      <th>customer_id</th>\n    </tr>\n  </thead>\n  <tbody>\n    <tr>\n      <th>0</th>\n      <td>0</td>\n      <td>T0000000113</td>\n      <td>S005</td>\n      <td>1</td>\n      <td>2019-02-01 01:36:57</td>\n      <td>PL563502</td>\n    </tr>\n    <tr>\n      <th>1</th>\n      <td>1</td>\n      <td>T0000000114</td>\n      <td>S001</td>\n      <td>1</td>\n      <td>2019-02-01 01:37:23</td>\n      <td>HD678019</td>\n    </tr>\n    <tr>\n      <th>2</th>\n      <td>2</td>\n      <td>T0000000115</td>\n      <td>S003</td>\n      <td>1</td>\n      <td>2019-02-01 02:34:19</td>\n      <td>HD298120</td>\n    </tr>\n    <tr>\n      <th>3</th>\n      <td>3</td>\n      <td>T0000000116</td>\n      <td>S005</td>\n      <td>1</td>\n      <td>2019-02-01 02:47:23</td>\n      <td>IK452215</td>\n    </tr>\n    <tr>\n      <th>4</th>\n      <td>4</td>\n      <td>T0000000117</td>\n      <td>S002</td>\n      <td>2</td>\n      <td>2019-02-01 04:33:46</td>\n      <td>PL542865</td>\n    </tr>\n  </tbody>\n</table>\n</div>"
     },
     "metadata": {},
     "execution_count": 31
    }
   ],
   "metadata": {}
  },
  {
   "cell_type": "code",
   "execution_count": 32,
   "source": [
    "print(len(transaction_detail))\n",
    "print(len(transaction))\n",
    "print(len(transaction_join))"
   ],
   "outputs": [
    {
     "output_type": "stream",
     "name": "stdout",
     "text": [
      "7144\n6786\n7144\n"
     ]
    }
   ],
   "metadata": {}
  },
  {
   "source": [
    "## 004 マスターを結合する Join"
   ],
   "cell_type": "markdown",
   "metadata": {}
  },
  {
   "cell_type": "code",
   "execution_count": 37,
   "metadata": {},
   "outputs": [
    {
     "output_type": "execute_result",
     "data": {
      "text/plain": [
       "   detail_id transaction_id item_id  quantity         payment_date  \\\n",
       "0          0    T0000000113    S005         1  2019-02-01 01:36:57   \n",
       "1          1    T0000000114    S001         1  2019-02-01 01:37:23   \n",
       "2          2    T0000000115    S003         1  2019-02-01 02:34:19   \n",
       "3          3    T0000000116    S005         1  2019-02-01 02:47:23   \n",
       "4          4    T0000000117    S002         2  2019-02-01 04:33:46   \n",
       "\n",
       "  customer_id customer_name_x  registration_date_x customer_name_kana_x  \\\n",
       "0    PL563502           井本 芳正  2019-01-07 14:34:35             いもと よしまさ   \n",
       "1    HD678019           三船 六郎  2019-01-27 18:00:11             みふね ろくろう   \n",
       "2    HD298120           山根 小雁  2019-01-11 08:16:02              やまね こがん   \n",
       "3    IK452215           池田 菜摘  2019-01-10 05:07:38              いけだ なつみ   \n",
       "4    PL542865           栗田 憲一  2019-01-25 06:46:05             くりた けんいち   \n",
       "\n",
       "                       email_x  ... customer_name_y  registration_date_y  \\\n",
       "0  imoto_yoshimasa@example.com  ...           井本 芳正  2019-01-07 14:34:35   \n",
       "1   mifune_rokurou@example.com  ...           三船 六郎  2019-01-27 18:00:11   \n",
       "2     yamane_kogan@example.com  ...           山根 小雁  2019-01-11 08:16:02   \n",
       "3    ikeda_natsumi@example.com  ...           池田 菜摘  2019-01-10 05:07:38   \n",
       "4   kurita_kenichi@example.com  ...           栗田 憲一  2019-01-25 06:46:05   \n",
       "\n",
       "  customer_name_kana_y                      email_y gender_y age_y  \\\n",
       "0             いもと よしまさ  imoto_yoshimasa@example.com        M    30   \n",
       "1             みふね ろくろう   mifune_rokurou@example.com        M    73   \n",
       "2              やまね こがん     yamane_kogan@example.com        M    42   \n",
       "3              いけだ なつみ    ikeda_natsumi@example.com        F    47   \n",
       "4             くりた けんいち   kurita_kenichi@example.com        M    74   \n",
       "\n",
       "      birth_y pref_y item_name  item_price  \n",
       "0   1989/7/15    熊本県      PC-E      210000  \n",
       "1  1945/11/29    京都府      PC-A       50000  \n",
       "2   1977/5/17    茨城県      PC-C      120000  \n",
       "3   1972/3/17    兵庫県      PC-E      210000  \n",
       "4  1944/12/17    長崎県      PC-B       85000  \n",
       "\n",
       "[5 rows x 24 columns]"
      ],
      "text/html": "<div>\n<style scoped>\n    .dataframe tbody tr th:only-of-type {\n        vertical-align: middle;\n    }\n\n    .dataframe tbody tr th {\n        vertical-align: top;\n    }\n\n    .dataframe thead th {\n        text-align: right;\n    }\n</style>\n<table border=\"1\" class=\"dataframe\">\n  <thead>\n    <tr style=\"text-align: right;\">\n      <th></th>\n      <th>detail_id</th>\n      <th>transaction_id</th>\n      <th>item_id</th>\n      <th>quantity</th>\n      <th>payment_date</th>\n      <th>customer_id</th>\n      <th>customer_name_x</th>\n      <th>registration_date_x</th>\n      <th>customer_name_kana_x</th>\n      <th>email_x</th>\n      <th>...</th>\n      <th>customer_name_y</th>\n      <th>registration_date_y</th>\n      <th>customer_name_kana_y</th>\n      <th>email_y</th>\n      <th>gender_y</th>\n      <th>age_y</th>\n      <th>birth_y</th>\n      <th>pref_y</th>\n      <th>item_name</th>\n      <th>item_price</th>\n    </tr>\n  </thead>\n  <tbody>\n    <tr>\n      <th>0</th>\n      <td>0</td>\n      <td>T0000000113</td>\n      <td>S005</td>\n      <td>1</td>\n      <td>2019-02-01 01:36:57</td>\n      <td>PL563502</td>\n      <td>井本 芳正</td>\n      <td>2019-01-07 14:34:35</td>\n      <td>いもと よしまさ</td>\n      <td>imoto_yoshimasa@example.com</td>\n      <td>...</td>\n      <td>井本 芳正</td>\n      <td>2019-01-07 14:34:35</td>\n      <td>いもと よしまさ</td>\n      <td>imoto_yoshimasa@example.com</td>\n      <td>M</td>\n      <td>30</td>\n      <td>1989/7/15</td>\n      <td>熊本県</td>\n      <td>PC-E</td>\n      <td>210000</td>\n    </tr>\n    <tr>\n      <th>1</th>\n      <td>1</td>\n      <td>T0000000114</td>\n      <td>S001</td>\n      <td>1</td>\n      <td>2019-02-01 01:37:23</td>\n      <td>HD678019</td>\n      <td>三船 六郎</td>\n      <td>2019-01-27 18:00:11</td>\n      <td>みふね ろくろう</td>\n      <td>mifune_rokurou@example.com</td>\n      <td>...</td>\n      <td>三船 六郎</td>\n      <td>2019-01-27 18:00:11</td>\n      <td>みふね ろくろう</td>\n      <td>mifune_rokurou@example.com</td>\n      <td>M</td>\n      <td>73</td>\n      <td>1945/11/29</td>\n      <td>京都府</td>\n      <td>PC-A</td>\n      <td>50000</td>\n    </tr>\n    <tr>\n      <th>2</th>\n      <td>2</td>\n      <td>T0000000115</td>\n      <td>S003</td>\n      <td>1</td>\n      <td>2019-02-01 02:34:19</td>\n      <td>HD298120</td>\n      <td>山根 小雁</td>\n      <td>2019-01-11 08:16:02</td>\n      <td>やまね こがん</td>\n      <td>yamane_kogan@example.com</td>\n      <td>...</td>\n      <td>山根 小雁</td>\n      <td>2019-01-11 08:16:02</td>\n      <td>やまね こがん</td>\n      <td>yamane_kogan@example.com</td>\n      <td>M</td>\n      <td>42</td>\n      <td>1977/5/17</td>\n      <td>茨城県</td>\n      <td>PC-C</td>\n      <td>120000</td>\n    </tr>\n    <tr>\n      <th>3</th>\n      <td>3</td>\n      <td>T0000000116</td>\n      <td>S005</td>\n      <td>1</td>\n      <td>2019-02-01 02:47:23</td>\n      <td>IK452215</td>\n      <td>池田 菜摘</td>\n      <td>2019-01-10 05:07:38</td>\n      <td>いけだ なつみ</td>\n      <td>ikeda_natsumi@example.com</td>\n      <td>...</td>\n      <td>池田 菜摘</td>\n      <td>2019-01-10 05:07:38</td>\n      <td>いけだ なつみ</td>\n      <td>ikeda_natsumi@example.com</td>\n      <td>F</td>\n      <td>47</td>\n      <td>1972/3/17</td>\n      <td>兵庫県</td>\n      <td>PC-E</td>\n      <td>210000</td>\n    </tr>\n    <tr>\n      <th>4</th>\n      <td>4</td>\n      <td>T0000000117</td>\n      <td>S002</td>\n      <td>2</td>\n      <td>2019-02-01 04:33:46</td>\n      <td>PL542865</td>\n      <td>栗田 憲一</td>\n      <td>2019-01-25 06:46:05</td>\n      <td>くりた けんいち</td>\n      <td>kurita_kenichi@example.com</td>\n      <td>...</td>\n      <td>栗田 憲一</td>\n      <td>2019-01-25 06:46:05</td>\n      <td>くりた けんいち</td>\n      <td>kurita_kenichi@example.com</td>\n      <td>M</td>\n      <td>74</td>\n      <td>1944/12/17</td>\n      <td>長崎県</td>\n      <td>PC-B</td>\n      <td>85000</td>\n    </tr>\n  </tbody>\n</table>\n<p>5 rows × 24 columns</p>\n</div>"
     },
     "metadata": {},
     "execution_count": 37
    }
   ],
   "source": [
    "#transaction_join = pd.merge(transaction_join, cutomer_master[['customer_id', 'customer_name', 'registration_date', 'customer_name_kana', 'email', 'gender', 'age', 'birth', 'pref']], on='customer_id', how='left')\n",
    "transaction_join = pd.merge(transaction_join, cutomer_master, on='customer_id', how='left')\n",
    "transaction_join = pd.merge(transaction_join, item_master, on='item_id', how='left')\n",
    "transaction_join.head()"
   ]
  },
  {
   "cell_type": "code",
   "execution_count": 38,
   "metadata": {},
   "outputs": [
    {
     "output_type": "stream",
     "name": "stdout",
     "text": [
      "6786\n7144\n7144\n"
     ]
    }
   ],
   "source": [
    "print(len(transaction))\n",
    "print(len(transaction_detail))\n",
    "print(len(transaction_join))"
   ]
  },
  {
   "source": [
    "## 005 売上の列を追加"
   ],
   "cell_type": "markdown",
   "metadata": {}
  },
  {
   "cell_type": "code",
   "execution_count": 41,
   "metadata": {},
   "outputs": [
    {
     "output_type": "execute_result",
     "data": {
      "text/plain": [
       "   quantity  item_price   price\n",
       "0         1      210000  210000\n",
       "1         1       50000   50000\n",
       "2         1      120000  120000\n",
       "3         1      210000  210000\n",
       "4         2       85000  170000"
      ],
      "text/html": "<div>\n<style scoped>\n    .dataframe tbody tr th:only-of-type {\n        vertical-align: middle;\n    }\n\n    .dataframe tbody tr th {\n        vertical-align: top;\n    }\n\n    .dataframe thead th {\n        text-align: right;\n    }\n</style>\n<table border=\"1\" class=\"dataframe\">\n  <thead>\n    <tr style=\"text-align: right;\">\n      <th></th>\n      <th>quantity</th>\n      <th>item_price</th>\n      <th>price</th>\n    </tr>\n  </thead>\n  <tbody>\n    <tr>\n      <th>0</th>\n      <td>1</td>\n      <td>210000</td>\n      <td>210000</td>\n    </tr>\n    <tr>\n      <th>1</th>\n      <td>1</td>\n      <td>50000</td>\n      <td>50000</td>\n    </tr>\n    <tr>\n      <th>2</th>\n      <td>1</td>\n      <td>120000</td>\n      <td>120000</td>\n    </tr>\n    <tr>\n      <th>3</th>\n      <td>1</td>\n      <td>210000</td>\n      <td>210000</td>\n    </tr>\n    <tr>\n      <th>4</th>\n      <td>2</td>\n      <td>85000</td>\n      <td>170000</td>\n    </tr>\n  </tbody>\n</table>\n</div>"
     },
     "metadata": {},
     "execution_count": 41
    }
   ],
   "source": [
    "transaction_join['price'] = transaction_join['quantity'] * transaction_join['item_price']\n",
    "transaction_join[['quantity', 'item_price', 'price']].head()"
   ]
  },
  {
   "source": [
    "## 006 データを検算\n",
    "合計値があってるかを比較して検算"
   ],
   "cell_type": "markdown",
   "metadata": {}
  },
  {
   "cell_type": "code",
   "execution_count": 50,
   "metadata": {},
   "outputs": [
    {
     "output_type": "stream",
     "name": "stdout",
     "text": [
      "True\n971135000\n971135000\n"
     ]
    }
   ],
   "source": [
    "print(transaction_join['price'].sum() == transaction['price'].sum())\n",
    "print(transaction_join['price'].sum())\n",
    "print(transaction['price'].sum())"
   ]
  },
  {
   "source": [
    "## 007 統計量の把握"
   ],
   "cell_type": "markdown",
   "metadata": {}
  },
  {
   "cell_type": "code",
   "execution_count": 52,
   "metadata": {},
   "outputs": [
    {
     "output_type": "execute_result",
     "data": {
      "text/plain": [
       "         detail_id     quantity        age_x        age_y     item_price  \\\n",
       "count  7144.000000  7144.000000  7144.000000  7144.000000    7144.000000   \n",
       "mean   3571.500000     1.199888    50.265677    50.265677  121698.628219   \n",
       "std    2062.439494     0.513647    17.190314    17.190314   64571.311830   \n",
       "min       0.000000     1.000000    20.000000    20.000000   50000.000000   \n",
       "25%    1785.750000     1.000000    36.000000    36.000000   50000.000000   \n",
       "50%    3571.500000     1.000000    50.000000    50.000000  102500.000000   \n",
       "75%    5357.250000     1.000000    65.000000    65.000000  187500.000000   \n",
       "max    7143.000000     4.000000    80.000000    80.000000  210000.000000   \n",
       "\n",
       "               price  \n",
       "count    7144.000000  \n",
       "mean   135937.150056  \n",
       "std     68511.453297  \n",
       "min     50000.000000  \n",
       "25%     85000.000000  \n",
       "50%    120000.000000  \n",
       "75%    210000.000000  \n",
       "max    420000.000000  "
      ],
      "text/html": "<div>\n<style scoped>\n    .dataframe tbody tr th:only-of-type {\n        vertical-align: middle;\n    }\n\n    .dataframe tbody tr th {\n        vertical-align: top;\n    }\n\n    .dataframe thead th {\n        text-align: right;\n    }\n</style>\n<table border=\"1\" class=\"dataframe\">\n  <thead>\n    <tr style=\"text-align: right;\">\n      <th></th>\n      <th>detail_id</th>\n      <th>quantity</th>\n      <th>age_x</th>\n      <th>age_y</th>\n      <th>item_price</th>\n      <th>price</th>\n    </tr>\n  </thead>\n  <tbody>\n    <tr>\n      <th>count</th>\n      <td>7144.000000</td>\n      <td>7144.000000</td>\n      <td>7144.000000</td>\n      <td>7144.000000</td>\n      <td>7144.000000</td>\n      <td>7144.000000</td>\n    </tr>\n    <tr>\n      <th>mean</th>\n      <td>3571.500000</td>\n      <td>1.199888</td>\n      <td>50.265677</td>\n      <td>50.265677</td>\n      <td>121698.628219</td>\n      <td>135937.150056</td>\n    </tr>\n    <tr>\n      <th>std</th>\n      <td>2062.439494</td>\n      <td>0.513647</td>\n      <td>17.190314</td>\n      <td>17.190314</td>\n      <td>64571.311830</td>\n      <td>68511.453297</td>\n    </tr>\n    <tr>\n      <th>min</th>\n      <td>0.000000</td>\n      <td>1.000000</td>\n      <td>20.000000</td>\n      <td>20.000000</td>\n      <td>50000.000000</td>\n      <td>50000.000000</td>\n    </tr>\n    <tr>\n      <th>25%</th>\n      <td>1785.750000</td>\n      <td>1.000000</td>\n      <td>36.000000</td>\n      <td>36.000000</td>\n      <td>50000.000000</td>\n      <td>85000.000000</td>\n    </tr>\n    <tr>\n      <th>50%</th>\n      <td>3571.500000</td>\n      <td>1.000000</td>\n      <td>50.000000</td>\n      <td>50.000000</td>\n      <td>102500.000000</td>\n      <td>120000.000000</td>\n    </tr>\n    <tr>\n      <th>75%</th>\n      <td>5357.250000</td>\n      <td>1.000000</td>\n      <td>65.000000</td>\n      <td>65.000000</td>\n      <td>187500.000000</td>\n      <td>210000.000000</td>\n    </tr>\n    <tr>\n      <th>max</th>\n      <td>7143.000000</td>\n      <td>4.000000</td>\n      <td>80.000000</td>\n      <td>80.000000</td>\n      <td>210000.000000</td>\n      <td>420000.000000</td>\n    </tr>\n  </tbody>\n</table>\n</div>"
     },
     "metadata": {},
     "execution_count": 52
    }
   ],
   "source": [
    "transaction_join.describe()"
   ]
  },
  {
   "cell_type": "code",
   "execution_count": 53,
   "metadata": {},
   "outputs": [
    {
     "output_type": "execute_result",
     "data": {
      "text/plain": [
       "detail_id               0\n",
       "transaction_id          0\n",
       "item_id                 0\n",
       "quantity                0\n",
       "payment_date            0\n",
       "customer_id             0\n",
       "customer_name_x         0\n",
       "registration_date_x     0\n",
       "customer_name_kana_x    0\n",
       "email_x                 0\n",
       "gender_x                0\n",
       "age_x                   0\n",
       "birth_x                 0\n",
       "pref_x                  0\n",
       "customer_name_y         0\n",
       "registration_date_y     0\n",
       "customer_name_kana_y    0\n",
       "email_y                 0\n",
       "gender_y                0\n",
       "age_y                   0\n",
       "birth_y                 0\n",
       "pref_y                  0\n",
       "item_name               0\n",
       "item_price              0\n",
       "price                   0\n",
       "dtype: int64"
      ]
     },
     "metadata": {},
     "execution_count": 53
    }
   ],
   "source": [
    "transaction_join.isnull().sum()"
   ]
  }
 ],
 "metadata": {
  "orig_nbformat": 4,
  "language_info": {
   "name": "python",
   "version": "3.8.6",
   "mimetype": "text/x-python",
   "codemirror_mode": {
    "name": "ipython",
    "version": 3
   },
   "pygments_lexer": "ipython3",
   "nbconvert_exporter": "python",
   "file_extension": ".py"
  },
  "kernelspec": {
   "name": "python3",
   "display_name": "Python 3.8.6 64-bit ('3.8.6': pyenv)",
   "metadata": {
    "interpreter": {
     "hash": "def1443cd7b0494ffc099209d4c7259e5a8304e131c4a6b9a38e7324fcb0905b"
    }
   }
  },
  "interpreter": {
   "hash": "def1443cd7b0494ffc099209d4c7259e5a8304e131c4a6b9a38e7324fcb0905b"
  }
 },
 "nbformat": 4,
 "nbformat_minor": 2
}