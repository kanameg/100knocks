{
 "cells": [
  {
   "cell_type": "markdown",
   "source": [
    "## 001 データを読み込んでみる"
   ],
   "metadata": {}
  },
  {
   "cell_type": "code",
   "execution_count": 60,
   "source": [
    "import datetime\n",
    "import pandas as pd"
   ],
   "outputs": [],
   "metadata": {}
  },
  {
   "cell_type": "code",
   "execution_count": 21,
   "source": [
    "cutomer_master = pd.read_csv('./input/100knoks/001/customer_master.csv')\n",
    "cutomer_master.head()"
   ],
   "outputs": [
    {
     "output_type": "execute_result",
     "data": {
      "text/plain": [
       "  customer_id customer_name    registration_date customer_name_kana  \\\n",
       "0    IK152942        平田 裕次郎  2019-01-01 00:25:33          ひらた ゆうじろう   \n",
       "1    TS808488         田村 詩織  2019-01-01 01:13:45            たむら しおり   \n",
       "2    AS834628         久野 由樹  2019-01-01 02:00:14             ひさの ゆき   \n",
       "3    AS345469          鶴岡 薫  2019-01-01 04:48:22           つるおか かおる   \n",
       "4    GD892565         大内 高史  2019-01-01 04:54:51           おおうち たかし   \n",
       "\n",
       "                         email gender  age      birth pref  \n",
       "0  hirata_yuujirou@example.com      M   29  1990/6/10  石川県  \n",
       "1    tamura_shiori@example.com      F   33  1986/5/20  東京都  \n",
       "2      hisano_yuki@example.com      F   63   1956/1/2  茨城県  \n",
       "3   tsuruoka_kaoru@example.com      M   74  1945/3/25  東京都  \n",
       "4   oouchi_takashi@example.com      M   54   1965/8/5  千葉県  "
      ],
      "text/html": "<div>\n<style scoped>\n    .dataframe tbody tr th:only-of-type {\n        vertical-align: middle;\n    }\n\n    .dataframe tbody tr th {\n        vertical-align: top;\n    }\n\n    .dataframe thead th {\n        text-align: right;\n    }\n</style>\n<table border=\"1\" class=\"dataframe\">\n  <thead>\n    <tr style=\"text-align: right;\">\n      <th></th>\n      <th>customer_id</th>\n      <th>customer_name</th>\n      <th>registration_date</th>\n      <th>customer_name_kana</th>\n      <th>email</th>\n      <th>gender</th>\n      <th>age</th>\n      <th>birth</th>\n      <th>pref</th>\n    </tr>\n  </thead>\n  <tbody>\n    <tr>\n      <th>0</th>\n      <td>IK152942</td>\n      <td>平田 裕次郎</td>\n      <td>2019-01-01 00:25:33</td>\n      <td>ひらた ゆうじろう</td>\n      <td>hirata_yuujirou@example.com</td>\n      <td>M</td>\n      <td>29</td>\n      <td>1990/6/10</td>\n      <td>石川県</td>\n    </tr>\n    <tr>\n      <th>1</th>\n      <td>TS808488</td>\n      <td>田村 詩織</td>\n      <td>2019-01-01 01:13:45</td>\n      <td>たむら しおり</td>\n      <td>tamura_shiori@example.com</td>\n      <td>F</td>\n      <td>33</td>\n      <td>1986/5/20</td>\n      <td>東京都</td>\n    </tr>\n    <tr>\n      <th>2</th>\n      <td>AS834628</td>\n      <td>久野 由樹</td>\n      <td>2019-01-01 02:00:14</td>\n      <td>ひさの ゆき</td>\n      <td>hisano_yuki@example.com</td>\n      <td>F</td>\n      <td>63</td>\n      <td>1956/1/2</td>\n      <td>茨城県</td>\n    </tr>\n    <tr>\n      <th>3</th>\n      <td>AS345469</td>\n      <td>鶴岡 薫</td>\n      <td>2019-01-01 04:48:22</td>\n      <td>つるおか かおる</td>\n      <td>tsuruoka_kaoru@example.com</td>\n      <td>M</td>\n      <td>74</td>\n      <td>1945/3/25</td>\n      <td>東京都</td>\n    </tr>\n    <tr>\n      <th>4</th>\n      <td>GD892565</td>\n      <td>大内 高史</td>\n      <td>2019-01-01 04:54:51</td>\n      <td>おおうち たかし</td>\n      <td>oouchi_takashi@example.com</td>\n      <td>M</td>\n      <td>54</td>\n      <td>1965/8/5</td>\n      <td>千葉県</td>\n    </tr>\n  </tbody>\n</table>\n</div>"
     },
     "metadata": {},
     "execution_count": 21
    }
   ],
   "metadata": {}
  },
  {
   "cell_type": "code",
   "execution_count": 22,
   "source": [
    "item_master = pd.read_csv('./input/100knoks/001/item_master.csv')\n",
    "item_master.head()"
   ],
   "outputs": [
    {
     "output_type": "execute_result",
     "data": {
      "text/plain": [
       "  item_id item_name  item_price\n",
       "0    S001      PC-A       50000\n",
       "1    S002      PC-B       85000\n",
       "2    S003      PC-C      120000\n",
       "3    S004      PC-D      180000\n",
       "4    S005      PC-E      210000"
      ],
      "text/html": "<div>\n<style scoped>\n    .dataframe tbody tr th:only-of-type {\n        vertical-align: middle;\n    }\n\n    .dataframe tbody tr th {\n        vertical-align: top;\n    }\n\n    .dataframe thead th {\n        text-align: right;\n    }\n</style>\n<table border=\"1\" class=\"dataframe\">\n  <thead>\n    <tr style=\"text-align: right;\">\n      <th></th>\n      <th>item_id</th>\n      <th>item_name</th>\n      <th>item_price</th>\n    </tr>\n  </thead>\n  <tbody>\n    <tr>\n      <th>0</th>\n      <td>S001</td>\n      <td>PC-A</td>\n      <td>50000</td>\n    </tr>\n    <tr>\n      <th>1</th>\n      <td>S002</td>\n      <td>PC-B</td>\n      <td>85000</td>\n    </tr>\n    <tr>\n      <th>2</th>\n      <td>S003</td>\n      <td>PC-C</td>\n      <td>120000</td>\n    </tr>\n    <tr>\n      <th>3</th>\n      <td>S004</td>\n      <td>PC-D</td>\n      <td>180000</td>\n    </tr>\n    <tr>\n      <th>4</th>\n      <td>S005</td>\n      <td>PC-E</td>\n      <td>210000</td>\n    </tr>\n  </tbody>\n</table>\n</div>"
     },
     "metadata": {},
     "execution_count": 22
    }
   ],
   "metadata": {}
  },
  {
   "cell_type": "code",
   "execution_count": 23,
   "source": [
    "transaction_1 = pd.read_csv('./input/100knoks/001/transaction_1.csv')\n",
    "transaction_1.head()"
   ],
   "outputs": [
    {
     "output_type": "execute_result",
     "data": {
      "text/plain": [
       "  transaction_id   price         payment_date customer_id\n",
       "0    T0000000113  210000  2019-02-01 01:36:57    PL563502\n",
       "1    T0000000114   50000  2019-02-01 01:37:23    HD678019\n",
       "2    T0000000115  120000  2019-02-01 02:34:19    HD298120\n",
       "3    T0000000116  210000  2019-02-01 02:47:23    IK452215\n",
       "4    T0000000117  170000  2019-02-01 04:33:46    PL542865"
      ],
      "text/html": "<div>\n<style scoped>\n    .dataframe tbody tr th:only-of-type {\n        vertical-align: middle;\n    }\n\n    .dataframe tbody tr th {\n        vertical-align: top;\n    }\n\n    .dataframe thead th {\n        text-align: right;\n    }\n</style>\n<table border=\"1\" class=\"dataframe\">\n  <thead>\n    <tr style=\"text-align: right;\">\n      <th></th>\n      <th>transaction_id</th>\n      <th>price</th>\n      <th>payment_date</th>\n      <th>customer_id</th>\n    </tr>\n  </thead>\n  <tbody>\n    <tr>\n      <th>0</th>\n      <td>T0000000113</td>\n      <td>210000</td>\n      <td>2019-02-01 01:36:57</td>\n      <td>PL563502</td>\n    </tr>\n    <tr>\n      <th>1</th>\n      <td>T0000000114</td>\n      <td>50000</td>\n      <td>2019-02-01 01:37:23</td>\n      <td>HD678019</td>\n    </tr>\n    <tr>\n      <th>2</th>\n      <td>T0000000115</td>\n      <td>120000</td>\n      <td>2019-02-01 02:34:19</td>\n      <td>HD298120</td>\n    </tr>\n    <tr>\n      <th>3</th>\n      <td>T0000000116</td>\n      <td>210000</td>\n      <td>2019-02-01 02:47:23</td>\n      <td>IK452215</td>\n    </tr>\n    <tr>\n      <th>4</th>\n      <td>T0000000117</td>\n      <td>170000</td>\n      <td>2019-02-01 04:33:46</td>\n      <td>PL542865</td>\n    </tr>\n  </tbody>\n</table>\n</div>"
     },
     "metadata": {},
     "execution_count": 23
    }
   ],
   "metadata": {}
  },
  {
   "cell_type": "code",
   "execution_count": 24,
   "source": [
    "transaction_2 = pd.read_csv('./input/100knoks/001/transaction_2.csv')\n",
    "transaction_2.head()"
   ],
   "outputs": [
    {
     "output_type": "execute_result",
     "data": {
      "text/plain": [
       "  transaction_id   price         payment_date customer_id\n",
       "0    T0000005113  295000  2019-06-15 07:20:27    TS169261\n",
       "1    T0000005114   50000  2019-06-15 07:35:47    HI599892\n",
       "2    T0000005115   85000  2019-06-15 07:56:36    HI421757\n",
       "3    T0000005116   50000  2019-06-15 08:40:55    OA386378\n",
       "4    T0000005117  120000  2019-06-15 08:44:23    TS506913"
      ],
      "text/html": "<div>\n<style scoped>\n    .dataframe tbody tr th:only-of-type {\n        vertical-align: middle;\n    }\n\n    .dataframe tbody tr th {\n        vertical-align: top;\n    }\n\n    .dataframe thead th {\n        text-align: right;\n    }\n</style>\n<table border=\"1\" class=\"dataframe\">\n  <thead>\n    <tr style=\"text-align: right;\">\n      <th></th>\n      <th>transaction_id</th>\n      <th>price</th>\n      <th>payment_date</th>\n      <th>customer_id</th>\n    </tr>\n  </thead>\n  <tbody>\n    <tr>\n      <th>0</th>\n      <td>T0000005113</td>\n      <td>295000</td>\n      <td>2019-06-15 07:20:27</td>\n      <td>TS169261</td>\n    </tr>\n    <tr>\n      <th>1</th>\n      <td>T0000005114</td>\n      <td>50000</td>\n      <td>2019-06-15 07:35:47</td>\n      <td>HI599892</td>\n    </tr>\n    <tr>\n      <th>2</th>\n      <td>T0000005115</td>\n      <td>85000</td>\n      <td>2019-06-15 07:56:36</td>\n      <td>HI421757</td>\n    </tr>\n    <tr>\n      <th>3</th>\n      <td>T0000005116</td>\n      <td>50000</td>\n      <td>2019-06-15 08:40:55</td>\n      <td>OA386378</td>\n    </tr>\n    <tr>\n      <th>4</th>\n      <td>T0000005117</td>\n      <td>120000</td>\n      <td>2019-06-15 08:44:23</td>\n      <td>TS506913</td>\n    </tr>\n  </tbody>\n</table>\n</div>"
     },
     "metadata": {},
     "execution_count": 24
    }
   ],
   "metadata": {}
  },
  {
   "cell_type": "code",
   "execution_count": 25,
   "source": [
    "transaction_detail_1 = pd.read_csv('./input/100knoks/001/transaction_detail_1.csv')\n",
    "transaction_detail_1.head()"
   ],
   "outputs": [
    {
     "output_type": "execute_result",
     "data": {
      "text/plain": [
       "   detail_id transaction_id item_id  quantity\n",
       "0          0    T0000000113    S005         1\n",
       "1          1    T0000000114    S001         1\n",
       "2          2    T0000000115    S003         1\n",
       "3          3    T0000000116    S005         1\n",
       "4          4    T0000000117    S002         2"
      ],
      "text/html": "<div>\n<style scoped>\n    .dataframe tbody tr th:only-of-type {\n        vertical-align: middle;\n    }\n\n    .dataframe tbody tr th {\n        vertical-align: top;\n    }\n\n    .dataframe thead th {\n        text-align: right;\n    }\n</style>\n<table border=\"1\" class=\"dataframe\">\n  <thead>\n    <tr style=\"text-align: right;\">\n      <th></th>\n      <th>detail_id</th>\n      <th>transaction_id</th>\n      <th>item_id</th>\n      <th>quantity</th>\n    </tr>\n  </thead>\n  <tbody>\n    <tr>\n      <th>0</th>\n      <td>0</td>\n      <td>T0000000113</td>\n      <td>S005</td>\n      <td>1</td>\n    </tr>\n    <tr>\n      <th>1</th>\n      <td>1</td>\n      <td>T0000000114</td>\n      <td>S001</td>\n      <td>1</td>\n    </tr>\n    <tr>\n      <th>2</th>\n      <td>2</td>\n      <td>T0000000115</td>\n      <td>S003</td>\n      <td>1</td>\n    </tr>\n    <tr>\n      <th>3</th>\n      <td>3</td>\n      <td>T0000000116</td>\n      <td>S005</td>\n      <td>1</td>\n    </tr>\n    <tr>\n      <th>4</th>\n      <td>4</td>\n      <td>T0000000117</td>\n      <td>S002</td>\n      <td>2</td>\n    </tr>\n  </tbody>\n</table>\n</div>"
     },
     "metadata": {},
     "execution_count": 25
    }
   ],
   "metadata": {}
  },
  {
   "cell_type": "code",
   "execution_count": 26,
   "source": [
    "transaction_detail_2 = pd.read_csv('./input/100knoks/001/transaction_detail_2.csv')\n",
    "transaction_detail_2.head()"
   ],
   "outputs": [
    {
     "output_type": "execute_result",
     "data": {
      "text/plain": [
       "   detail_id transaction_id item_id  quantity\n",
       "0       5000    T0000004870    S002         3\n",
       "1       5001    T0000004871    S003         1\n",
       "2       5002    T0000004872    S001         2\n",
       "3       5003    T0000004873    S004         1\n",
       "4       5004    T0000004874    S003         2"
      ],
      "text/html": "<div>\n<style scoped>\n    .dataframe tbody tr th:only-of-type {\n        vertical-align: middle;\n    }\n\n    .dataframe tbody tr th {\n        vertical-align: top;\n    }\n\n    .dataframe thead th {\n        text-align: right;\n    }\n</style>\n<table border=\"1\" class=\"dataframe\">\n  <thead>\n    <tr style=\"text-align: right;\">\n      <th></th>\n      <th>detail_id</th>\n      <th>transaction_id</th>\n      <th>item_id</th>\n      <th>quantity</th>\n    </tr>\n  </thead>\n  <tbody>\n    <tr>\n      <th>0</th>\n      <td>5000</td>\n      <td>T0000004870</td>\n      <td>S002</td>\n      <td>3</td>\n    </tr>\n    <tr>\n      <th>1</th>\n      <td>5001</td>\n      <td>T0000004871</td>\n      <td>S003</td>\n      <td>1</td>\n    </tr>\n    <tr>\n      <th>2</th>\n      <td>5002</td>\n      <td>T0000004872</td>\n      <td>S001</td>\n      <td>2</td>\n    </tr>\n    <tr>\n      <th>3</th>\n      <td>5003</td>\n      <td>T0000004873</td>\n      <td>S004</td>\n      <td>1</td>\n    </tr>\n    <tr>\n      <th>4</th>\n      <td>5004</td>\n      <td>T0000004874</td>\n      <td>S003</td>\n      <td>2</td>\n    </tr>\n  </tbody>\n</table>\n</div>"
     },
     "metadata": {},
     "execution_count": 26
    }
   ],
   "metadata": {}
  },
  {
   "cell_type": "markdown",
   "source": [
    "## 002 データを結合してみる Union"
   ],
   "metadata": {}
  },
  {
   "cell_type": "code",
   "execution_count": 27,
   "source": [
    "transaction = pd.concat([transaction_1, transaction_2], ignore_index=True)\n",
    "transaction.head()"
   ],
   "outputs": [
    {
     "output_type": "execute_result",
     "data": {
      "text/plain": [
       "  transaction_id   price         payment_date customer_id\n",
       "0    T0000000113  210000  2019-02-01 01:36:57    PL563502\n",
       "1    T0000000114   50000  2019-02-01 01:37:23    HD678019\n",
       "2    T0000000115  120000  2019-02-01 02:34:19    HD298120\n",
       "3    T0000000116  210000  2019-02-01 02:47:23    IK452215\n",
       "4    T0000000117  170000  2019-02-01 04:33:46    PL542865"
      ],
      "text/html": "<div>\n<style scoped>\n    .dataframe tbody tr th:only-of-type {\n        vertical-align: middle;\n    }\n\n    .dataframe tbody tr th {\n        vertical-align: top;\n    }\n\n    .dataframe thead th {\n        text-align: right;\n    }\n</style>\n<table border=\"1\" class=\"dataframe\">\n  <thead>\n    <tr style=\"text-align: right;\">\n      <th></th>\n      <th>transaction_id</th>\n      <th>price</th>\n      <th>payment_date</th>\n      <th>customer_id</th>\n    </tr>\n  </thead>\n  <tbody>\n    <tr>\n      <th>0</th>\n      <td>T0000000113</td>\n      <td>210000</td>\n      <td>2019-02-01 01:36:57</td>\n      <td>PL563502</td>\n    </tr>\n    <tr>\n      <th>1</th>\n      <td>T0000000114</td>\n      <td>50000</td>\n      <td>2019-02-01 01:37:23</td>\n      <td>HD678019</td>\n    </tr>\n    <tr>\n      <th>2</th>\n      <td>T0000000115</td>\n      <td>120000</td>\n      <td>2019-02-01 02:34:19</td>\n      <td>HD298120</td>\n    </tr>\n    <tr>\n      <th>3</th>\n      <td>T0000000116</td>\n      <td>210000</td>\n      <td>2019-02-01 02:47:23</td>\n      <td>IK452215</td>\n    </tr>\n    <tr>\n      <th>4</th>\n      <td>T0000000117</td>\n      <td>170000</td>\n      <td>2019-02-01 04:33:46</td>\n      <td>PL542865</td>\n    </tr>\n  </tbody>\n</table>\n</div>"
     },
     "metadata": {},
     "execution_count": 27
    }
   ],
   "metadata": {}
  },
  {
   "cell_type": "code",
   "execution_count": 28,
   "source": [
    "print(len(transaction_1))\n",
    "print(len(transaction_2))\n",
    "print(len(transaction))\n"
   ],
   "outputs": [
    {
     "output_type": "stream",
     "name": "stdout",
     "text": [
      "5000\n1786\n6786\n"
     ]
    }
   ],
   "metadata": {}
  },
  {
   "cell_type": "code",
   "execution_count": 29,
   "source": [
    "transaction_detail = pd.concat([transaction_detail_1, transaction_detail_2], ignore_index=True)\n",
    "transaction_detail.head()"
   ],
   "outputs": [
    {
     "output_type": "execute_result",
     "data": {
      "text/plain": [
       "   detail_id transaction_id item_id  quantity\n",
       "0          0    T0000000113    S005         1\n",
       "1          1    T0000000114    S001         1\n",
       "2          2    T0000000115    S003         1\n",
       "3          3    T0000000116    S005         1\n",
       "4          4    T0000000117    S002         2"
      ],
      "text/html": "<div>\n<style scoped>\n    .dataframe tbody tr th:only-of-type {\n        vertical-align: middle;\n    }\n\n    .dataframe tbody tr th {\n        vertical-align: top;\n    }\n\n    .dataframe thead th {\n        text-align: right;\n    }\n</style>\n<table border=\"1\" class=\"dataframe\">\n  <thead>\n    <tr style=\"text-align: right;\">\n      <th></th>\n      <th>detail_id</th>\n      <th>transaction_id</th>\n      <th>item_id</th>\n      <th>quantity</th>\n    </tr>\n  </thead>\n  <tbody>\n    <tr>\n      <th>0</th>\n      <td>0</td>\n      <td>T0000000113</td>\n      <td>S005</td>\n      <td>1</td>\n    </tr>\n    <tr>\n      <th>1</th>\n      <td>1</td>\n      <td>T0000000114</td>\n      <td>S001</td>\n      <td>1</td>\n    </tr>\n    <tr>\n      <th>2</th>\n      <td>2</td>\n      <td>T0000000115</td>\n      <td>S003</td>\n      <td>1</td>\n    </tr>\n    <tr>\n      <th>3</th>\n      <td>3</td>\n      <td>T0000000116</td>\n      <td>S005</td>\n      <td>1</td>\n    </tr>\n    <tr>\n      <th>4</th>\n      <td>4</td>\n      <td>T0000000117</td>\n      <td>S002</td>\n      <td>2</td>\n    </tr>\n  </tbody>\n</table>\n</div>"
     },
     "metadata": {},
     "execution_count": 29
    }
   ],
   "metadata": {}
  },
  {
   "cell_type": "code",
   "execution_count": 30,
   "source": [
    "print(len(transaction_detail_1))\n",
    "print(len(transaction_detail_2))\n",
    "print(len(transaction_detail))"
   ],
   "outputs": [
    {
     "output_type": "stream",
     "name": "stdout",
     "text": [
      "5000\n2144\n7144\n"
     ]
    }
   ],
   "metadata": {}
  },
  {
   "cell_type": "markdown",
   "source": [
    "## 003 データを結合する Join"
   ],
   "metadata": {}
  },
  {
   "cell_type": "code",
   "execution_count": 31,
   "source": [
    "transaction_join = pd.merge(transaction_detail, transaction[['transaction_id', 'payment_date', 'customer_id']], on='transaction_id', how='left')\n",
    "transaction_join.head()"
   ],
   "outputs": [
    {
     "output_type": "execute_result",
     "data": {
      "text/plain": [
       "   detail_id transaction_id item_id  quantity         payment_date customer_id\n",
       "0          0    T0000000113    S005         1  2019-02-01 01:36:57    PL563502\n",
       "1          1    T0000000114    S001         1  2019-02-01 01:37:23    HD678019\n",
       "2          2    T0000000115    S003         1  2019-02-01 02:34:19    HD298120\n",
       "3          3    T0000000116    S005         1  2019-02-01 02:47:23    IK452215\n",
       "4          4    T0000000117    S002         2  2019-02-01 04:33:46    PL542865"
      ],
      "text/html": "<div>\n<style scoped>\n    .dataframe tbody tr th:only-of-type {\n        vertical-align: middle;\n    }\n\n    .dataframe tbody tr th {\n        vertical-align: top;\n    }\n\n    .dataframe thead th {\n        text-align: right;\n    }\n</style>\n<table border=\"1\" class=\"dataframe\">\n  <thead>\n    <tr style=\"text-align: right;\">\n      <th></th>\n      <th>detail_id</th>\n      <th>transaction_id</th>\n      <th>item_id</th>\n      <th>quantity</th>\n      <th>payment_date</th>\n      <th>customer_id</th>\n    </tr>\n  </thead>\n  <tbody>\n    <tr>\n      <th>0</th>\n      <td>0</td>\n      <td>T0000000113</td>\n      <td>S005</td>\n      <td>1</td>\n      <td>2019-02-01 01:36:57</td>\n      <td>PL563502</td>\n    </tr>\n    <tr>\n      <th>1</th>\n      <td>1</td>\n      <td>T0000000114</td>\n      <td>S001</td>\n      <td>1</td>\n      <td>2019-02-01 01:37:23</td>\n      <td>HD678019</td>\n    </tr>\n    <tr>\n      <th>2</th>\n      <td>2</td>\n      <td>T0000000115</td>\n      <td>S003</td>\n      <td>1</td>\n      <td>2019-02-01 02:34:19</td>\n      <td>HD298120</td>\n    </tr>\n    <tr>\n      <th>3</th>\n      <td>3</td>\n      <td>T0000000116</td>\n      <td>S005</td>\n      <td>1</td>\n      <td>2019-02-01 02:47:23</td>\n      <td>IK452215</td>\n    </tr>\n    <tr>\n      <th>4</th>\n      <td>4</td>\n      <td>T0000000117</td>\n      <td>S002</td>\n      <td>2</td>\n      <td>2019-02-01 04:33:46</td>\n      <td>PL542865</td>\n    </tr>\n  </tbody>\n</table>\n</div>"
     },
     "metadata": {},
     "execution_count": 31
    }
   ],
   "metadata": {}
  },
  {
   "cell_type": "code",
   "execution_count": 32,
   "source": [
    "print(len(transaction_detail))\n",
    "print(len(transaction))\n",
    "print(len(transaction_join))"
   ],
   "outputs": [
    {
     "output_type": "stream",
     "name": "stdout",
     "text": [
      "7144\n6786\n7144\n"
     ]
    }
   ],
   "metadata": {}
  },
  {
   "source": [
    "## 004 マスターを結合する Join"
   ],
   "cell_type": "markdown",
   "metadata": {}
  },
  {
   "cell_type": "code",
   "execution_count": 37,
   "metadata": {},
   "outputs": [
    {
     "output_type": "execute_result",
     "data": {
      "text/plain": [
       "   detail_id transaction_id item_id  quantity         payment_date  \\\n",
       "0          0    T0000000113    S005         1  2019-02-01 01:36:57   \n",
       "1          1    T0000000114    S001         1  2019-02-01 01:37:23   \n",
       "2          2    T0000000115    S003         1  2019-02-01 02:34:19   \n",
       "3          3    T0000000116    S005         1  2019-02-01 02:47:23   \n",
       "4          4    T0000000117    S002         2  2019-02-01 04:33:46   \n",
       "\n",
       "  customer_id customer_name_x  registration_date_x customer_name_kana_x  \\\n",
       "0    PL563502           井本 芳正  2019-01-07 14:34:35             いもと よしまさ   \n",
       "1    HD678019           三船 六郎  2019-01-27 18:00:11             みふね ろくろう   \n",
       "2    HD298120           山根 小雁  2019-01-11 08:16:02              やまね こがん   \n",
       "3    IK452215           池田 菜摘  2019-01-10 05:07:38              いけだ なつみ   \n",
       "4    PL542865           栗田 憲一  2019-01-25 06:46:05             くりた けんいち   \n",
       "\n",
       "                       email_x  ... customer_name_y  registration_date_y  \\\n",
       "0  imoto_yoshimasa@example.com  ...           井本 芳正  2019-01-07 14:34:35   \n",
       "1   mifune_rokurou@example.com  ...           三船 六郎  2019-01-27 18:00:11   \n",
       "2     yamane_kogan@example.com  ...           山根 小雁  2019-01-11 08:16:02   \n",
       "3    ikeda_natsumi@example.com  ...           池田 菜摘  2019-01-10 05:07:38   \n",
       "4   kurita_kenichi@example.com  ...           栗田 憲一  2019-01-25 06:46:05   \n",
       "\n",
       "  customer_name_kana_y                      email_y gender_y age_y  \\\n",
       "0             いもと よしまさ  imoto_yoshimasa@example.com        M    30   \n",
       "1             みふね ろくろう   mifune_rokurou@example.com        M    73   \n",
       "2              やまね こがん     yamane_kogan@example.com        M    42   \n",
       "3              いけだ なつみ    ikeda_natsumi@example.com        F    47   \n",
       "4             くりた けんいち   kurita_kenichi@example.com        M    74   \n",
       "\n",
       "      birth_y pref_y item_name  item_price  \n",
       "0   1989/7/15    熊本県      PC-E      210000  \n",
       "1  1945/11/29    京都府      PC-A       50000  \n",
       "2   1977/5/17    茨城県      PC-C      120000  \n",
       "3   1972/3/17    兵庫県      PC-E      210000  \n",
       "4  1944/12/17    長崎県      PC-B       85000  \n",
       "\n",
       "[5 rows x 24 columns]"
      ],
      "text/html": "<div>\n<style scoped>\n    .dataframe tbody tr th:only-of-type {\n        vertical-align: middle;\n    }\n\n    .dataframe tbody tr th {\n        vertical-align: top;\n    }\n\n    .dataframe thead th {\n        text-align: right;\n    }\n</style>\n<table border=\"1\" class=\"dataframe\">\n  <thead>\n    <tr style=\"text-align: right;\">\n      <th></th>\n      <th>detail_id</th>\n      <th>transaction_id</th>\n      <th>item_id</th>\n      <th>quantity</th>\n      <th>payment_date</th>\n      <th>customer_id</th>\n      <th>customer_name_x</th>\n      <th>registration_date_x</th>\n      <th>customer_name_kana_x</th>\n      <th>email_x</th>\n      <th>...</th>\n      <th>customer_name_y</th>\n      <th>registration_date_y</th>\n      <th>customer_name_kana_y</th>\n      <th>email_y</th>\n      <th>gender_y</th>\n      <th>age_y</th>\n      <th>birth_y</th>\n      <th>pref_y</th>\n      <th>item_name</th>\n      <th>item_price</th>\n    </tr>\n  </thead>\n  <tbody>\n    <tr>\n      <th>0</th>\n      <td>0</td>\n      <td>T0000000113</td>\n      <td>S005</td>\n      <td>1</td>\n      <td>2019-02-01 01:36:57</td>\n      <td>PL563502</td>\n      <td>井本 芳正</td>\n      <td>2019-01-07 14:34:35</td>\n      <td>いもと よしまさ</td>\n      <td>imoto_yoshimasa@example.com</td>\n      <td>...</td>\n      <td>井本 芳正</td>\n      <td>2019-01-07 14:34:35</td>\n      <td>いもと よしまさ</td>\n      <td>imoto_yoshimasa@example.com</td>\n      <td>M</td>\n      <td>30</td>\n      <td>1989/7/15</td>\n      <td>熊本県</td>\n      <td>PC-E</td>\n      <td>210000</td>\n    </tr>\n    <tr>\n      <th>1</th>\n      <td>1</td>\n      <td>T0000000114</td>\n      <td>S001</td>\n      <td>1</td>\n      <td>2019-02-01 01:37:23</td>\n      <td>HD678019</td>\n      <td>三船 六郎</td>\n      <td>2019-01-27 18:00:11</td>\n      <td>みふね ろくろう</td>\n      <td>mifune_rokurou@example.com</td>\n      <td>...</td>\n      <td>三船 六郎</td>\n      <td>2019-01-27 18:00:11</td>\n      <td>みふね ろくろう</td>\n      <td>mifune_rokurou@example.com</td>\n      <td>M</td>\n      <td>73</td>\n      <td>1945/11/29</td>\n      <td>京都府</td>\n      <td>PC-A</td>\n      <td>50000</td>\n    </tr>\n    <tr>\n      <th>2</th>\n      <td>2</td>\n      <td>T0000000115</td>\n      <td>S003</td>\n      <td>1</td>\n      <td>2019-02-01 02:34:19</td>\n      <td>HD298120</td>\n      <td>山根 小雁</td>\n      <td>2019-01-11 08:16:02</td>\n      <td>やまね こがん</td>\n      <td>yamane_kogan@example.com</td>\n      <td>...</td>\n      <td>山根 小雁</td>\n      <td>2019-01-11 08:16:02</td>\n      <td>やまね こがん</td>\n      <td>yamane_kogan@example.com</td>\n      <td>M</td>\n      <td>42</td>\n      <td>1977/5/17</td>\n      <td>茨城県</td>\n      <td>PC-C</td>\n      <td>120000</td>\n    </tr>\n    <tr>\n      <th>3</th>\n      <td>3</td>\n      <td>T0000000116</td>\n      <td>S005</td>\n      <td>1</td>\n      <td>2019-02-01 02:47:23</td>\n      <td>IK452215</td>\n      <td>池田 菜摘</td>\n      <td>2019-01-10 05:07:38</td>\n      <td>いけだ なつみ</td>\n      <td>ikeda_natsumi@example.com</td>\n      <td>...</td>\n      <td>池田 菜摘</td>\n      <td>2019-01-10 05:07:38</td>\n      <td>いけだ なつみ</td>\n      <td>ikeda_natsumi@example.com</td>\n      <td>F</td>\n      <td>47</td>\n      <td>1972/3/17</td>\n      <td>兵庫県</td>\n      <td>PC-E</td>\n      <td>210000</td>\n    </tr>\n    <tr>\n      <th>4</th>\n      <td>4</td>\n      <td>T0000000117</td>\n      <td>S002</td>\n      <td>2</td>\n      <td>2019-02-01 04:33:46</td>\n      <td>PL542865</td>\n      <td>栗田 憲一</td>\n      <td>2019-01-25 06:46:05</td>\n      <td>くりた けんいち</td>\n      <td>kurita_kenichi@example.com</td>\n      <td>...</td>\n      <td>栗田 憲一</td>\n      <td>2019-01-25 06:46:05</td>\n      <td>くりた けんいち</td>\n      <td>kurita_kenichi@example.com</td>\n      <td>M</td>\n      <td>74</td>\n      <td>1944/12/17</td>\n      <td>長崎県</td>\n      <td>PC-B</td>\n      <td>85000</td>\n    </tr>\n  </tbody>\n</table>\n<p>5 rows × 24 columns</p>\n</div>"
     },
     "metadata": {},
     "execution_count": 37
    }
   ],
   "source": [
    "#transaction_join = pd.merge(transaction_join, cutomer_master[['customer_id', 'customer_name', 'registration_date', 'customer_name_kana', 'email', 'gender', 'age', 'birth', 'pref']], on='customer_id', how='left')\n",
    "transaction_join = pd.merge(transaction_join, cutomer_master, on='customer_id', how='left')\n",
    "transaction_join = pd.merge(transaction_join, item_master, on='item_id', how='left')\n",
    "transaction_join.head()"
   ]
  },
  {
   "cell_type": "code",
   "execution_count": 38,
   "metadata": {},
   "outputs": [
    {
     "output_type": "stream",
     "name": "stdout",
     "text": [
      "6786\n7144\n7144\n"
     ]
    }
   ],
   "source": [
    "print(len(transaction))\n",
    "print(len(transaction_detail))\n",
    "print(len(transaction_join))"
   ]
  },
  {
   "source": [
    "## 005 売上の列を追加"
   ],
   "cell_type": "markdown",
   "metadata": {}
  },
  {
   "cell_type": "code",
   "execution_count": 41,
   "metadata": {},
   "outputs": [
    {
     "output_type": "execute_result",
     "data": {
      "text/plain": [
       "   quantity  item_price   price\n",
       "0         1      210000  210000\n",
       "1         1       50000   50000\n",
       "2         1      120000  120000\n",
       "3         1      210000  210000\n",
       "4         2       85000  170000"
      ],
      "text/html": "<div>\n<style scoped>\n    .dataframe tbody tr th:only-of-type {\n        vertical-align: middle;\n    }\n\n    .dataframe tbody tr th {\n        vertical-align: top;\n    }\n\n    .dataframe thead th {\n        text-align: right;\n    }\n</style>\n<table border=\"1\" class=\"dataframe\">\n  <thead>\n    <tr style=\"text-align: right;\">\n      <th></th>\n      <th>quantity</th>\n      <th>item_price</th>\n      <th>price</th>\n    </tr>\n  </thead>\n  <tbody>\n    <tr>\n      <th>0</th>\n      <td>1</td>\n      <td>210000</td>\n      <td>210000</td>\n    </tr>\n    <tr>\n      <th>1</th>\n      <td>1</td>\n      <td>50000</td>\n      <td>50000</td>\n    </tr>\n    <tr>\n      <th>2</th>\n      <td>1</td>\n      <td>120000</td>\n      <td>120000</td>\n    </tr>\n    <tr>\n      <th>3</th>\n      <td>1</td>\n      <td>210000</td>\n      <td>210000</td>\n    </tr>\n    <tr>\n      <th>4</th>\n      <td>2</td>\n      <td>85000</td>\n      <td>170000</td>\n    </tr>\n  </tbody>\n</table>\n</div>"
     },
     "metadata": {},
     "execution_count": 41
    }
   ],
   "source": [
    "transaction_join['price'] = transaction_join['quantity'] * transaction_join['item_price']\n",
    "transaction_join[['quantity', 'item_price', 'price']].head()"
   ]
  },
  {
   "source": [
    "## 006 データを検算\n",
    "合計値があってるかを比較して検算"
   ],
   "cell_type": "markdown",
   "metadata": {}
  },
  {
   "cell_type": "code",
   "execution_count": 50,
   "metadata": {},
   "outputs": [
    {
     "output_type": "stream",
     "name": "stdout",
     "text": [
      "True\n971135000\n971135000\n"
     ]
    }
   ],
   "source": [
    "print(transaction_join['price'].sum() == transaction['price'].sum())\n",
    "print(transaction_join['price'].sum())\n",
    "print(transaction['price'].sum())"
   ]
  },
  {
   "source": [
    "## 007 統計量の把握"
   ],
   "cell_type": "markdown",
   "metadata": {}
  },
  {
   "cell_type": "code",
   "execution_count": 52,
   "metadata": {},
   "outputs": [
    {
     "output_type": "execute_result",
     "data": {
      "text/plain": [
       "         detail_id     quantity        age_x        age_y     item_price  \\\n",
       "count  7144.000000  7144.000000  7144.000000  7144.000000    7144.000000   \n",
       "mean   3571.500000     1.199888    50.265677    50.265677  121698.628219   \n",
       "std    2062.439494     0.513647    17.190314    17.190314   64571.311830   \n",
       "min       0.000000     1.000000    20.000000    20.000000   50000.000000   \n",
       "25%    1785.750000     1.000000    36.000000    36.000000   50000.000000   \n",
       "50%    3571.500000     1.000000    50.000000    50.000000  102500.000000   \n",
       "75%    5357.250000     1.000000    65.000000    65.000000  187500.000000   \n",
       "max    7143.000000     4.000000    80.000000    80.000000  210000.000000   \n",
       "\n",
       "               price  \n",
       "count    7144.000000  \n",
       "mean   135937.150056  \n",
       "std     68511.453297  \n",
       "min     50000.000000  \n",
       "25%     85000.000000  \n",
       "50%    120000.000000  \n",
       "75%    210000.000000  \n",
       "max    420000.000000  "
      ],
      "text/html": "<div>\n<style scoped>\n    .dataframe tbody tr th:only-of-type {\n        vertical-align: middle;\n    }\n\n    .dataframe tbody tr th {\n        vertical-align: top;\n    }\n\n    .dataframe thead th {\n        text-align: right;\n    }\n</style>\n<table border=\"1\" class=\"dataframe\">\n  <thead>\n    <tr style=\"text-align: right;\">\n      <th></th>\n      <th>detail_id</th>\n      <th>quantity</th>\n      <th>age_x</th>\n      <th>age_y</th>\n      <th>item_price</th>\n      <th>price</th>\n    </tr>\n  </thead>\n  <tbody>\n    <tr>\n      <th>count</th>\n      <td>7144.000000</td>\n      <td>7144.000000</td>\n      <td>7144.000000</td>\n      <td>7144.000000</td>\n      <td>7144.000000</td>\n      <td>7144.000000</td>\n    </tr>\n    <tr>\n      <th>mean</th>\n      <td>3571.500000</td>\n      <td>1.199888</td>\n      <td>50.265677</td>\n      <td>50.265677</td>\n      <td>121698.628219</td>\n      <td>135937.150056</td>\n    </tr>\n    <tr>\n      <th>std</th>\n      <td>2062.439494</td>\n      <td>0.513647</td>\n      <td>17.190314</td>\n      <td>17.190314</td>\n      <td>64571.311830</td>\n      <td>68511.453297</td>\n    </tr>\n    <tr>\n      <th>min</th>\n      <td>0.000000</td>\n      <td>1.000000</td>\n      <td>20.000000</td>\n      <td>20.000000</td>\n      <td>50000.000000</td>\n      <td>50000.000000</td>\n    </tr>\n    <tr>\n      <th>25%</th>\n      <td>1785.750000</td>\n      <td>1.000000</td>\n      <td>36.000000</td>\n      <td>36.000000</td>\n      <td>50000.000000</td>\n      <td>85000.000000</td>\n    </tr>\n    <tr>\n      <th>50%</th>\n      <td>3571.500000</td>\n      <td>1.000000</td>\n      <td>50.000000</td>\n      <td>50.000000</td>\n      <td>102500.000000</td>\n      <td>120000.000000</td>\n    </tr>\n    <tr>\n      <th>75%</th>\n      <td>5357.250000</td>\n      <td>1.000000</td>\n      <td>65.000000</td>\n      <td>65.000000</td>\n      <td>187500.000000</td>\n      <td>210000.000000</td>\n    </tr>\n    <tr>\n      <th>max</th>\n      <td>7143.000000</td>\n      <td>4.000000</td>\n      <td>80.000000</td>\n      <td>80.000000</td>\n      <td>210000.000000</td>\n      <td>420000.000000</td>\n    </tr>\n  </tbody>\n</table>\n</div>"
     },
     "metadata": {},
     "execution_count": 52
    }
   ],
   "source": [
    "transaction_join.describe()"
   ]
  },
  {
   "cell_type": "code",
   "execution_count": 54,
   "metadata": {},
   "outputs": [
    {
     "output_type": "execute_result",
     "data": {
      "text/plain": [
       "detail_id               0\n",
       "transaction_id          0\n",
       "item_id                 0\n",
       "quantity                0\n",
       "payment_date            0\n",
       "customer_id             0\n",
       "customer_name_x         0\n",
       "registration_date_x     0\n",
       "customer_name_kana_x    0\n",
       "email_x                 0\n",
       "gender_x                0\n",
       "age_x                   0\n",
       "birth_x                 0\n",
       "pref_x                  0\n",
       "customer_name_y         0\n",
       "registration_date_y     0\n",
       "customer_name_kana_y    0\n",
       "email_y                 0\n",
       "gender_y                0\n",
       "age_y                   0\n",
       "birth_y                 0\n",
       "pref_y                  0\n",
       "item_name               0\n",
       "item_price              0\n",
       "price                   0\n",
       "dtype: int64"
      ]
     },
     "metadata": {},
     "execution_count": 54
    }
   ],
   "source": [
    "transaction_join.isnull().sum()"
   ]
  },
  {
   "source": [
    "## 008 月別に集計"
   ],
   "cell_type": "markdown",
   "metadata": {}
  },
  {
   "cell_type": "code",
   "execution_count": 55,
   "metadata": {},
   "outputs": [
    {
     "output_type": "execute_result",
     "data": {
      "text/plain": [
       "detail_id                int64\n",
       "transaction_id          object\n",
       "item_id                 object\n",
       "quantity                 int64\n",
       "payment_date            object\n",
       "customer_id             object\n",
       "customer_name_x         object\n",
       "registration_date_x     object\n",
       "customer_name_kana_x    object\n",
       "email_x                 object\n",
       "gender_x                object\n",
       "age_x                    int64\n",
       "birth_x                 object\n",
       "pref_x                  object\n",
       "customer_name_y         object\n",
       "registration_date_y     object\n",
       "customer_name_kana_y    object\n",
       "email_y                 object\n",
       "gender_y                object\n",
       "age_y                    int64\n",
       "birth_y                 object\n",
       "pref_y                  object\n",
       "item_name               object\n",
       "item_price               int64\n",
       "price                    int64\n",
       "dtype: object"
      ]
     },
     "metadata": {},
     "execution_count": 55
    }
   ],
   "source": [
    "transaction_join.dtypes"
   ]
  },
  {
   "cell_type": "code",
   "execution_count": 68,
   "metadata": {},
   "outputs": [
    {
     "output_type": "execute_result",
     "data": {
      "text/plain": [
       "          payment_date payment_month\n",
       "0  2019-02-01 01:36:57        201902\n",
       "1  2019-02-01 01:37:23        201902\n",
       "2  2019-02-01 02:34:19        201902\n",
       "3  2019-02-01 02:47:23        201902\n",
       "4  2019-02-01 04:33:46        201902"
      ],
      "text/html": "<div>\n<style scoped>\n    .dataframe tbody tr th:only-of-type {\n        vertical-align: middle;\n    }\n\n    .dataframe tbody tr th {\n        vertical-align: top;\n    }\n\n    .dataframe thead th {\n        text-align: right;\n    }\n</style>\n<table border=\"1\" class=\"dataframe\">\n  <thead>\n    <tr style=\"text-align: right;\">\n      <th></th>\n      <th>payment_date</th>\n      <th>payment_month</th>\n    </tr>\n  </thead>\n  <tbody>\n    <tr>\n      <th>0</th>\n      <td>2019-02-01 01:36:57</td>\n      <td>201902</td>\n    </tr>\n    <tr>\n      <th>1</th>\n      <td>2019-02-01 01:37:23</td>\n      <td>201902</td>\n    </tr>\n    <tr>\n      <th>2</th>\n      <td>2019-02-01 02:34:19</td>\n      <td>201902</td>\n    </tr>\n    <tr>\n      <th>3</th>\n      <td>2019-02-01 02:47:23</td>\n      <td>201902</td>\n    </tr>\n    <tr>\n      <th>4</th>\n      <td>2019-02-01 04:33:46</td>\n      <td>201902</td>\n    </tr>\n  </tbody>\n</table>\n</div>"
     },
     "metadata": {},
     "execution_count": 68
    }
   ],
   "source": [
    "transaction_join['patment_date'] = pd.to_datetime(transaction_join['payment_date'])\n",
    "transaction_join['payment_month'] = transaction_join['patment_date'].dt.strftime(\"%Y%m\")\n",
    "transaction_join[['payment_date', 'payment_month']].head()"
   ]
  },
  {
   "cell_type": "code",
   "execution_count": 69,
   "metadata": {},
   "outputs": [
    {
     "output_type": "execute_result",
     "data": {
      "text/plain": [
       "payment_month\n",
       "201902    160185000\n",
       "201903    160370000\n",
       "201904    160510000\n",
       "201905    155420000\n",
       "201906    164030000\n",
       "201907    170620000\n",
       "Name: price, dtype: int64"
      ]
     },
     "metadata": {},
     "execution_count": 69
    }
   ],
   "source": [
    "transaction_join.groupby('payment_month').sum()['price']"
   ]
  },
  {
   "source": [
    "## 009 月別、商品別で集計"
   ],
   "cell_type": "markdown",
   "metadata": {}
  },
  {
   "source": [
    "groupbyを使って表示"
   ],
   "cell_type": "markdown",
   "metadata": {}
  },
  {
   "cell_type": "code",
   "execution_count": 74,
   "metadata": {},
   "outputs": [
    {
     "output_type": "execute_result",
     "data": {
      "text/plain": [
       "                            price  quantity\n",
       "payment_month item_name                    \n",
       "201902        PC-A       24150000       483\n",
       "              PC-B       25245000       297\n",
       "              PC-C       19800000       165\n",
       "              PC-D       31140000       173\n",
       "              PC-E       59850000       285\n",
       "201903        PC-A       26000000       520\n",
       "              PC-B       25500000       300\n",
       "              PC-C       19080000       159\n",
       "              PC-D       25740000       143\n",
       "              PC-E       64050000       305\n",
       "201904        PC-A       25900000       518\n",
       "              PC-B       23460000       276\n",
       "              PC-C       21960000       183\n",
       "              PC-D       24300000       135\n",
       "              PC-E       64890000       309\n",
       "201905        PC-A       24850000       497\n",
       "              PC-B       25330000       298\n",
       "              PC-C       20520000       171\n",
       "              PC-D       25920000       144\n",
       "              PC-E       58800000       280\n",
       "201906        PC-A       26000000       520\n",
       "              PC-B       23970000       282\n",
       "              PC-C       21840000       182\n",
       "              PC-D       28800000       160\n",
       "              PC-E       63420000       302\n",
       "201907        PC-A       25250000       505\n",
       "              PC-B       28220000       332\n",
       "              PC-C       19440000       162\n",
       "              PC-D       26100000       145\n",
       "              PC-E       71610000       341"
      ],
      "text/html": "<div>\n<style scoped>\n    .dataframe tbody tr th:only-of-type {\n        vertical-align: middle;\n    }\n\n    .dataframe tbody tr th {\n        vertical-align: top;\n    }\n\n    .dataframe thead th {\n        text-align: right;\n    }\n</style>\n<table border=\"1\" class=\"dataframe\">\n  <thead>\n    <tr style=\"text-align: right;\">\n      <th></th>\n      <th></th>\n      <th>price</th>\n      <th>quantity</th>\n    </tr>\n    <tr>\n      <th>payment_month</th>\n      <th>item_name</th>\n      <th></th>\n      <th></th>\n    </tr>\n  </thead>\n  <tbody>\n    <tr>\n      <th rowspan=\"5\" valign=\"top\">201902</th>\n      <th>PC-A</th>\n      <td>24150000</td>\n      <td>483</td>\n    </tr>\n    <tr>\n      <th>PC-B</th>\n      <td>25245000</td>\n      <td>297</td>\n    </tr>\n    <tr>\n      <th>PC-C</th>\n      <td>19800000</td>\n      <td>165</td>\n    </tr>\n    <tr>\n      <th>PC-D</th>\n      <td>31140000</td>\n      <td>173</td>\n    </tr>\n    <tr>\n      <th>PC-E</th>\n      <td>59850000</td>\n      <td>285</td>\n    </tr>\n    <tr>\n      <th rowspan=\"5\" valign=\"top\">201903</th>\n      <th>PC-A</th>\n      <td>26000000</td>\n      <td>520</td>\n    </tr>\n    <tr>\n      <th>PC-B</th>\n      <td>25500000</td>\n      <td>300</td>\n    </tr>\n    <tr>\n      <th>PC-C</th>\n      <td>19080000</td>\n      <td>159</td>\n    </tr>\n    <tr>\n      <th>PC-D</th>\n      <td>25740000</td>\n      <td>143</td>\n    </tr>\n    <tr>\n      <th>PC-E</th>\n      <td>64050000</td>\n      <td>305</td>\n    </tr>\n    <tr>\n      <th rowspan=\"5\" valign=\"top\">201904</th>\n      <th>PC-A</th>\n      <td>25900000</td>\n      <td>518</td>\n    </tr>\n    <tr>\n      <th>PC-B</th>\n      <td>23460000</td>\n      <td>276</td>\n    </tr>\n    <tr>\n      <th>PC-C</th>\n      <td>21960000</td>\n      <td>183</td>\n    </tr>\n    <tr>\n      <th>PC-D</th>\n      <td>24300000</td>\n      <td>135</td>\n    </tr>\n    <tr>\n      <th>PC-E</th>\n      <td>64890000</td>\n      <td>309</td>\n    </tr>\n    <tr>\n      <th rowspan=\"5\" valign=\"top\">201905</th>\n      <th>PC-A</th>\n      <td>24850000</td>\n      <td>497</td>\n    </tr>\n    <tr>\n      <th>PC-B</th>\n      <td>25330000</td>\n      <td>298</td>\n    </tr>\n    <tr>\n      <th>PC-C</th>\n      <td>20520000</td>\n      <td>171</td>\n    </tr>\n    <tr>\n      <th>PC-D</th>\n      <td>25920000</td>\n      <td>144</td>\n    </tr>\n    <tr>\n      <th>PC-E</th>\n      <td>58800000</td>\n      <td>280</td>\n    </tr>\n    <tr>\n      <th rowspan=\"5\" valign=\"top\">201906</th>\n      <th>PC-A</th>\n      <td>26000000</td>\n      <td>520</td>\n    </tr>\n    <tr>\n      <th>PC-B</th>\n      <td>23970000</td>\n      <td>282</td>\n    </tr>\n    <tr>\n      <th>PC-C</th>\n      <td>21840000</td>\n      <td>182</td>\n    </tr>\n    <tr>\n      <th>PC-D</th>\n      <td>28800000</td>\n      <td>160</td>\n    </tr>\n    <tr>\n      <th>PC-E</th>\n      <td>63420000</td>\n      <td>302</td>\n    </tr>\n    <tr>\n      <th rowspan=\"5\" valign=\"top\">201907</th>\n      <th>PC-A</th>\n      <td>25250000</td>\n      <td>505</td>\n    </tr>\n    <tr>\n      <th>PC-B</th>\n      <td>28220000</td>\n      <td>332</td>\n    </tr>\n    <tr>\n      <th>PC-C</th>\n      <td>19440000</td>\n      <td>162</td>\n    </tr>\n    <tr>\n      <th>PC-D</th>\n      <td>26100000</td>\n      <td>145</td>\n    </tr>\n    <tr>\n      <th>PC-E</th>\n      <td>71610000</td>\n      <td>341</td>\n    </tr>\n  </tbody>\n</table>\n</div>"
     },
     "metadata": {},
     "execution_count": 74
    }
   ],
   "source": [
    "transaction_join.groupby(['payment_month', 'item_name']).sum()[['price', 'quantity']]"
   ]
  },
  {
   "source": [
    "Pivotを使って表示"
   ],
   "cell_type": "markdown",
   "metadata": {}
  },
  {
   "cell_type": "code",
   "execution_count": 78,
   "metadata": {},
   "outputs": [
    {
     "output_type": "execute_result",
     "data": {
      "text/plain": [
       "                  price                                                    \\\n",
       "payment_month    201902    201903    201904    201905    201906    201907   \n",
       "item_name                                                                   \n",
       "PC-A           24150000  26000000  25900000  24850000  26000000  25250000   \n",
       "PC-B           25245000  25500000  23460000  25330000  23970000  28220000   \n",
       "PC-C           19800000  19080000  21960000  20520000  21840000  19440000   \n",
       "PC-D           31140000  25740000  24300000  25920000  28800000  26100000   \n",
       "PC-E           59850000  64050000  64890000  58800000  63420000  71610000   \n",
       "\n",
       "              quantity                                     \n",
       "payment_month   201902 201903 201904 201905 201906 201907  \n",
       "item_name                                                  \n",
       "PC-A               483    520    518    497    520    505  \n",
       "PC-B               297    300    276    298    282    332  \n",
       "PC-C               165    159    183    171    182    162  \n",
       "PC-D               173    143    135    144    160    145  \n",
       "PC-E               285    305    309    280    302    341  "
      ],
      "text/html": "<div>\n<style scoped>\n    .dataframe tbody tr th:only-of-type {\n        vertical-align: middle;\n    }\n\n    .dataframe tbody tr th {\n        vertical-align: top;\n    }\n\n    .dataframe thead tr th {\n        text-align: left;\n    }\n\n    .dataframe thead tr:last-of-type th {\n        text-align: right;\n    }\n</style>\n<table border=\"1\" class=\"dataframe\">\n  <thead>\n    <tr>\n      <th></th>\n      <th colspan=\"6\" halign=\"left\">price</th>\n      <th colspan=\"6\" halign=\"left\">quantity</th>\n    </tr>\n    <tr>\n      <th>payment_month</th>\n      <th>201902</th>\n      <th>201903</th>\n      <th>201904</th>\n      <th>201905</th>\n      <th>201906</th>\n      <th>201907</th>\n      <th>201902</th>\n      <th>201903</th>\n      <th>201904</th>\n      <th>201905</th>\n      <th>201906</th>\n      <th>201907</th>\n    </tr>\n    <tr>\n      <th>item_name</th>\n      <th></th>\n      <th></th>\n      <th></th>\n      <th></th>\n      <th></th>\n      <th></th>\n      <th></th>\n      <th></th>\n      <th></th>\n      <th></th>\n      <th></th>\n      <th></th>\n    </tr>\n  </thead>\n  <tbody>\n    <tr>\n      <th>PC-A</th>\n      <td>24150000</td>\n      <td>26000000</td>\n      <td>25900000</td>\n      <td>24850000</td>\n      <td>26000000</td>\n      <td>25250000</td>\n      <td>483</td>\n      <td>520</td>\n      <td>518</td>\n      <td>497</td>\n      <td>520</td>\n      <td>505</td>\n    </tr>\n    <tr>\n      <th>PC-B</th>\n      <td>25245000</td>\n      <td>25500000</td>\n      <td>23460000</td>\n      <td>25330000</td>\n      <td>23970000</td>\n      <td>28220000</td>\n      <td>297</td>\n      <td>300</td>\n      <td>276</td>\n      <td>298</td>\n      <td>282</td>\n      <td>332</td>\n    </tr>\n    <tr>\n      <th>PC-C</th>\n      <td>19800000</td>\n      <td>19080000</td>\n      <td>21960000</td>\n      <td>20520000</td>\n      <td>21840000</td>\n      <td>19440000</td>\n      <td>165</td>\n      <td>159</td>\n      <td>183</td>\n      <td>171</td>\n      <td>182</td>\n      <td>162</td>\n    </tr>\n    <tr>\n      <th>PC-D</th>\n      <td>31140000</td>\n      <td>25740000</td>\n      <td>24300000</td>\n      <td>25920000</td>\n      <td>28800000</td>\n      <td>26100000</td>\n      <td>173</td>\n      <td>143</td>\n      <td>135</td>\n      <td>144</td>\n      <td>160</td>\n      <td>145</td>\n    </tr>\n    <tr>\n      <th>PC-E</th>\n      <td>59850000</td>\n      <td>64050000</td>\n      <td>64890000</td>\n      <td>58800000</td>\n      <td>63420000</td>\n      <td>71610000</td>\n      <td>285</td>\n      <td>305</td>\n      <td>309</td>\n      <td>280</td>\n      <td>302</td>\n      <td>341</td>\n    </tr>\n  </tbody>\n</table>\n</div>"
     },
     "metadata": {},
     "execution_count": 78
    }
   ],
   "source": [
    "pd.pivot_table(transaction_join, index='item_name', columns='payment_month', values=['price', 'quantity'], aggfunc='sum')"
   ]
  },
  {
   "source": [
    "## 010 可視化してみる"
   ],
   "cell_type": "markdown",
   "metadata": {}
  },
  {
   "cell_type": "code",
   "execution_count": 101,
   "metadata": {},
   "outputs": [],
   "source": [
    "import seaborn as sns\n",
    "import matplotlib.pyplot as plt\n",
    "%matplotlib inline"
   ]
  },
  {
   "cell_type": "code",
   "execution_count": 137,
   "metadata": {},
   "outputs": [
    {
     "output_type": "execute_result",
     "data": {
      "text/plain": [
       "<AxesSubplot:xlabel='payment_month', ylabel='price'>"
      ]
     },
     "metadata": {},
     "execution_count": 137
    },
    {
     "output_type": "display_data",
     "data": {
      "text/plain": "<Figure size 432x288 with 1 Axes>",
      "image/svg+xml": "<?xml version=\"1.0\" encoding=\"utf-8\" standalone=\"no\"?>\n<!DOCTYPE svg PUBLIC \"-//W3C//DTD SVG 1.1//EN\"\n  \"http://www.w3.org/Graphics/SVG/1.1/DTD/svg11.dtd\">\n<svg height=\"277.388438pt\" version=\"1.1\" viewBox=\"0 0 382.924318 277.388438\" width=\"382.924318pt\" xmlns=\"http://www.w3.org/2000/svg\" xmlns:xlink=\"http://www.w3.org/1999/xlink\">\n <metadata>\n  <rdf:RDF xmlns:cc=\"http://creativecommons.org/ns#\" xmlns:dc=\"http://purl.org/dc/elements/1.1/\" xmlns:rdf=\"http://www.w3.org/1999/02/22-rdf-syntax-ns#\">\n   <cc:Work>\n    <dc:type rdf:resource=\"http://purl.org/dc/dcmitype/StillImage\"/>\n    <dc:date>2021-08-01T14:17:23.700170</dc:date>\n    <dc:format>image/svg+xml</dc:format>\n    <dc:creator>\n     <cc:Agent>\n      <dc:title>Matplotlib v3.4.2, https://matplotlib.org/</dc:title>\n     </cc:Agent>\n    </dc:creator>\n   </cc:Work>\n  </rdf:RDF>\n </metadata>\n <defs>\n  <style type=\"text/css\">*{stroke-linecap:butt;stroke-linejoin:round;}</style>\n </defs>\n <g id=\"figure_1\">\n  <g id=\"patch_1\">\n   <path d=\"M 0 277.388438 \nL 382.924318 277.388438 \nL 382.924318 0 \nL 0 0 \nz\n\" style=\"fill:#ffffff;\"/>\n  </g>\n  <g id=\"axes_1\">\n   <g id=\"patch_2\">\n    <path d=\"M 37.791406 235.513594 \nL 372.591406 235.513594 \nL 372.591406 18.073594 \nL 37.791406 18.073594 \nz\n\" style=\"fill:#eaeaf2;\"/>\n   </g>\n   <g id=\"matplotlib.axis_1\">\n    <g id=\"xtick_1\">\n     <g id=\"line2d_1\">\n      <path clip-path=\"url(#p7d9fb975b1)\" d=\"M 53.009588 235.513594 \nL 53.009588 18.073594 \n\" style=\"fill:none;stroke:#ffffff;stroke-linecap:round;\"/>\n     </g>\n     <g id=\"text_1\">\n      <!-- 201902 -->\n      <g style=\"fill:#262626;\" transform=\"translate(34.658494 252.887188)scale(0.11 -0.11)\">\n       <defs>\n        <path d=\"M 3222 541 \nL 3222 0 \nL 194 0 \nQ 188 203 259 391 \nQ 375 700 629 1000 \nQ 884 1300 1366 1694 \nQ 2113 2306 2375 2664 \nQ 2638 3022 2638 3341 \nQ 2638 3675 2398 3904 \nQ 2159 4134 1775 4134 \nQ 1369 4134 1125 3890 \nQ 881 3647 878 3216 \nL 300 3275 \nQ 359 3922 746 4261 \nQ 1134 4600 1788 4600 \nQ 2447 4600 2831 4234 \nQ 3216 3869 3216 3328 \nQ 3216 3053 3103 2787 \nQ 2991 2522 2730 2228 \nQ 2469 1934 1863 1422 \nQ 1356 997 1212 845 \nQ 1069 694 975 541 \nL 3222 541 \nz\n\" id=\"ArialMT-32\" transform=\"scale(0.015625)\"/>\n        <path d=\"M 266 2259 \nQ 266 3072 433 3567 \nQ 600 4063 929 4331 \nQ 1259 4600 1759 4600 \nQ 2128 4600 2406 4451 \nQ 2684 4303 2865 4023 \nQ 3047 3744 3150 3342 \nQ 3253 2941 3253 2259 \nQ 3253 1453 3087 958 \nQ 2922 463 2592 192 \nQ 2263 -78 1759 -78 \nQ 1097 -78 719 397 \nQ 266 969 266 2259 \nz\nM 844 2259 \nQ 844 1131 1108 757 \nQ 1372 384 1759 384 \nQ 2147 384 2411 759 \nQ 2675 1134 2675 2259 \nQ 2675 3391 2411 3762 \nQ 2147 4134 1753 4134 \nQ 1366 4134 1134 3806 \nQ 844 3388 844 2259 \nz\n\" id=\"ArialMT-30\" transform=\"scale(0.015625)\"/>\n        <path d=\"M 2384 0 \nL 1822 0 \nL 1822 3584 \nQ 1619 3391 1289 3197 \nQ 959 3003 697 2906 \nL 697 3450 \nQ 1169 3672 1522 3987 \nQ 1875 4303 2022 4600 \nL 2384 4600 \nL 2384 0 \nz\n\" id=\"ArialMT-31\" transform=\"scale(0.015625)\"/>\n        <path d=\"M 350 1059 \nL 891 1109 \nQ 959 728 1153 556 \nQ 1347 384 1650 384 \nQ 1909 384 2104 503 \nQ 2300 622 2425 820 \nQ 2550 1019 2634 1356 \nQ 2719 1694 2719 2044 \nQ 2719 2081 2716 2156 \nQ 2547 1888 2255 1720 \nQ 1963 1553 1622 1553 \nQ 1053 1553 659 1965 \nQ 266 2378 266 3053 \nQ 266 3750 677 4175 \nQ 1088 4600 1706 4600 \nQ 2153 4600 2523 4359 \nQ 2894 4119 3086 3673 \nQ 3278 3228 3278 2384 \nQ 3278 1506 3087 986 \nQ 2897 466 2520 194 \nQ 2144 -78 1638 -78 \nQ 1100 -78 759 220 \nQ 419 519 350 1059 \nz\nM 2653 3081 \nQ 2653 3566 2395 3850 \nQ 2138 4134 1775 4134 \nQ 1400 4134 1122 3828 \nQ 844 3522 844 3034 \nQ 844 2597 1108 2323 \nQ 1372 2050 1759 2050 \nQ 2150 2050 2401 2323 \nQ 2653 2597 2653 3081 \nz\n\" id=\"ArialMT-39\" transform=\"scale(0.015625)\"/>\n       </defs>\n       <use xlink:href=\"#ArialMT-32\"/>\n       <use x=\"55.615234\" xlink:href=\"#ArialMT-30\"/>\n       <use x=\"111.230469\" xlink:href=\"#ArialMT-31\"/>\n       <use x=\"166.845703\" xlink:href=\"#ArialMT-39\"/>\n       <use x=\"222.460938\" xlink:href=\"#ArialMT-30\"/>\n       <use x=\"278.076172\" xlink:href=\"#ArialMT-32\"/>\n      </g>\n     </g>\n    </g>\n    <g id=\"xtick_2\">\n     <g id=\"line2d_2\">\n      <path clip-path=\"url(#p7d9fb975b1)\" d=\"M 113.882315 235.513594 \nL 113.882315 18.073594 \n\" style=\"fill:none;stroke:#ffffff;stroke-linecap:round;\"/>\n     </g>\n     <g id=\"text_2\">\n      <!-- 201903 -->\n      <g style=\"fill:#262626;\" transform=\"translate(95.531222 252.887188)scale(0.11 -0.11)\">\n       <defs>\n        <path d=\"M 269 1209 \nL 831 1284 \nQ 928 806 1161 595 \nQ 1394 384 1728 384 \nQ 2125 384 2398 659 \nQ 2672 934 2672 1341 \nQ 2672 1728 2419 1979 \nQ 2166 2231 1775 2231 \nQ 1616 2231 1378 2169 \nL 1441 2663 \nQ 1497 2656 1531 2656 \nQ 1891 2656 2178 2843 \nQ 2466 3031 2466 3422 \nQ 2466 3731 2256 3934 \nQ 2047 4138 1716 4138 \nQ 1388 4138 1169 3931 \nQ 950 3725 888 3313 \nL 325 3413 \nQ 428 3978 793 4289 \nQ 1159 4600 1703 4600 \nQ 2078 4600 2393 4439 \nQ 2709 4278 2876 4000 \nQ 3044 3722 3044 3409 \nQ 3044 3113 2884 2869 \nQ 2725 2625 2413 2481 \nQ 2819 2388 3044 2092 \nQ 3269 1797 3269 1353 \nQ 3269 753 2831 336 \nQ 2394 -81 1725 -81 \nQ 1122 -81 723 278 \nQ 325 638 269 1209 \nz\n\" id=\"ArialMT-33\" transform=\"scale(0.015625)\"/>\n       </defs>\n       <use xlink:href=\"#ArialMT-32\"/>\n       <use x=\"55.615234\" xlink:href=\"#ArialMT-30\"/>\n       <use x=\"111.230469\" xlink:href=\"#ArialMT-31\"/>\n       <use x=\"166.845703\" xlink:href=\"#ArialMT-39\"/>\n       <use x=\"222.460938\" xlink:href=\"#ArialMT-30\"/>\n       <use x=\"278.076172\" xlink:href=\"#ArialMT-33\"/>\n      </g>\n     </g>\n    </g>\n    <g id=\"xtick_3\">\n     <g id=\"line2d_3\">\n      <path clip-path=\"url(#p7d9fb975b1)\" d=\"M 174.755043 235.513594 \nL 174.755043 18.073594 \n\" style=\"fill:none;stroke:#ffffff;stroke-linecap:round;\"/>\n     </g>\n     <g id=\"text_3\">\n      <!-- 201904 -->\n      <g style=\"fill:#262626;\" transform=\"translate(156.403949 252.887188)scale(0.11 -0.11)\">\n       <defs>\n        <path d=\"M 2069 0 \nL 2069 1097 \nL 81 1097 \nL 81 1613 \nL 2172 4581 \nL 2631 4581 \nL 2631 1613 \nL 3250 1613 \nL 3250 1097 \nL 2631 1097 \nL 2631 0 \nL 2069 0 \nz\nM 2069 1613 \nL 2069 3678 \nL 634 1613 \nL 2069 1613 \nz\n\" id=\"ArialMT-34\" transform=\"scale(0.015625)\"/>\n       </defs>\n       <use xlink:href=\"#ArialMT-32\"/>\n       <use x=\"55.615234\" xlink:href=\"#ArialMT-30\"/>\n       <use x=\"111.230469\" xlink:href=\"#ArialMT-31\"/>\n       <use x=\"166.845703\" xlink:href=\"#ArialMT-39\"/>\n       <use x=\"222.460938\" xlink:href=\"#ArialMT-30\"/>\n       <use x=\"278.076172\" xlink:href=\"#ArialMT-34\"/>\n      </g>\n     </g>\n    </g>\n    <g id=\"xtick_4\">\n     <g id=\"line2d_4\">\n      <path clip-path=\"url(#p7d9fb975b1)\" d=\"M 235.62777 235.513594 \nL 235.62777 18.073594 \n\" style=\"fill:none;stroke:#ffffff;stroke-linecap:round;\"/>\n     </g>\n     <g id=\"text_4\">\n      <!-- 201905 -->\n      <g style=\"fill:#262626;\" transform=\"translate(217.276676 252.887188)scale(0.11 -0.11)\">\n       <defs>\n        <path d=\"M 266 1200 \nL 856 1250 \nQ 922 819 1161 601 \nQ 1400 384 1738 384 \nQ 2144 384 2425 690 \nQ 2706 997 2706 1503 \nQ 2706 1984 2436 2262 \nQ 2166 2541 1728 2541 \nQ 1456 2541 1237 2417 \nQ 1019 2294 894 2097 \nL 366 2166 \nL 809 4519 \nL 3088 4519 \nL 3088 3981 \nL 1259 3981 \nL 1013 2750 \nQ 1425 3038 1878 3038 \nQ 2478 3038 2890 2622 \nQ 3303 2206 3303 1553 \nQ 3303 931 2941 478 \nQ 2500 -78 1738 -78 \nQ 1113 -78 717 272 \nQ 322 622 266 1200 \nz\n\" id=\"ArialMT-35\" transform=\"scale(0.015625)\"/>\n       </defs>\n       <use xlink:href=\"#ArialMT-32\"/>\n       <use x=\"55.615234\" xlink:href=\"#ArialMT-30\"/>\n       <use x=\"111.230469\" xlink:href=\"#ArialMT-31\"/>\n       <use x=\"166.845703\" xlink:href=\"#ArialMT-39\"/>\n       <use x=\"222.460938\" xlink:href=\"#ArialMT-30\"/>\n       <use x=\"278.076172\" xlink:href=\"#ArialMT-35\"/>\n      </g>\n     </g>\n    </g>\n    <g id=\"xtick_5\">\n     <g id=\"line2d_5\">\n      <path clip-path=\"url(#p7d9fb975b1)\" d=\"M 296.500497 235.513594 \nL 296.500497 18.073594 \n\" style=\"fill:none;stroke:#ffffff;stroke-linecap:round;\"/>\n     </g>\n     <g id=\"text_5\">\n      <!-- 201906 -->\n      <g style=\"fill:#262626;\" transform=\"translate(278.149403 252.887188)scale(0.11 -0.11)\">\n       <defs>\n        <path d=\"M 3184 3459 \nL 2625 3416 \nQ 2550 3747 2413 3897 \nQ 2184 4138 1850 4138 \nQ 1581 4138 1378 3988 \nQ 1113 3794 959 3422 \nQ 806 3050 800 2363 \nQ 1003 2672 1297 2822 \nQ 1591 2972 1913 2972 \nQ 2475 2972 2870 2558 \nQ 3266 2144 3266 1488 \nQ 3266 1056 3080 686 \nQ 2894 316 2569 119 \nQ 2244 -78 1831 -78 \nQ 1128 -78 684 439 \nQ 241 956 241 2144 \nQ 241 3472 731 4075 \nQ 1159 4600 1884 4600 \nQ 2425 4600 2770 4297 \nQ 3116 3994 3184 3459 \nz\nM 888 1484 \nQ 888 1194 1011 928 \nQ 1134 663 1356 523 \nQ 1578 384 1822 384 \nQ 2178 384 2434 671 \nQ 2691 959 2691 1453 \nQ 2691 1928 2437 2201 \nQ 2184 2475 1800 2475 \nQ 1419 2475 1153 2201 \nQ 888 1928 888 1484 \nz\n\" id=\"ArialMT-36\" transform=\"scale(0.015625)\"/>\n       </defs>\n       <use xlink:href=\"#ArialMT-32\"/>\n       <use x=\"55.615234\" xlink:href=\"#ArialMT-30\"/>\n       <use x=\"111.230469\" xlink:href=\"#ArialMT-31\"/>\n       <use x=\"166.845703\" xlink:href=\"#ArialMT-39\"/>\n       <use x=\"222.460938\" xlink:href=\"#ArialMT-30\"/>\n       <use x=\"278.076172\" xlink:href=\"#ArialMT-36\"/>\n      </g>\n     </g>\n    </g>\n    <g id=\"xtick_6\">\n     <g id=\"line2d_6\">\n      <path clip-path=\"url(#p7d9fb975b1)\" d=\"M 357.373224 235.513594 \nL 357.373224 18.073594 \n\" style=\"fill:none;stroke:#ffffff;stroke-linecap:round;\"/>\n     </g>\n     <g id=\"text_6\">\n      <!-- 201907 -->\n      <g style=\"fill:#262626;\" transform=\"translate(339.022131 252.887188)scale(0.11 -0.11)\">\n       <defs>\n        <path d=\"M 303 3981 \nL 303 4522 \nL 3269 4522 \nL 3269 4084 \nQ 2831 3619 2401 2847 \nQ 1972 2075 1738 1259 \nQ 1569 684 1522 0 \nL 944 0 \nQ 953 541 1156 1306 \nQ 1359 2072 1739 2783 \nQ 2119 3494 2547 3981 \nL 303 3981 \nz\n\" id=\"ArialMT-37\" transform=\"scale(0.015625)\"/>\n       </defs>\n       <use xlink:href=\"#ArialMT-32\"/>\n       <use x=\"55.615234\" xlink:href=\"#ArialMT-30\"/>\n       <use x=\"111.230469\" xlink:href=\"#ArialMT-31\"/>\n       <use x=\"166.845703\" xlink:href=\"#ArialMT-39\"/>\n       <use x=\"222.460938\" xlink:href=\"#ArialMT-30\"/>\n       <use x=\"278.076172\" xlink:href=\"#ArialMT-37\"/>\n      </g>\n     </g>\n    </g>\n    <g id=\"text_7\">\n     <!-- payment_month -->\n     <g style=\"fill:#262626;\" transform=\"translate(162.169531 267.662813)scale(0.12 -0.12)\">\n      <defs>\n       <path d=\"M 422 -1272 \nL 422 3319 \nL 934 3319 \nL 934 2888 \nQ 1116 3141 1344 3267 \nQ 1572 3394 1897 3394 \nQ 2322 3394 2647 3175 \nQ 2972 2956 3137 2557 \nQ 3303 2159 3303 1684 \nQ 3303 1175 3120 767 \nQ 2938 359 2589 142 \nQ 2241 -75 1856 -75 \nQ 1575 -75 1351 44 \nQ 1128 163 984 344 \nL 984 -1272 \nL 422 -1272 \nz\nM 931 1641 \nQ 931 1000 1190 694 \nQ 1450 388 1819 388 \nQ 2194 388 2461 705 \nQ 2728 1022 2728 1688 \nQ 2728 2322 2467 2637 \nQ 2206 2953 1844 2953 \nQ 1484 2953 1207 2617 \nQ 931 2281 931 1641 \nz\n\" id=\"ArialMT-70\" transform=\"scale(0.015625)\"/>\n       <path d=\"M 2588 409 \nQ 2275 144 1986 34 \nQ 1697 -75 1366 -75 \nQ 819 -75 525 192 \nQ 231 459 231 875 \nQ 231 1119 342 1320 \nQ 453 1522 633 1644 \nQ 813 1766 1038 1828 \nQ 1203 1872 1538 1913 \nQ 2219 1994 2541 2106 \nQ 2544 2222 2544 2253 \nQ 2544 2597 2384 2738 \nQ 2169 2928 1744 2928 \nQ 1347 2928 1158 2789 \nQ 969 2650 878 2297 \nL 328 2372 \nQ 403 2725 575 2942 \nQ 747 3159 1072 3276 \nQ 1397 3394 1825 3394 \nQ 2250 3394 2515 3294 \nQ 2781 3194 2906 3042 \nQ 3031 2891 3081 2659 \nQ 3109 2516 3109 2141 \nL 3109 1391 \nQ 3109 606 3145 398 \nQ 3181 191 3288 0 \nL 2700 0 \nQ 2613 175 2588 409 \nz\nM 2541 1666 \nQ 2234 1541 1622 1453 \nQ 1275 1403 1131 1340 \nQ 988 1278 909 1158 \nQ 831 1038 831 891 \nQ 831 666 1001 516 \nQ 1172 366 1500 366 \nQ 1825 366 2078 508 \nQ 2331 650 2450 897 \nQ 2541 1088 2541 1459 \nL 2541 1666 \nz\n\" id=\"ArialMT-61\" transform=\"scale(0.015625)\"/>\n       <path d=\"M 397 -1278 \nL 334 -750 \nQ 519 -800 656 -800 \nQ 844 -800 956 -737 \nQ 1069 -675 1141 -563 \nQ 1194 -478 1313 -144 \nQ 1328 -97 1363 -6 \nL 103 3319 \nL 709 3319 \nL 1400 1397 \nQ 1534 1031 1641 628 \nQ 1738 1016 1872 1384 \nL 2581 3319 \nL 3144 3319 \nL 1881 -56 \nQ 1678 -603 1566 -809 \nQ 1416 -1088 1222 -1217 \nQ 1028 -1347 759 -1347 \nQ 597 -1347 397 -1278 \nz\n\" id=\"ArialMT-79\" transform=\"scale(0.015625)\"/>\n       <path d=\"M 422 0 \nL 422 3319 \nL 925 3319 \nL 925 2853 \nQ 1081 3097 1340 3245 \nQ 1600 3394 1931 3394 \nQ 2300 3394 2536 3241 \nQ 2772 3088 2869 2813 \nQ 3263 3394 3894 3394 \nQ 4388 3394 4653 3120 \nQ 4919 2847 4919 2278 \nL 4919 0 \nL 4359 0 \nL 4359 2091 \nQ 4359 2428 4304 2576 \nQ 4250 2725 4106 2815 \nQ 3963 2906 3769 2906 \nQ 3419 2906 3187 2673 \nQ 2956 2441 2956 1928 \nL 2956 0 \nL 2394 0 \nL 2394 2156 \nQ 2394 2531 2256 2718 \nQ 2119 2906 1806 2906 \nQ 1569 2906 1367 2781 \nQ 1166 2656 1075 2415 \nQ 984 2175 984 1722 \nL 984 0 \nL 422 0 \nz\n\" id=\"ArialMT-6d\" transform=\"scale(0.015625)\"/>\n       <path d=\"M 2694 1069 \nL 3275 997 \nQ 3138 488 2766 206 \nQ 2394 -75 1816 -75 \nQ 1088 -75 661 373 \nQ 234 822 234 1631 \nQ 234 2469 665 2931 \nQ 1097 3394 1784 3394 \nQ 2450 3394 2872 2941 \nQ 3294 2488 3294 1666 \nQ 3294 1616 3291 1516 \nL 816 1516 \nQ 847 969 1125 678 \nQ 1403 388 1819 388 \nQ 2128 388 2347 550 \nQ 2566 713 2694 1069 \nz\nM 847 1978 \nL 2700 1978 \nQ 2663 2397 2488 2606 \nQ 2219 2931 1791 2931 \nQ 1403 2931 1139 2672 \nQ 875 2413 847 1978 \nz\n\" id=\"ArialMT-65\" transform=\"scale(0.015625)\"/>\n       <path d=\"M 422 0 \nL 422 3319 \nL 928 3319 \nL 928 2847 \nQ 1294 3394 1984 3394 \nQ 2284 3394 2536 3286 \nQ 2788 3178 2913 3003 \nQ 3038 2828 3088 2588 \nQ 3119 2431 3119 2041 \nL 3119 0 \nL 2556 0 \nL 2556 2019 \nQ 2556 2363 2490 2533 \nQ 2425 2703 2258 2804 \nQ 2091 2906 1866 2906 \nQ 1506 2906 1245 2678 \nQ 984 2450 984 1813 \nL 984 0 \nL 422 0 \nz\n\" id=\"ArialMT-6e\" transform=\"scale(0.015625)\"/>\n       <path d=\"M 1650 503 \nL 1731 6 \nQ 1494 -44 1306 -44 \nQ 1000 -44 831 53 \nQ 663 150 594 308 \nQ 525 466 525 972 \nL 525 2881 \nL 113 2881 \nL 113 3319 \nL 525 3319 \nL 525 4141 \nL 1084 4478 \nL 1084 3319 \nL 1650 3319 \nL 1650 2881 \nL 1084 2881 \nL 1084 941 \nQ 1084 700 1114 631 \nQ 1144 563 1211 522 \nQ 1278 481 1403 481 \nQ 1497 481 1650 503 \nz\n\" id=\"ArialMT-74\" transform=\"scale(0.015625)\"/>\n       <path d=\"M -97 -1272 \nL -97 -866 \nL 3631 -866 \nL 3631 -1272 \nL -97 -1272 \nz\n\" id=\"ArialMT-5f\" transform=\"scale(0.015625)\"/>\n       <path d=\"M 213 1659 \nQ 213 2581 725 3025 \nQ 1153 3394 1769 3394 \nQ 2453 3394 2887 2945 \nQ 3322 2497 3322 1706 \nQ 3322 1066 3130 698 \nQ 2938 331 2570 128 \nQ 2203 -75 1769 -75 \nQ 1072 -75 642 372 \nQ 213 819 213 1659 \nz\nM 791 1659 \nQ 791 1022 1069 705 \nQ 1347 388 1769 388 \nQ 2188 388 2466 706 \nQ 2744 1025 2744 1678 \nQ 2744 2294 2464 2611 \nQ 2184 2928 1769 2928 \nQ 1347 2928 1069 2612 \nQ 791 2297 791 1659 \nz\n\" id=\"ArialMT-6f\" transform=\"scale(0.015625)\"/>\n       <path d=\"M 422 0 \nL 422 4581 \nL 984 4581 \nL 984 2938 \nQ 1378 3394 1978 3394 \nQ 2347 3394 2619 3248 \nQ 2891 3103 3008 2847 \nQ 3125 2591 3125 2103 \nL 3125 0 \nL 2563 0 \nL 2563 2103 \nQ 2563 2525 2380 2717 \nQ 2197 2909 1863 2909 \nQ 1613 2909 1392 2779 \nQ 1172 2650 1078 2428 \nQ 984 2206 984 1816 \nL 984 0 \nL 422 0 \nz\n\" id=\"ArialMT-68\" transform=\"scale(0.015625)\"/>\n      </defs>\n      <use xlink:href=\"#ArialMT-70\"/>\n      <use x=\"55.615234\" xlink:href=\"#ArialMT-61\"/>\n      <use x=\"111.230469\" xlink:href=\"#ArialMT-79\"/>\n      <use x=\"161.230469\" xlink:href=\"#ArialMT-6d\"/>\n      <use x=\"244.53125\" xlink:href=\"#ArialMT-65\"/>\n      <use x=\"300.146484\" xlink:href=\"#ArialMT-6e\"/>\n      <use x=\"355.761719\" xlink:href=\"#ArialMT-74\"/>\n      <use x=\"383.544922\" xlink:href=\"#ArialMT-5f\"/>\n      <use x=\"439.160156\" xlink:href=\"#ArialMT-6d\"/>\n      <use x=\"522.460938\" xlink:href=\"#ArialMT-6f\"/>\n      <use x=\"578.076172\" xlink:href=\"#ArialMT-6e\"/>\n      <use x=\"633.691406\" xlink:href=\"#ArialMT-74\"/>\n      <use x=\"661.474609\" xlink:href=\"#ArialMT-68\"/>\n     </g>\n    </g>\n   </g>\n   <g id=\"matplotlib.axis_2\">\n    <g id=\"ytick_1\">\n     <g id=\"line2d_7\">\n      <path clip-path=\"url(#p7d9fb975b1)\" d=\"M 37.791406 222.167956 \nL 372.591406 222.167956 \n\" style=\"fill:none;stroke:#ffffff;stroke-linecap:round;\"/>\n     </g>\n     <g id=\"text_8\">\n      <!-- 2 -->\n      <g style=\"fill:#262626;\" transform=\"translate(22.174375 226.104753)scale(0.11 -0.11)\">\n       <use xlink:href=\"#ArialMT-32\"/>\n      </g>\n     </g>\n    </g>\n    <g id=\"ytick_2\">\n     <g id=\"line2d_8\">\n      <path clip-path=\"url(#p7d9fb975b1)\" d=\"M 37.791406 184.537512 \nL 372.591406 184.537512 \n\" style=\"fill:none;stroke:#ffffff;stroke-linecap:round;\"/>\n     </g>\n     <g id=\"text_9\">\n      <!-- 3 -->\n      <g style=\"fill:#262626;\" transform=\"translate(22.174375 188.474308)scale(0.11 -0.11)\">\n       <use xlink:href=\"#ArialMT-33\"/>\n      </g>\n     </g>\n    </g>\n    <g id=\"ytick_3\">\n     <g id=\"line2d_9\">\n      <path clip-path=\"url(#p7d9fb975b1)\" d=\"M 37.791406 146.907067 \nL 372.591406 146.907067 \n\" style=\"fill:none;stroke:#ffffff;stroke-linecap:round;\"/>\n     </g>\n     <g id=\"text_10\">\n      <!-- 4 -->\n      <g style=\"fill:#262626;\" transform=\"translate(22.174375 150.843863)scale(0.11 -0.11)\">\n       <use xlink:href=\"#ArialMT-34\"/>\n      </g>\n     </g>\n    </g>\n    <g id=\"ytick_4\">\n     <g id=\"line2d_10\">\n      <path clip-path=\"url(#p7d9fb975b1)\" d=\"M 37.791406 109.276622 \nL 372.591406 109.276622 \n\" style=\"fill:none;stroke:#ffffff;stroke-linecap:round;\"/>\n     </g>\n     <g id=\"text_11\">\n      <!-- 5 -->\n      <g style=\"fill:#262626;\" transform=\"translate(22.174375 113.213419)scale(0.11 -0.11)\">\n       <use xlink:href=\"#ArialMT-35\"/>\n      </g>\n     </g>\n    </g>\n    <g id=\"ytick_5\">\n     <g id=\"line2d_11\">\n      <path clip-path=\"url(#p7d9fb975b1)\" d=\"M 37.791406 71.646177 \nL 372.591406 71.646177 \n\" style=\"fill:none;stroke:#ffffff;stroke-linecap:round;\"/>\n     </g>\n     <g id=\"text_12\">\n      <!-- 6 -->\n      <g style=\"fill:#262626;\" transform=\"translate(22.174375 75.582974)scale(0.11 -0.11)\">\n       <use xlink:href=\"#ArialMT-36\"/>\n      </g>\n     </g>\n    </g>\n    <g id=\"ytick_6\">\n     <g id=\"line2d_12\">\n      <path clip-path=\"url(#p7d9fb975b1)\" d=\"M 37.791406 34.015732 \nL 372.591406 34.015732 \n\" style=\"fill:none;stroke:#ffffff;stroke-linecap:round;\"/>\n     </g>\n     <g id=\"text_13\">\n      <!-- 7 -->\n      <g style=\"fill:#262626;\" transform=\"translate(22.174375 37.952529)scale(0.11 -0.11)\">\n       <use xlink:href=\"#ArialMT-37\"/>\n      </g>\n     </g>\n    </g>\n    <g id=\"text_14\">\n     <!-- price -->\n     <g style=\"fill:#262626;\" transform=\"translate(15.789375 139.797656)rotate(-90)scale(0.12 -0.12)\">\n      <defs>\n       <path d=\"M 416 0 \nL 416 3319 \nL 922 3319 \nL 922 2816 \nQ 1116 3169 1280 3281 \nQ 1444 3394 1641 3394 \nQ 1925 3394 2219 3213 \nL 2025 2691 \nQ 1819 2813 1613 2813 \nQ 1428 2813 1281 2702 \nQ 1134 2591 1072 2394 \nQ 978 2094 978 1738 \nL 978 0 \nL 416 0 \nz\n\" id=\"ArialMT-72\" transform=\"scale(0.015625)\"/>\n       <path d=\"M 425 3934 \nL 425 4581 \nL 988 4581 \nL 988 3934 \nL 425 3934 \nz\nM 425 0 \nL 425 3319 \nL 988 3319 \nL 988 0 \nL 425 0 \nz\n\" id=\"ArialMT-69\" transform=\"scale(0.015625)\"/>\n       <path d=\"M 2588 1216 \nL 3141 1144 \nQ 3050 572 2676 248 \nQ 2303 -75 1759 -75 \nQ 1078 -75 664 370 \nQ 250 816 250 1647 \nQ 250 2184 428 2587 \nQ 606 2991 970 3192 \nQ 1334 3394 1763 3394 \nQ 2303 3394 2647 3120 \nQ 2991 2847 3088 2344 \nL 2541 2259 \nQ 2463 2594 2264 2762 \nQ 2066 2931 1784 2931 \nQ 1359 2931 1093 2626 \nQ 828 2322 828 1663 \nQ 828 994 1084 691 \nQ 1341 388 1753 388 \nQ 2084 388 2306 591 \nQ 2528 794 2588 1216 \nz\n\" id=\"ArialMT-63\" transform=\"scale(0.015625)\"/>\n      </defs>\n      <use xlink:href=\"#ArialMT-70\"/>\n      <use x=\"55.615234\" xlink:href=\"#ArialMT-72\"/>\n      <use x=\"88.916016\" xlink:href=\"#ArialMT-69\"/>\n      <use x=\"111.132812\" xlink:href=\"#ArialMT-63\"/>\n      <use x=\"161.132812\" xlink:href=\"#ArialMT-65\"/>\n     </g>\n    </g>\n    <g id=\"text_15\">\n     <!-- 1e7 -->\n     <g style=\"fill:#262626;\" transform=\"translate(37.791406 15.073594)scale(0.11 -0.11)\">\n      <use xlink:href=\"#ArialMT-31\"/>\n      <use x=\"55.615234\" xlink:href=\"#ArialMT-65\"/>\n      <use x=\"111.230469\" xlink:href=\"#ArialMT-37\"/>\n     </g>\n    </g>\n   </g>\n   <g id=\"line2d_13\">\n    <path clip-path=\"url(#p7d9fb975b1)\" d=\"M 53.009588 206.551322 \nL 113.882315 199.589689 \nL 174.755043 199.965994 \nL 235.62777 203.917191 \nL 296.500497 199.589689 \nL 357.373224 202.411973 \n\" style=\"fill:none;stroke:#4c72b0;stroke-linecap:round;stroke-width:1.5;\"/>\n   </g>\n   <g id=\"line2d_14\">\n    <path clip-path=\"url(#p7d9fb975b1)\" d=\"M 53.009588 202.430788 \nL 113.882315 201.471212 \nL 174.755043 209.147823 \nL 235.62777 202.110929 \nL 296.500497 207.22867 \nL 357.373224 191.235731 \n\" style=\"fill:none;stroke:#dd8452;stroke-linecap:round;stroke-width:1.5;\"/>\n   </g>\n   <g id=\"line2d_15\">\n    <path clip-path=\"url(#p7d9fb975b1)\" d=\"M 53.009588 222.920565 \nL 113.882315 225.629957 \nL 174.755043 214.792389 \nL 235.62777 220.211173 \nL 296.500497 215.243955 \nL 357.373224 224.275261 \n\" style=\"fill:none;stroke:#55a868;stroke-linecap:round;stroke-width:1.5;\"/>\n   </g>\n   <g id=\"line2d_16\">\n    <path clip-path=\"url(#p7d9fb975b1)\" d=\"M 53.009588 180.247641 \nL 113.882315 200.568081 \nL 174.755043 205.986865 \nL 235.62777 199.890733 \nL 296.500497 189.053165 \nL 357.373224 199.213385 \n\" style=\"fill:none;stroke:#c44e52;stroke-linecap:round;stroke-width:1.5;\"/>\n   </g>\n   <g id=\"line2d_17\">\n    <path clip-path=\"url(#p7d9fb975b1)\" d=\"M 53.009588 72.210633 \nL 113.882315 56.405846 \nL 174.755043 53.244889 \nL 235.62777 76.16183 \nL 296.500497 58.776565 \nL 357.373224 27.95723 \n\" style=\"fill:none;stroke:#8172b3;stroke-linecap:round;stroke-width:1.5;\"/>\n   </g>\n   <g id=\"line2d_18\"/>\n   <g id=\"line2d_19\"/>\n   <g id=\"line2d_20\"/>\n   <g id=\"line2d_21\"/>\n   <g id=\"line2d_22\"/>\n   <g id=\"patch_3\">\n    <path d=\"M 37.791406 235.513594 \nL 37.791406 18.073594 \n\" style=\"fill:none;stroke:#ffffff;stroke-linecap:square;stroke-linejoin:miter;stroke-width:1.25;\"/>\n   </g>\n   <g id=\"patch_4\">\n    <path d=\"M 372.591406 235.513594 \nL 372.591406 18.073594 \n\" style=\"fill:none;stroke:#ffffff;stroke-linecap:square;stroke-linejoin:miter;stroke-width:1.25;\"/>\n   </g>\n   <g id=\"patch_5\">\n    <path d=\"M 37.791406 235.513594 \nL 372.591406 235.513594 \n\" style=\"fill:none;stroke:#ffffff;stroke-linecap:square;stroke-linejoin:miter;stroke-width:1.25;\"/>\n   </g>\n   <g id=\"patch_6\">\n    <path d=\"M 37.791406 18.073594 \nL 372.591406 18.073594 \n\" style=\"fill:none;stroke:#ffffff;stroke-linecap:square;stroke-linejoin:miter;stroke-width:1.25;\"/>\n   </g>\n   <g id=\"legend_1\">\n    <g id=\"patch_7\">\n     <path d=\"M 301.134531 175.580391 \nL 364.891406 175.580391 \nQ 367.091406 175.580391 367.091406 173.380391 \nL 367.091406 80.206797 \nQ 367.091406 78.006797 364.891406 78.006797 \nL 301.134531 78.006797 \nQ 298.934531 78.006797 298.934531 80.206797 \nL 298.934531 173.380391 \nQ 298.934531 175.580391 301.134531 175.580391 \nz\n\" style=\"fill:#eaeaf2;opacity:0.8;stroke:#cccccc;stroke-linejoin:miter;\"/>\n    </g>\n    <g id=\"text_16\">\n     <!-- item_name -->\n     <g style=\"fill:#262626;\" transform=\"translate(303.334531 90.996172)scale(0.12 -0.12)\">\n      <use xlink:href=\"#ArialMT-69\"/>\n      <use x=\"22.216797\" xlink:href=\"#ArialMT-74\"/>\n      <use x=\"50\" xlink:href=\"#ArialMT-65\"/>\n      <use x=\"105.615234\" xlink:href=\"#ArialMT-6d\"/>\n      <use x=\"188.916016\" xlink:href=\"#ArialMT-5f\"/>\n      <use x=\"244.53125\" xlink:href=\"#ArialMT-6e\"/>\n      <use x=\"300.146484\" xlink:href=\"#ArialMT-61\"/>\n      <use x=\"355.761719\" xlink:href=\"#ArialMT-6d\"/>\n      <use x=\"439.0625\" xlink:href=\"#ArialMT-65\"/>\n     </g>\n    </g>\n    <g id=\"line2d_23\">\n     <path d=\"M 304.168906 102.904766 \nL 326.168906 102.904766 \n\" style=\"fill:none;stroke:#4c72b0;stroke-linecap:round;stroke-width:1.5;\"/>\n    </g>\n    <g id=\"line2d_24\"/>\n    <g id=\"text_17\">\n     <!-- PC-A -->\n     <g style=\"fill:#262626;\" transform=\"translate(334.968906 106.754766)scale(0.11 -0.11)\">\n      <defs>\n       <path d=\"M 494 0 \nL 494 4581 \nL 2222 4581 \nQ 2678 4581 2919 4538 \nQ 3256 4481 3484 4323 \nQ 3713 4166 3852 3881 \nQ 3991 3597 3991 3256 \nQ 3991 2672 3619 2267 \nQ 3247 1863 2275 1863 \nL 1100 1863 \nL 1100 0 \nL 494 0 \nz\nM 1100 2403 \nL 2284 2403 \nQ 2872 2403 3119 2622 \nQ 3366 2841 3366 3238 \nQ 3366 3525 3220 3729 \nQ 3075 3934 2838 4000 \nQ 2684 4041 2272 4041 \nL 1100 4041 \nL 1100 2403 \nz\n\" id=\"ArialMT-50\" transform=\"scale(0.015625)\"/>\n       <path d=\"M 3763 1606 \nL 4369 1453 \nQ 4178 706 3683 314 \nQ 3188 -78 2472 -78 \nQ 1731 -78 1267 223 \nQ 803 525 561 1097 \nQ 319 1669 319 2325 \nQ 319 3041 592 3573 \nQ 866 4106 1370 4382 \nQ 1875 4659 2481 4659 \nQ 3169 4659 3637 4309 \nQ 4106 3959 4291 3325 \nL 3694 3184 \nQ 3534 3684 3231 3912 \nQ 2928 4141 2469 4141 \nQ 1941 4141 1586 3887 \nQ 1231 3634 1087 3207 \nQ 944 2781 944 2328 \nQ 944 1744 1114 1308 \nQ 1284 872 1643 656 \nQ 2003 441 2422 441 \nQ 2931 441 3284 734 \nQ 3638 1028 3763 1606 \nz\n\" id=\"ArialMT-43\" transform=\"scale(0.015625)\"/>\n       <path d=\"M 203 1375 \nL 203 1941 \nL 1931 1941 \nL 1931 1375 \nL 203 1375 \nz\n\" id=\"ArialMT-2d\" transform=\"scale(0.015625)\"/>\n       <path d=\"M -9 0 \nL 1750 4581 \nL 2403 4581 \nL 4278 0 \nL 3588 0 \nL 3053 1388 \nL 1138 1388 \nL 634 0 \nL -9 0 \nz\nM 1313 1881 \nL 2866 1881 \nL 2388 3150 \nQ 2169 3728 2063 4100 \nQ 1975 3659 1816 3225 \nL 1313 1881 \nz\n\" id=\"ArialMT-41\" transform=\"scale(0.015625)\"/>\n      </defs>\n      <use xlink:href=\"#ArialMT-50\"/>\n      <use x=\"66.699219\" xlink:href=\"#ArialMT-43\"/>\n      <use x=\"138.916016\" xlink:href=\"#ArialMT-2d\"/>\n      <use x=\"172.216797\" xlink:href=\"#ArialMT-41\"/>\n     </g>\n    </g>\n    <g id=\"line2d_25\">\n     <path d=\"M 304.168906 118.464609 \nL 326.168906 118.464609 \n\" style=\"fill:none;stroke:#dd8452;stroke-linecap:round;stroke-width:1.5;\"/>\n    </g>\n    <g id=\"line2d_26\"/>\n    <g id=\"text_18\">\n     <!-- PC-B -->\n     <g style=\"fill:#262626;\" transform=\"translate(334.968906 122.314609)scale(0.11 -0.11)\">\n      <defs>\n       <path d=\"M 469 0 \nL 469 4581 \nL 2188 4581 \nQ 2713 4581 3030 4442 \nQ 3347 4303 3526 4014 \nQ 3706 3725 3706 3409 \nQ 3706 3116 3547 2856 \nQ 3388 2597 3066 2438 \nQ 3481 2316 3704 2022 \nQ 3928 1728 3928 1328 \nQ 3928 1006 3792 729 \nQ 3656 453 3456 303 \nQ 3256 153 2954 76 \nQ 2653 0 2216 0 \nL 469 0 \nz\nM 1075 2656 \nL 2066 2656 \nQ 2469 2656 2644 2709 \nQ 2875 2778 2992 2937 \nQ 3109 3097 3109 3338 \nQ 3109 3566 3000 3739 \nQ 2891 3913 2687 3977 \nQ 2484 4041 1991 4041 \nL 1075 4041 \nL 1075 2656 \nz\nM 1075 541 \nL 2216 541 \nQ 2509 541 2628 563 \nQ 2838 600 2978 687 \nQ 3119 775 3209 942 \nQ 3300 1109 3300 1328 \nQ 3300 1584 3169 1773 \nQ 3038 1963 2805 2039 \nQ 2572 2116 2134 2116 \nL 1075 2116 \nL 1075 541 \nz\n\" id=\"ArialMT-42\" transform=\"scale(0.015625)\"/>\n      </defs>\n      <use xlink:href=\"#ArialMT-50\"/>\n      <use x=\"66.699219\" xlink:href=\"#ArialMT-43\"/>\n      <use x=\"138.916016\" xlink:href=\"#ArialMT-2d\"/>\n      <use x=\"172.216797\" xlink:href=\"#ArialMT-42\"/>\n     </g>\n    </g>\n    <g id=\"line2d_27\">\n     <path d=\"M 304.168906 134.024453 \nL 326.168906 134.024453 \n\" style=\"fill:none;stroke:#55a868;stroke-linecap:round;stroke-width:1.5;\"/>\n    </g>\n    <g id=\"line2d_28\"/>\n    <g id=\"text_19\">\n     <!-- PC-C -->\n     <g style=\"fill:#262626;\" transform=\"translate(334.968906 137.874453)scale(0.11 -0.11)\">\n      <use xlink:href=\"#ArialMT-50\"/>\n      <use x=\"66.699219\" xlink:href=\"#ArialMT-43\"/>\n      <use x=\"138.916016\" xlink:href=\"#ArialMT-2d\"/>\n      <use x=\"172.216797\" xlink:href=\"#ArialMT-43\"/>\n     </g>\n    </g>\n    <g id=\"line2d_29\">\n     <path d=\"M 304.168906 149.584297 \nL 326.168906 149.584297 \n\" style=\"fill:none;stroke:#c44e52;stroke-linecap:round;stroke-width:1.5;\"/>\n    </g>\n    <g id=\"line2d_30\"/>\n    <g id=\"text_20\">\n     <!-- PC-D -->\n     <g style=\"fill:#262626;\" transform=\"translate(334.968906 153.434297)scale(0.11 -0.11)\">\n      <defs>\n       <path d=\"M 494 0 \nL 494 4581 \nL 2072 4581 \nQ 2606 4581 2888 4516 \nQ 3281 4425 3559 4188 \nQ 3922 3881 4101 3404 \nQ 4281 2928 4281 2316 \nQ 4281 1794 4159 1391 \nQ 4038 988 3847 723 \nQ 3656 459 3429 307 \nQ 3203 156 2883 78 \nQ 2563 0 2147 0 \nL 494 0 \nz\nM 1100 541 \nL 2078 541 \nQ 2531 541 2789 625 \nQ 3047 709 3200 863 \nQ 3416 1078 3536 1442 \nQ 3656 1806 3656 2325 \nQ 3656 3044 3420 3430 \nQ 3184 3816 2847 3947 \nQ 2603 4041 2063 4041 \nL 1100 4041 \nL 1100 541 \nz\n\" id=\"ArialMT-44\" transform=\"scale(0.015625)\"/>\n      </defs>\n      <use xlink:href=\"#ArialMT-50\"/>\n      <use x=\"66.699219\" xlink:href=\"#ArialMT-43\"/>\n      <use x=\"138.916016\" xlink:href=\"#ArialMT-2d\"/>\n      <use x=\"172.216797\" xlink:href=\"#ArialMT-44\"/>\n     </g>\n    </g>\n    <g id=\"line2d_31\">\n     <path d=\"M 304.168906 165.144141 \nL 326.168906 165.144141 \n\" style=\"fill:none;stroke:#8172b3;stroke-linecap:round;stroke-width:1.5;\"/>\n    </g>\n    <g id=\"line2d_32\"/>\n    <g id=\"text_21\">\n     <!-- PC-E -->\n     <g style=\"fill:#262626;\" transform=\"translate(334.968906 168.994141)scale(0.11 -0.11)\">\n      <defs>\n       <path d=\"M 506 0 \nL 506 4581 \nL 3819 4581 \nL 3819 4041 \nL 1113 4041 \nL 1113 2638 \nL 3647 2638 \nL 3647 2100 \nL 1113 2100 \nL 1113 541 \nL 3925 541 \nL 3925 0 \nL 506 0 \nz\n\" id=\"ArialMT-45\" transform=\"scale(0.015625)\"/>\n      </defs>\n      <use xlink:href=\"#ArialMT-50\"/>\n      <use x=\"66.699219\" xlink:href=\"#ArialMT-43\"/>\n      <use x=\"138.916016\" xlink:href=\"#ArialMT-2d\"/>\n      <use x=\"172.216797\" xlink:href=\"#ArialMT-45\"/>\n     </g>\n    </g>\n   </g>\n  </g>\n </g>\n <defs>\n  <clipPath id=\"p7d9fb975b1\">\n   <rect height=\"217.44\" width=\"334.8\" x=\"37.791406\" y=\"18.073594\"/>\n  </clipPath>\n </defs>\n</svg>\n",
      "image/png": "[encoded data removed]"
     },
     "metadata": {}
    }
   ],
   "source": [
    "graph_data = transaction_join.groupby(['item_name', 'payment_month']).sum()\n",
    "sns.set()\n",
    "sns.lineplot(x='payment_month', y='price', hue='item_name', data=graph_data)"
   ]
  },
  {
   "cell_type": "code",
   "execution_count": null,
   "metadata": {},
   "outputs": [],
   "source": []
  }
 ],
 "metadata": {
  "orig_nbformat": 4,
  "language_info": {
   "name": "python",
   "version": "3.8.6",
   "mimetype": "text/x-python",
   "codemirror_mode": {
    "name": "ipython",
    "version": 3
   },
   "pygments_lexer": "ipython3",
   "nbconvert_exporter": "python",
   "file_extension": ".py"
  },
  "kernelspec": {
   "name": "python3",
   "display_name": "Python 3.8.6 64-bit ('3.8.6': pyenv)",
   "metadata": {
    "interpreter": {
     "hash": "def1443cd7b0494ffc099209d4c7259e5a8304e131c4a6b9a38e7324fcb0905b"
    }
   }
  },
  "interpreter": {
   "hash": "def1443cd7b0494ffc099209d4c7259e5a8304e131c4a6b9a38e7324fcb0905b"
  }
 },
 "nbformat": 4,
 "nbformat_minor": 2
}