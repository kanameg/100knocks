{
 "metadata": {
  "language_info": {
   "codemirror_mode": {
    "name": "ipython",
    "version": 3
   },
   "file_extension": ".py",
   "mimetype": "text/x-python",
   "name": "python",
   "nbconvert_exporter": "python",
   "pygments_lexer": "ipython3",
   "version": "3.8.6"
  },
  "orig_nbformat": 2,
  "kernelspec": {
   "name": "python3",
   "display_name": "Python 3.8.6 64-bit ('100knocks': venv)",
   "metadata": {
    "interpreter": {
     "hash": "d6e53e583481f9ee09476b10f969c257c6e723ef44c5790c4b40c1e45ab661d7"
    }
   }
  }
 },
 "nbformat": 4,
 "nbformat_minor": 2,
 "cells": [
  {
   "source": [
    "## 031 データを読み込んで確認する"
   ],
   "cell_type": "markdown",
   "metadata": {}
  },
  {
   "cell_type": "code",
   "execution_count": null,
   "metadata": {},
   "outputs": [],
   "source": [
    "import pandas as pd\n",
    "uselog = pd.read_csv('./input/100knoks/03/use_log.csv')\n",
    "uselog.isnull().sum()"
   ]
  },
  {
   "cell_type": "code",
   "execution_count": null,
   "metadata": {},
   "outputs": [],
   "source": [
    "customer = pd.read_csv('./input/100knoks/03/customer_join.csv')\n",
    "customer.isnull().sum()"
   ]
  },
  {
   "source": [
    "## 032 クラスタリングで顧客をグループ化"
   ],
   "cell_type": "markdown",
   "metadata": {}
  },
  {
   "cell_type": "code",
   "execution_count": null,
   "metadata": {},
   "outputs": [],
   "source": [
    "customer_clustering = customer[['mean', 'median', 'max', 'min', 'membership_period']].copy()\n",
    "customer_clustering.head()"
   ]
  },
  {
   "cell_type": "code",
   "execution_count": null,
   "metadata": {},
   "outputs": [],
   "source": [
    "from sklearn.cluster import KMeans\n",
    "from sklearn.preprocessing import StandardScaler\n",
    "sc = StandardScaler()\n",
    "customer_clustering_sc = sc.fit_transform(customer_clustering)\n",
    "customer_clustering_sc"
   ]
  },
  {
   "cell_type": "code",
   "execution_count": null,
   "metadata": {},
   "outputs": [],
   "source": [
    "kmeans = KMeans(n_clusters=4, random_state=0)\n",
    "clusters = kmeans.fit(customer_clustering_sc)\n",
    "customer_clustering['cluster'] = clusters.labels_\n",
    "print(customer_clustering['cluster'].unique())\n",
    "customer_clustering.head()"
   ]
  },
  {
   "source": [
    "## 033 クラスタリング結果の分析"
   ],
   "cell_type": "markdown",
   "metadata": {}
  },
  {
   "cell_type": "code",
   "execution_count": null,
   "metadata": {},
   "outputs": [],
   "source": [
    "customer_clustering.columns = ['月内平均', '月内中央値', '月内最大値', '月内最小値', '会員期間', 'cluster']\n",
    "customer_clustering.groupby('cluster').count()"
   ]
  },
  {
   "cell_type": "code",
   "execution_count": null,
   "metadata": {},
   "outputs": [],
   "source": [
    "customer_clustering.groupby('cluster').mean()"
   ]
  },
  {
   "source": [
    "### 解析\n",
    "クループ0: 会員期間が長いが利用率が高いグループ  \n",
    "グループ1: 会員期間が最も長い  \n",
    "グループ2: 会員期間が短く利用率も低いグループ  \n",
    "グループ3: 会員期間が平均的に長く、利用率も平均的なグループ"
   ],
   "cell_type": "markdown",
   "metadata": {}
  },
  {
   "source": [
    "## 034  クラスタリング結果の可視化\n",
    "主成分分析を行い次元を削除し2次元での可視化を行う。"
   ],
   "cell_type": "markdown",
   "metadata": {}
  },
  {
   "cell_type": "code",
   "execution_count": null,
   "metadata": {},
   "outputs": [],
   "source": [
    "from  sklearn.decomposition import PCA\n",
    "X = customer_clustering_sc\n",
    "pca = PCA(n_components=2)\n",
    "pca.fit(X)\n",
    "x_pca = pca.transform(X)\n",
    "pca_df = pd.DataFrame(x_pca)\n",
    "pca_df['cluster'] = customer_clustering['cluster']\n",
    "pca_df"
   ]
  },
  {
   "cell_type": "code",
   "execution_count": null,
   "metadata": {},
   "outputs": [],
   "source": [
    "import seaborn as sns\n",
    "sns.scatterplot(data=pca_df, x=0, y=1, hue='cluster')"
   ]
  },
  {
   "cell_type": "code",
   "execution_count": null,
   "metadata": {},
   "outputs": [],
   "source": [
    "import seaborn as sns\n",
    "sns.set(font='Ricty')\n",
    "sns.scatterplot(data=customer_clustering, x='会員期間', y='月内平均', hue='cluster')"
   ]
  },
  {
   "source": [
    "## 035 クラスタリング結果から退会顧客の傾向を把握"
   ],
   "cell_type": "markdown",
   "metadata": {}
  },
  {
   "cell_type": "code",
   "execution_count": null,
   "metadata": {},
   "outputs": [],
   "source": [
    "customer_clustering = pd.concat([customer_clustering, customer], axis=1)\n",
    "customer_clustering.groupby(['cluster', 'is_deleted'], as_index=False).count()[['cluster', 'is_deleted', 'customer_id']]"
   ]
  },
  {
   "cell_type": "code",
   "execution_count": null,
   "metadata": {},
   "outputs": [],
   "source": [
    "customer_clustering.groupby(['cluster', 'routine_flg'], as_index=False).count()[['cluster', 'routine_flg', 'customer_id']]"
   ]
  },
  {
   "source": [
    "## 036 翌月の利用回数予測を行う準備"
   ],
   "cell_type": "markdown",
   "metadata": {}
  },
  {
   "cell_type": "code",
   "execution_count": null,
   "metadata": {},
   "outputs": [],
   "source": [
    "uselog['usedate'] = pd.to_datetime(uselog['usedate'])\n",
    "uselog['年月'] = uselog['usedate'].dt.strftime(\"%Y%m\")\n",
    "uselog_months = uselog.groupby(['年月', 'customer_id'], as_index=False).count()\n",
    "uselog_months.rename(columns={'log_id': 'count'}, inplace=True)\n",
    "del uselog_months['usedate']\n",
    "uselog_months"
   ]
  },
  {
   "cell_type": "code",
   "execution_count": null,
   "metadata": {},
   "outputs": [],
   "source": [
    "year_months = list(uselog_months['年月'].unique())\n",
    "print(year_months)\n",
    "predict_date = pd.DataFrame()\n",
    "for i in range(6, len(year_months)):\n",
    "    tmp = uselog_months.loc[uselog_months['年月'] == year_months[i]].copy()\n",
    "    tmp.rename(columns={'count': 'count_pred'}, inplace=True)\n",
    "    for j in range(1, 7):\n",
    "        tmp_before = uselog_months.loc[uselog_months['年月'] == year_months[i-j]].copy()\n",
    "        del tmp_before['年月']\n",
    "        tmp_before.rename(columns={'count': \"count_{}\".format(j-1)}, inplace=True)\n",
    "        tmp = pd.merge(tmp, tmp_before, on='customer_id', how='left')\n",
    "    predict_date = pd.concat([predict_date, tmp], ignore_index=True)\n",
    "predict_date.head()"
   ]
  },
  {
   "source": [
    "### 6ヶ月以上利用者に限定"
   ],
   "cell_type": "markdown",
   "metadata": {}
  },
  {
   "cell_type": "code",
   "execution_count": null,
   "metadata": {},
   "outputs": [],
   "source": [
    "predict_date = predict_date.dropna()\n",
    "predict_date = predict_date.reset_index(drop=True)\n",
    "predict_date.head()"
   ]
  },
  {
   "cell_type": "code",
   "execution_count": null,
   "metadata": {},
   "outputs": [],
   "source": [
    "predict_date = pd.merge(predict_date, customer[['customer_id', 'start_date']], on='customer_id', how='left')\n",
    "predict_date.head()"
   ]
  },
  {
   "cell_type": "code",
   "execution_count": null,
   "metadata": {},
   "outputs": [],
   "source": [
    "predict_date['now_date'] = pd.to_datetime(predict_date['年月'], format=\"%Y%m\")\n",
    "predict_date['start_date'] = pd.to_datetime(predict_date['start_date'])\n",
    "\n",
    "from dateutil.relativedelta import relativedelta\n",
    "predict_date['period'] = None\n",
    "for i in range(len(predict_date)):\n",
    "    delta = relativedelta(predict_date['now_date'][i], predict_date['start_date'][i])\n",
    "    predict_date.loc[i, 'period'] = delta.years * 12 + delta.months\n",
    "predict_date.head()"
   ]
  },
  {
   "source": [
    "## 038 来月の利用回数予測モデルを作成\n"
   ],
   "cell_type": "markdown",
   "metadata": {}
  },
  {
   "cell_type": "code",
   "execution_count": null,
   "metadata": {},
   "outputs": [],
   "source": [
    "predict_date = predict_date.loc[predict_date['start_date'] >= pd.to_datetime('20180401')]\n",
    "predict_date.head()"
   ]
  },
  {
   "cell_type": "code",
   "execution_count": null,
   "metadata": {},
   "outputs": [],
   "source": [
    "from sklearn import linear_model\n",
    "import sklearn.model_selection\n",
    "\n",
    "model = linear_model.LinearRegression()\n",
    "X = predict_date[['count_0', 'count_1', 'count_2', 'count_3', 'count_4', 'count_5', 'period']]\n",
    "y = predict_date['count_pred']\n",
    "X_train, X_test, y_train, y_test = sklearn.model_selection.train_test_split(X, y)\n",
    "model.fit(X_train, y_train)\n"
   ]
  },
  {
   "cell_type": "code",
   "execution_count": null,
   "metadata": {},
   "outputs": [],
   "source": [
    "print(model.score(X_train, y_train))\n",
    "print(model.score(X_test, y_test))"
   ]
  },
  {
   "source": [
    "## 039 モデルに寄与している変数を確認"
   ],
   "cell_type": "markdown",
   "metadata": {}
  },
  {
   "cell_type": "code",
   "execution_count": null,
   "metadata": {},
   "outputs": [],
   "source": [
    "coef = pd.DataFrame({'feature_names': X.columns, 'coefficient': model.coef_})\n",
    "coef"
   ]
  },
  {
   "cell_type": "code",
   "execution_count": null,
   "metadata": {},
   "outputs": [],
   "source": [
    "x1 = [3, 4, 4, 6, 8, 7, 8]\n",
    "x2 = [2, 2, 3, 3, 4, 6, 8]\n",
    "x_pred = [x1, x2]"
   ]
  },
  {
   "cell_type": "code",
   "execution_count": null,
   "metadata": {},
   "outputs": [],
   "source": [
    "model.predict(x_pred)"
   ]
  },
  {
   "cell_type": "code",
   "execution_count": null,
   "metadata": {},
   "outputs": [],
   "source": [
    "uselog_months.to_csv('./input/100knoks/03/use_log_months.csv', index=False)"
   ]
  },
  {
   "cell_type": "code",
   "execution_count": null,
   "metadata": {},
   "outputs": [],
   "source": []
  }
 ]
}